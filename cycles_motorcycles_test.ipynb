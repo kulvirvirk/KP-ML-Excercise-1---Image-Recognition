{
 "cells": [
  {
   "cell_type": "code",
   "execution_count": 1,
   "metadata": {},
   "outputs": [
    {
     "name": "stdout",
     "output_type": "stream",
     "text": [
      "Hello world!\n"
     ]
    }
   ],
   "source": [
    "print('Hello world!')"
   ]
  },
  {
   "cell_type": "code",
   "execution_count": 3,
   "metadata": {},
   "outputs": [],
   "source": [
    "from fastai.vision import *"
   ]
  },
  {
   "cell_type": "code",
   "execution_count": null,
   "metadata": {},
   "outputs": [],
   "source": [
    "def download_image(url,dest, timeout=4):\n",
    "    try: r = download_url(url, dest, overwrite=True, show_progress=False, timeout=timeout)\n",
    "    except Exception as e: print(f\"Error {url} {e}\")\n",
    "\n",
    "def _download_image_inner(dest, url, i, timeout=4):\n",
    "    suffix = re.findall(r'\\.\\w+?(?=(?:\\?|$))', url)\n",
    "    suffix = suffix[0] if len(suffix)>0  else '.jpg'\n",
    "    download_image(url, dest/f\"{i:08d}{suffix}\", timeout=timeout)\n",
    "\n",
    "def download_images(urls:Union[Path, str], dest:PathOrStr, max_pics:int=1000, max_workers:int=8, timeout=4):\n",
    "    \"Download images listed in text file `urls` to path `dest`, at most `max_pics`\"\n",
    "    urls = list(filter(None, open(urls).read().strip().split(\"\\n\")))[:max_pics]       \n",
    "    dest = Path(dest)\n",
    "    dest.mkdir(exist_ok=True)\n",
    "    parallel(partial(_download_image_inner, dest, timeout=timeout), urls, max_workers=max_workers)\n",
    "    \n",
    "def download_url(url:str, dest:str, overwrite:bool=False, pbar:ProgressBar=None,\n",
    "                 show_progress=False, chunk_size=1024*1024, timeout=4, retries=5)->None:\n",
    "    \"Download `url` to `dest` unless it exists and not `overwrite`.\"\n",
    "    if os.path.exists(dest) and not overwrite: return\n",
    "\n",
    "    s = requests.Session()\n",
    "    s.mount('http://',requests.adapters.HTTPAdapter(max_retries=retries))\n",
    "    # additional line to identify as a firefox browser, see #2438\n",
    "    s.headers.update({'User-Agent': 'Mozilla/5.0 (X11; Ubuntu; Linux x86_64; rv:71.0) Gecko/20100101 Firefox/71.0'}) \n",
    "    u = s.get(url, stream=True, timeout=timeout, verify=False)\n",
    "    try: file_size = int(u.headers[\"Content-Length\"])\n",
    "    except: show_progress = False\n",
    "\n",
    "    with open(dest, 'wb') as f:\n",
    "        nbytes = 0\n",
    "        if show_progress: pbar = progress_bar(range(file_size), leave=False, parent=pbar)\n",
    "        try:\n",
    "            if show_progress: pbar.update(0)\n",
    "            for chunk in u.iter_content(chunk_size=chunk_size):\n",
    "                nbytes += len(chunk)\n",
    "                if show_progress: pbar.update(nbytes)\n",
    "                f.write(chunk)\n",
    "        except requests.exceptions.ConnectionError as e:\n",
    "            fname = url.split('/')[-1]\n",
    "            from fastai.datasets import Config\n",
    "            data_dir = Config().data_path()\n",
    "            timeout_txt =(f'\\n Download of {url} has failed after {retries} retries\\n'\n",
    "                          f' Fix the download manually:\\n'\n",
    "                          f'$ mkdir -p {data_dir}\\n'\n",
    "                          f'$ cd {data_dir}\\n'\n",
    "                          f'$ wget -c {url}\\n'\n",
    "                          f'$ tar -zxvf {fname}\\n\\n'\n",
    "                          f'And re-run your code once the download is successful\\n')\n",
    "            print(timeout_txt)\n",
    "            import sys;sys.exit(1)"
   ]
  },
  {
   "cell_type": "markdown",
   "metadata": {},
   "source": [
    "# Download Images"
   ]
  },
  {
   "cell_type": "code",
   "execution_count": 5,
   "metadata": {},
   "outputs": [],
   "source": [
    "path = Path('C:/Users/w290705/Desktop/MachineLearningProjs/cycle_motorcycles_data/data')"
   ]
  },
  {
   "cell_type": "code",
   "execution_count": 7,
   "metadata": {},
   "outputs": [
    {
     "data": {
      "text/html": [],
      "text/plain": [
       "<IPython.core.display.HTML object>"
      ]
     },
     "metadata": {},
     "output_type": "display_data"
    },
    {
     "name": "stdout",
     "output_type": "stream",
     "text": [
      "Error https://encrypted-tbn0.gstatic.com/images?q=tbn%3AANd9GcQCIluion0ep_KQI__li9fl_Vo-zdgtWuT73xdBgDWPBea3PuFq HTTPSConnectionPool(host='encrypted-tbn0.gstatic.com', port=443): Max retries exceeded with url: /images?q=tbn%3AANd9GcQCIluion0ep_KQI__li9fl_Vo-zdgtWuT73xdBgDWPBea3PuFq (Caused by SSLError(SSLError(\"bad handshake: Error([('SSL routines', 'tls_process_server_certificate', 'certificate verify failed')])\")))\n",
      "Error https://encrypted-tbn0.gstatic.com/images?q=tbn%3AANd9GcQ7GDJw5bzNN3QI48uMMRJ-sWNt7S1j3UUy7l9IQ8F1cY4FsM0i HTTPSConnectionPool(host='encrypted-tbn0.gstatic.com', port=443): Max retries exceeded with url: /images?q=tbn%3AANd9GcQ7GDJw5bzNN3QI48uMMRJ-sWNt7S1j3UUy7l9IQ8F1cY4FsM0i (Caused by SSLError(SSLError(\"bad handshake: Error([('SSL routines', 'tls_process_server_certificate', 'certificate verify failed')])\")))\n",
      "Error https://encrypted-tbn0.gstatic.com/images?q=tbn%3AANd9GcS4pFooWDSxgyx4END-P3in9QXkI_5xAezUO-m5cT2my-Bgw_kC HTTPSConnectionPool(host='encrypted-tbn0.gstatic.com', port=443): Max retries exceeded with url: /images?q=tbn%3AANd9GcS4pFooWDSxgyx4END-P3in9QXkI_5xAezUO-m5cT2my-Bgw_kC (Caused by SSLError(SSLError(\"bad handshake: Error([('SSL routines', 'tls_process_server_certificate', 'certificate verify failed')])\")))\n",
      "Error https://encrypted-tbn0.gstatic.com/images?q=tbn%3AANd9GcRn0Du5VhCxXNuAJfL77RvlPE1XkzmQswTOZBBtOuvDeOBr_wHJ HTTPSConnectionPool(host='encrypted-tbn0.gstatic.com', port=443): Max retries exceeded with url: /images?q=tbn%3AANd9GcRn0Du5VhCxXNuAJfL77RvlPE1XkzmQswTOZBBtOuvDeOBr_wHJ (Caused by SSLError(SSLError(\"bad handshake: Error([('SSL routines', 'tls_process_server_certificate', 'certificate verify failed')])\")))\n",
      "Error https://encrypted-tbn0.gstatic.com/images?q=tbn%3AANd9GcQ9pX59fmmhoZnUY0W7DitSfP6ls251tSEUw6AWFo_Tmam1R66M HTTPSConnectionPool(host='encrypted-tbn0.gstatic.com', port=443): Max retries exceeded with url: /images?q=tbn%3AANd9GcQ9pX59fmmhoZnUY0W7DitSfP6ls251tSEUw6AWFo_Tmam1R66M (Caused by SSLError(SSLError(\"bad handshake: Error([('SSL routines', 'tls_process_server_certificate', 'certificate verify failed')])\")))\n",
      "Error https://encrypted-tbn0.gstatic.com/images?q=tbn%3AANd9GcS3_Yy2TRyPLEZ-E73tTNog0_gDukpvzCDvTbjNwsxYYK-c_8jl HTTPSConnectionPool(host='encrypted-tbn0.gstatic.com', port=443): Max retries exceeded with url: /images?q=tbn%3AANd9GcS3_Yy2TRyPLEZ-E73tTNog0_gDukpvzCDvTbjNwsxYYK-c_8jl (Caused by SSLError(SSLError(\"bad handshake: Error([('SSL routines', 'tls_process_server_certificate', 'certificate verify failed')])\")))\n",
      "Error https://encrypted-tbn0.gstatic.com/images?q=tbn%3AANd9GcQ327er4aAwf99NprXGWmt-d0IO6G9r6yrTCkL7A2uq-LF2B1Q7 HTTPSConnectionPool(host='encrypted-tbn0.gstatic.com', port=443): Max retries exceeded with url: /images?q=tbn%3AANd9GcQ327er4aAwf99NprXGWmt-d0IO6G9r6yrTCkL7A2uq-LF2B1Q7 (Caused by SSLError(SSLError(\"bad handshake: Error([('SSL routines', 'tls_process_server_certificate', 'certificate verify failed')])\")))\n",
      "Error https://encrypted-tbn0.gstatic.com/images?q=tbn%3AANd9GcS6ej0yZU2HYpEsu5e87Kk4JJT_O2_2gs2XOrgGdcDUUwR-xvPA HTTPSConnectionPool(host='encrypted-tbn0.gstatic.com', port=443): Max retries exceeded with url: /images?q=tbn%3AANd9GcS6ej0yZU2HYpEsu5e87Kk4JJT_O2_2gs2XOrgGdcDUUwR-xvPA (Caused by SSLError(SSLError(\"bad handshake: Error([('SSL routines', 'tls_process_server_certificate', 'certificate verify failed')])\")))\n",
      "Error https://encrypted-tbn0.gstatic.com/images?q=tbn%3AANd9GcSUgK6aHlogvr21k5KWSf9ce36pKwaJWGqCSivqmROOxAFDbXw4 HTTPSConnectionPool(host='encrypted-tbn0.gstatic.com', port=443): Max retries exceeded with url: /images?q=tbn%3AANd9GcSUgK6aHlogvr21k5KWSf9ce36pKwaJWGqCSivqmROOxAFDbXw4 (Caused by SSLError(SSLError(\"bad handshake: Error([('SSL routines', 'tls_process_server_certificate', 'certificate verify failed')])\")))\n",
      "Error https://encrypted-tbn0.gstatic.com/images?q=tbn%3AANd9GcTaXH8b8tj9OY2X6g1ketWVE7oPSe5Eo5qjxbgQckjo5I8ph0JV HTTPSConnectionPool(host='encrypted-tbn0.gstatic.com', port=443): Max retries exceeded with url: /images?q=tbn%3AANd9GcTaXH8b8tj9OY2X6g1ketWVE7oPSe5Eo5qjxbgQckjo5I8ph0JV (Caused by SSLError(SSLError(\"bad handshake: Error([('SSL routines', 'tls_process_server_certificate', 'certificate verify failed')])\")))\n",
      "Error https://encrypted-tbn0.gstatic.com/images?q=tbn%3AANd9GcQ5ZoLp3CHojBW0saAAzraWSvyP02Q0tBaiUXh33u_3-47ndgob HTTPSConnectionPool(host='encrypted-tbn0.gstatic.com', port=443): Max retries exceeded with url: /images?q=tbn%3AANd9GcQ5ZoLp3CHojBW0saAAzraWSvyP02Q0tBaiUXh33u_3-47ndgob (Caused by SSLError(SSLError(\"bad handshake: Error([('SSL routines', 'tls_process_server_certificate', 'certificate verify failed')])\")))\n",
      "Error https://encrypted-tbn0.gstatic.com/images?q=tbn%3AANd9GcRKS1YgObRTCvJU2JlWTtWSjqFiuuO2ttXQoaqZMqQx51ZjKJdf HTTPSConnectionPool(host='encrypted-tbn0.gstatic.com', port=443): Max retries exceeded with url: /images?q=tbn%3AANd9GcRKS1YgObRTCvJU2JlWTtWSjqFiuuO2ttXQoaqZMqQx51ZjKJdf (Caused by SSLError(SSLError(\"bad handshake: Error([('SSL routines', 'tls_process_server_certificate', 'certificate verify failed')])\")))\n",
      "Error https://encrypted-tbn0.gstatic.com/images?q=tbn%3AANd9GcS0oSffi27DhXllBtQoSvwPayWeWR4qng8M1Kd84EVGA5mcGtpE HTTPSConnectionPool(host='encrypted-tbn0.gstatic.com', port=443): Max retries exceeded with url: /images?q=tbn%3AANd9GcS0oSffi27DhXllBtQoSvwPayWeWR4qng8M1Kd84EVGA5mcGtpE (Caused by SSLError(SSLError(\"bad handshake: Error([('SSL routines', 'tls_process_server_certificate', 'certificate verify failed')])\")))\n",
      "Error https://encrypted-tbn0.gstatic.com/images?q=tbn%3AANd9GcSPwzutm8sgRyDl4ftRCV6IHwCgACm9bSCuMq_luyGLIwSC3V43 HTTPSConnectionPool(host='encrypted-tbn0.gstatic.com', port=443): Max retries exceeded with url: /images?q=tbn%3AANd9GcSPwzutm8sgRyDl4ftRCV6IHwCgACm9bSCuMq_luyGLIwSC3V43 (Caused by SSLError(SSLError(\"bad handshake: Error([('SSL routines', 'tls_process_server_certificate', 'certificate verify failed')])\")))\n",
      "Error https://encrypted-tbn0.gstatic.com/images?q=tbn%3AANd9GcTSGM4_86uTvv1vPXLFFh5RcSz8MrEO6s4DYF_fV3iSaNNp6A8C HTTPSConnectionPool(host='encrypted-tbn0.gstatic.com', port=443): Max retries exceeded with url: /images?q=tbn%3AANd9GcTSGM4_86uTvv1vPXLFFh5RcSz8MrEO6s4DYF_fV3iSaNNp6A8C (Caused by SSLError(SSLError(\"bad handshake: Error([('SSL routines', 'tls_process_server_certificate', 'certificate verify failed')])\")))\n",
      "Error https://encrypted-tbn0.gstatic.com/images?q=tbn%3AANd9GcQuY8JIdUXzxy6A0WJKV-4rWERfSgJCn2uxmlrJ_1r5nofcYrGw HTTPSConnectionPool(host='encrypted-tbn0.gstatic.com', port=443): Max retries exceeded with url: /images?q=tbn%3AANd9GcQuY8JIdUXzxy6A0WJKV-4rWERfSgJCn2uxmlrJ_1r5nofcYrGw (Caused by SSLError(SSLError(\"bad handshake: Error([('SSL routines', 'tls_process_server_certificate', 'certificate verify failed')])\")))\n",
      "Error https://encrypted-tbn0.gstatic.com/images?q=tbn%3AANd9GcRpnhmQBWhmJRNuN2cRwW1wPB8kC8WRdUGR5fFFo-0iozUpQyZm HTTPSConnectionPool(host='encrypted-tbn0.gstatic.com', port=443): Max retries exceeded with url: /images?q=tbn%3AANd9GcRpnhmQBWhmJRNuN2cRwW1wPB8kC8WRdUGR5fFFo-0iozUpQyZm (Caused by SSLError(SSLError(\"bad handshake: Error([('SSL routines', 'tls_process_server_certificate', 'certificate verify failed')])\")))\n",
      "Error https://encrypted-tbn0.gstatic.com/images?q=tbn%3AANd9GcQnwIFJYGdHEOL4__Z2vLdK3Mor_JyiiHBZLYhb6ofbvFKEwNrC HTTPSConnectionPool(host='encrypted-tbn0.gstatic.com', port=443): Max retries exceeded with url: /images?q=tbn%3AANd9GcQnwIFJYGdHEOL4__Z2vLdK3Mor_JyiiHBZLYhb6ofbvFKEwNrC (Caused by SSLError(SSLError(\"bad handshake: Error([('SSL routines', 'tls_process_server_certificate', 'certificate verify failed')])\")))\n",
      "Error https://encrypted-tbn0.gstatic.com/images?q=tbn%3AANd9GcQSHddZPgDpq0-KTZlPGUapaOR0COc_mB6y9NTn9UZj8sc0zJ6k HTTPSConnectionPool(host='encrypted-tbn0.gstatic.com', port=443): Max retries exceeded with url: /images?q=tbn%3AANd9GcQSHddZPgDpq0-KTZlPGUapaOR0COc_mB6y9NTn9UZj8sc0zJ6k (Caused by SSLError(SSLError(\"bad handshake: Error([('SSL routines', 'tls_process_server_certificate', 'certificate verify failed')])\")))\n",
      "Error https://encrypted-tbn0.gstatic.com/images?q=tbn%3AANd9GcQpjTdVoDzzowvyPm2ABkKht1uNuQMG9HSLCWpljPh0NBZhbkrQ HTTPSConnectionPool(host='encrypted-tbn0.gstatic.com', port=443): Max retries exceeded with url: /images?q=tbn%3AANd9GcQpjTdVoDzzowvyPm2ABkKht1uNuQMG9HSLCWpljPh0NBZhbkrQ (Caused by SSLError(SSLError(\"bad handshake: Error([('SSL routines', 'tls_process_server_certificate', 'certificate verify failed')])\")))\n"
     ]
    },
    {
     "name": "stdout",
     "output_type": "stream",
     "text": [
      "Error https://encrypted-tbn0.gstatic.com/images?q=tbn%3AANd9GcTiWXXP1UtxObOwEryCLQ8gsF-8wVhIrR1hXIp_RieQ8ueUMzCA HTTPSConnectionPool(host='encrypted-tbn0.gstatic.com', port=443): Max retries exceeded with url: /images?q=tbn%3AANd9GcTiWXXP1UtxObOwEryCLQ8gsF-8wVhIrR1hXIp_RieQ8ueUMzCA (Caused by SSLError(SSLError(\"bad handshake: Error([('SSL routines', 'tls_process_server_certificate', 'certificate verify failed')])\")))\n",
      "Error https://encrypted-tbn0.gstatic.com/images?q=tbn%3AANd9GcRJwD1oQptTes15K11AIafD7sPT0Oa4OUt7KWYNrp-gc_CXg26P HTTPSConnectionPool(host='encrypted-tbn0.gstatic.com', port=443): Max retries exceeded with url: /images?q=tbn%3AANd9GcRJwD1oQptTes15K11AIafD7sPT0Oa4OUt7KWYNrp-gc_CXg26P (Caused by SSLError(SSLError(\"bad handshake: Error([('SSL routines', 'tls_process_server_certificate', 'certificate verify failed')])\")))\n",
      "Error https://encrypted-tbn0.gstatic.com/images?q=tbn%3AANd9GcT2HxQDh_NU2EYlwrJdq5AJHkM6D_Qx_HGQzvaOsOjd7_klTKE1 HTTPSConnectionPool(host='encrypted-tbn0.gstatic.com', port=443): Max retries exceeded with url: /images?q=tbn%3AANd9GcT2HxQDh_NU2EYlwrJdq5AJHkM6D_Qx_HGQzvaOsOjd7_klTKE1 (Caused by SSLError(SSLError(\"bad handshake: Error([('SSL routines', 'tls_process_server_certificate', 'certificate verify failed')])\")))\n",
      "Error https://encrypted-tbn0.gstatic.com/images?q=tbn%3AANd9GcQFvXrMFRtBuamKfdx125TTaPhtffJqlXDzOizZ9962DfbqqbtY HTTPSConnectionPool(host='encrypted-tbn0.gstatic.com', port=443): Max retries exceeded with url: /images?q=tbn%3AANd9GcQFvXrMFRtBuamKfdx125TTaPhtffJqlXDzOizZ9962DfbqqbtY (Caused by SSLError(SSLError(\"bad handshake: Error([('SSL routines', 'tls_process_server_certificate', 'certificate verify failed')])\")))\n",
      "Error https://encrypted-tbn0.gstatic.com/images?q=tbn%3AANd9GcSDzqbs32SgtMOPkLchPwMjCERCPuqUg3PYYI6AGc57i05QFNw3 HTTPSConnectionPool(host='encrypted-tbn0.gstatic.com', port=443): Max retries exceeded with url: /images?q=tbn%3AANd9GcSDzqbs32SgtMOPkLchPwMjCERCPuqUg3PYYI6AGc57i05QFNw3 (Caused by SSLError(SSLError(\"bad handshake: Error([('SSL routines', 'tls_process_server_certificate', 'certificate verify failed')])\")))\n",
      "Error https://encrypted-tbn0.gstatic.com/images?q=tbn%3AANd9GcStoREXETPRFpKIDA4prAXt8heSD0FByGOU4KP35MH6m-uS4eKu HTTPSConnectionPool(host='encrypted-tbn0.gstatic.com', port=443): Max retries exceeded with url: /images?q=tbn%3AANd9GcStoREXETPRFpKIDA4prAXt8heSD0FByGOU4KP35MH6m-uS4eKu (Caused by SSLError(SSLError(\"bad handshake: Error([('SSL routines', 'tls_process_server_certificate', 'certificate verify failed')])\")))\n",
      "Error https://encrypted-tbn0.gstatic.com/images?q=tbn%3AANd9GcTgK4KexxNw7WddlCmsds7a8_CAptvY6L_7xw_ls1rosyiC0JFh HTTPSConnectionPool(host='encrypted-tbn0.gstatic.com', port=443): Max retries exceeded with url: /images?q=tbn%3AANd9GcTgK4KexxNw7WddlCmsds7a8_CAptvY6L_7xw_ls1rosyiC0JFh (Caused by SSLError(SSLError(\"bad handshake: Error([('SSL routines', 'tls_process_server_certificate', 'certificate verify failed')])\")))\n",
      "Error https://encrypted-tbn0.gstatic.com/images?q=tbn%3AANd9GcRztgz3gJW6hyP4IksXD5yx9Pst8QEgrjmiLZcGbcpMgL3SptGY HTTPSConnectionPool(host='encrypted-tbn0.gstatic.com', port=443): Max retries exceeded with url: /images?q=tbn%3AANd9GcRztgz3gJW6hyP4IksXD5yx9Pst8QEgrjmiLZcGbcpMgL3SptGY (Caused by SSLError(SSLError(\"bad handshake: Error([('SSL routines', 'tls_process_server_certificate', 'certificate verify failed')])\")))\n",
      "Error https://encrypted-tbn0.gstatic.com/images?q=tbn%3AANd9GcTuXEuRpBd65r7hH8kHMcxGIKmQBs0TGrUc6rTId7ok9R1bPnKx HTTPSConnectionPool(host='encrypted-tbn0.gstatic.com', port=443): Max retries exceeded with url: /images?q=tbn%3AANd9GcTuXEuRpBd65r7hH8kHMcxGIKmQBs0TGrUc6rTId7ok9R1bPnKx (Caused by SSLError(SSLError(\"bad handshake: Error([('SSL routines', 'tls_process_server_certificate', 'certificate verify failed')])\")))\n",
      "Error https://encrypted-tbn0.gstatic.com/images?q=tbn%3AANd9GcRvZpVfP2dgEJxX2ZqLrM8vePwXhc5olYMjekQjEcDHeeMyC2dd HTTPSConnectionPool(host='encrypted-tbn0.gstatic.com', port=443): Max retries exceeded with url: /images?q=tbn%3AANd9GcRvZpVfP2dgEJxX2ZqLrM8vePwXhc5olYMjekQjEcDHeeMyC2dd (Caused by SSLError(SSLError(\"bad handshake: Error([('SSL routines', 'tls_process_server_certificate', 'certificate verify failed')])\")))\n",
      "Error https://encrypted-tbn0.gstatic.com/images?q=tbn%3AANd9GcR3rybu2JQt2G1n1gjnd8lQVg3dYOjYjaZhEmrwnyENYo5FLtLY HTTPSConnectionPool(host='encrypted-tbn0.gstatic.com', port=443): Max retries exceeded with url: /images?q=tbn%3AANd9GcR3rybu2JQt2G1n1gjnd8lQVg3dYOjYjaZhEmrwnyENYo5FLtLY (Caused by SSLError(SSLError(\"bad handshake: Error([('SSL routines', 'tls_process_server_certificate', 'certificate verify failed')])\")))\n",
      "Error https://encrypted-tbn0.gstatic.com/images?q=tbn%3AANd9GcTsPbefmKtEaIY6Gwt4WTSns9kZk8mpKAm18Raq5cuBSM79_PnV HTTPSConnectionPool(host='encrypted-tbn0.gstatic.com', port=443): Max retries exceeded with url: /images?q=tbn%3AANd9GcTsPbefmKtEaIY6Gwt4WTSns9kZk8mpKAm18Raq5cuBSM79_PnV (Caused by SSLError(SSLError(\"bad handshake: Error([('SSL routines', 'tls_process_server_certificate', 'certificate verify failed')])\")))\n",
      "Error https://encrypted-tbn0.gstatic.com/images?q=tbn%3AANd9GcSDVUbaKw20FbYOwZuIRwkYOAxWuXmJkv050mOhm7aeu7NPZ4t1 HTTPSConnectionPool(host='encrypted-tbn0.gstatic.com', port=443): Max retries exceeded with url: /images?q=tbn%3AANd9GcSDVUbaKw20FbYOwZuIRwkYOAxWuXmJkv050mOhm7aeu7NPZ4t1 (Caused by SSLError(SSLError(\"bad handshake: Error([('SSL routines', 'tls_process_server_certificate', 'certificate verify failed')])\")))\n",
      "Error https://encrypted-tbn0.gstatic.com/images?q=tbn%3AANd9GcSESgZFFR7p0G663hvnWz_suH_KgvquAQ0vjYpG8pnqwWCfiqrw HTTPSConnectionPool(host='encrypted-tbn0.gstatic.com', port=443): Max retries exceeded with url: /images?q=tbn%3AANd9GcSESgZFFR7p0G663hvnWz_suH_KgvquAQ0vjYpG8pnqwWCfiqrw (Caused by SSLError(SSLError(\"bad handshake: Error([('SSL routines', 'tls_process_server_certificate', 'certificate verify failed')])\")))\n",
      "Error https://encrypted-tbn0.gstatic.com/images?q=tbn%3AANd9GcSs8psGLOHkHrfegefG1Jnu9AZIQnaA1gsvA08GrDmN-aFIe54S HTTPSConnectionPool(host='encrypted-tbn0.gstatic.com', port=443): Max retries exceeded with url: /images?q=tbn%3AANd9GcSs8psGLOHkHrfegefG1Jnu9AZIQnaA1gsvA08GrDmN-aFIe54S (Caused by SSLError(SSLError(\"bad handshake: Error([('SSL routines', 'tls_process_server_certificate', 'certificate verify failed')])\")))\n",
      "Error https://encrypted-tbn0.gstatic.com/images?q=tbn%3AANd9GcQj3TjPPEE23nlXCM_Fvh3bYvCIlbKFEQw7iGbav-pdW4CIHfMK HTTPSConnectionPool(host='encrypted-tbn0.gstatic.com', port=443): Max retries exceeded with url: /images?q=tbn%3AANd9GcQj3TjPPEE23nlXCM_Fvh3bYvCIlbKFEQw7iGbav-pdW4CIHfMK (Caused by SSLError(SSLError(\"bad handshake: Error([('SSL routines', 'tls_process_server_certificate', 'certificate verify failed')])\")))\n",
      "Error https://encrypted-tbn0.gstatic.com/images?q=tbn%3AANd9GcRWg5w3UNUfMRkSTjgozBVyqBkx7vXSb4z2S4VfsOANpS2aEL4n HTTPSConnectionPool(host='encrypted-tbn0.gstatic.com', port=443): Max retries exceeded with url: /images?q=tbn%3AANd9GcRWg5w3UNUfMRkSTjgozBVyqBkx7vXSb4z2S4VfsOANpS2aEL4n (Caused by SSLError(SSLError(\"bad handshake: Error([('SSL routines', 'tls_process_server_certificate', 'certificate verify failed')])\")))\n",
      "Error https://encrypted-tbn0.gstatic.com/images?q=tbn%3AANd9GcQyjWohEI1B0DgvuSriaX7oD4GN0s9yXIfAejjESOWrowZ0Jnsx HTTPSConnectionPool(host='encrypted-tbn0.gstatic.com', port=443): Max retries exceeded with url: /images?q=tbn%3AANd9GcQyjWohEI1B0DgvuSriaX7oD4GN0s9yXIfAejjESOWrowZ0Jnsx (Caused by SSLError(SSLError(\"bad handshake: Error([('SSL routines', 'tls_process_server_certificate', 'certificate verify failed')])\")))\n",
      "Error https://encrypted-tbn0.gstatic.com/images?q=tbn%3AANd9GcQkxfa53gV34SrI93f85Av9IWsXOr28-8U9q_BfON41EixpAJRG HTTPSConnectionPool(host='encrypted-tbn0.gstatic.com', port=443): Max retries exceeded with url: /images?q=tbn%3AANd9GcQkxfa53gV34SrI93f85Av9IWsXOr28-8U9q_BfON41EixpAJRG (Caused by SSLError(SSLError(\"bad handshake: Error([('SSL routines', 'tls_process_server_certificate', 'certificate verify failed')])\")))\n",
      "Error https://encrypted-tbn0.gstatic.com/images?q=tbn%3AANd9GcRu0p1L-Gf3Ie_NYeeoVSpS0C2HTFmofWioP7YRVmut4sCS1F_r HTTPSConnectionPool(host='encrypted-tbn0.gstatic.com', port=443): Max retries exceeded with url: /images?q=tbn%3AANd9GcRu0p1L-Gf3Ie_NYeeoVSpS0C2HTFmofWioP7YRVmut4sCS1F_r (Caused by SSLError(SSLError(\"bad handshake: Error([('SSL routines', 'tls_process_server_certificate', 'certificate verify failed')])\")))\n"
     ]
    },
    {
     "name": "stdout",
     "output_type": "stream",
     "text": [
      "Error https://encrypted-tbn0.gstatic.com/images?q=tbn%3AANd9GcRoYxjoQ9hRTRh8ZKl5Fsl5F-ePunrnXnuqdd9kl5plwuXjUI7_ HTTPSConnectionPool(host='encrypted-tbn0.gstatic.com', port=443): Max retries exceeded with url: /images?q=tbn%3AANd9GcRoYxjoQ9hRTRh8ZKl5Fsl5F-ePunrnXnuqdd9kl5plwuXjUI7_ (Caused by SSLError(SSLError(\"bad handshake: Error([('SSL routines', 'tls_process_server_certificate', 'certificate verify failed')])\")))\n",
      "Error https://encrypted-tbn0.gstatic.com/images?q=tbn%3AANd9GcTXJILuuUXWi70LKK1BaVlHa49PutmCpzOntcdFOjodN6L7rTUl HTTPSConnectionPool(host='encrypted-tbn0.gstatic.com', port=443): Max retries exceeded with url: /images?q=tbn%3AANd9GcTXJILuuUXWi70LKK1BaVlHa49PutmCpzOntcdFOjodN6L7rTUl (Caused by SSLError(SSLError(\"bad handshake: Error([('SSL routines', 'tls_process_server_certificate', 'certificate verify failed')])\")))\n",
      "Error https://encrypted-tbn0.gstatic.com/images?q=tbn%3AANd9GcRj9nTGUN3MrEEy07l0-W1JO35wwALC5HzTNFE0E-X_jaH-UmRv HTTPSConnectionPool(host='encrypted-tbn0.gstatic.com', port=443): Max retries exceeded with url: /images?q=tbn%3AANd9GcRj9nTGUN3MrEEy07l0-W1JO35wwALC5HzTNFE0E-X_jaH-UmRv (Caused by SSLError(SSLError(\"bad handshake: Error([('SSL routines', 'tls_process_server_certificate', 'certificate verify failed')])\")))\n",
      "Error https://encrypted-tbn0.gstatic.com/images?q=tbn%3AANd9GcSbJvlhvhuMcww9XpnD5V4NAgY7P46tAafi_uny-5Qlyc0qrEOy HTTPSConnectionPool(host='encrypted-tbn0.gstatic.com', port=443): Max retries exceeded with url: /images?q=tbn%3AANd9GcSbJvlhvhuMcww9XpnD5V4NAgY7P46tAafi_uny-5Qlyc0qrEOy (Caused by SSLError(SSLError(\"bad handshake: Error([('SSL routines', 'tls_process_server_certificate', 'certificate verify failed')])\")))\n",
      "Error https://encrypted-tbn0.gstatic.com/images?q=tbn%3AANd9GcSiECGkeEFzNZRxmI0IL-ArY7glwKzCgJTBC8Lg7QvXMGNENC54 HTTPSConnectionPool(host='encrypted-tbn0.gstatic.com', port=443): Max retries exceeded with url: /images?q=tbn%3AANd9GcSiECGkeEFzNZRxmI0IL-ArY7glwKzCgJTBC8Lg7QvXMGNENC54 (Caused by SSLError(SSLError(\"bad handshake: Error([('SSL routines', 'tls_process_server_certificate', 'certificate verify failed')])\")))\n",
      "Error https://encrypted-tbn0.gstatic.com/images?q=tbn%3AANd9GcSsxGODQ2b5_yV7tdL8dVryn9-o3MxTgsbs3VvFmrN9El8EAPCO HTTPSConnectionPool(host='encrypted-tbn0.gstatic.com', port=443): Max retries exceeded with url: /images?q=tbn%3AANd9GcSsxGODQ2b5_yV7tdL8dVryn9-o3MxTgsbs3VvFmrN9El8EAPCO (Caused by SSLError(SSLError(\"bad handshake: Error([('SSL routines', 'tls_process_server_certificate', 'certificate verify failed')])\")))\n",
      "Error https://encrypted-tbn0.gstatic.com/images?q=tbn%3AANd9GcSlUvFBcBCTZ58u5AdRIXcda5HLYpT8Gdc3Eo1m2RTiZQjcnOYW HTTPSConnectionPool(host='encrypted-tbn0.gstatic.com', port=443): Max retries exceeded with url: /images?q=tbn%3AANd9GcSlUvFBcBCTZ58u5AdRIXcda5HLYpT8Gdc3Eo1m2RTiZQjcnOYW (Caused by SSLError(SSLError(\"bad handshake: Error([('SSL routines', 'tls_process_server_certificate', 'certificate verify failed')])\")))\n",
      "Error https://encrypted-tbn0.gstatic.com/images?q=tbn%3AANd9GcSIRda4QoH2mOTszUh6Rnj5uzUk7up32kB2I1sMyxj16BTwhwYQ HTTPSConnectionPool(host='encrypted-tbn0.gstatic.com', port=443): Max retries exceeded with url: /images?q=tbn%3AANd9GcSIRda4QoH2mOTszUh6Rnj5uzUk7up32kB2I1sMyxj16BTwhwYQ (Caused by SSLError(SSLError(\"bad handshake: Error([('SSL routines', 'tls_process_server_certificate', 'certificate verify failed')])\")))\n",
      "Error https://encrypted-tbn0.gstatic.com/images?q=tbn%3AANd9GcQfiGZzqGlJqUOrB7B02--coaS0_hBnPvHyehxLaYbgPyLUnPHD HTTPSConnectionPool(host='encrypted-tbn0.gstatic.com', port=443): Max retries exceeded with url: /images?q=tbn%3AANd9GcQfiGZzqGlJqUOrB7B02--coaS0_hBnPvHyehxLaYbgPyLUnPHD (Caused by SSLError(SSLError(\"bad handshake: Error([('SSL routines', 'tls_process_server_certificate', 'certificate verify failed')])\")))\n",
      "Error https://encrypted-tbn0.gstatic.com/images?q=tbn%3AANd9GcSKNlotVGVsAKEWrFuGuD06_iIOYlAdT1ewvo2NgG6tfluKuZuI HTTPSConnectionPool(host='encrypted-tbn0.gstatic.com', port=443): Max retries exceeded with url: /images?q=tbn%3AANd9GcSKNlotVGVsAKEWrFuGuD06_iIOYlAdT1ewvo2NgG6tfluKuZuI (Caused by SSLError(SSLError(\"bad handshake: Error([('SSL routines', 'tls_process_server_certificate', 'certificate verify failed')])\")))\n",
      "Error https://encrypted-tbn0.gstatic.com/images?q=tbn%3AANd9GcSfpSkV3ffgxYV-e6S_oB_0wnWNezY4UvRPtCshqCgjEWdyztPF HTTPSConnectionPool(host='encrypted-tbn0.gstatic.com', port=443): Max retries exceeded with url: /images?q=tbn%3AANd9GcSfpSkV3ffgxYV-e6S_oB_0wnWNezY4UvRPtCshqCgjEWdyztPF (Caused by SSLError(SSLError(\"bad handshake: Error([('SSL routines', 'tls_process_server_certificate', 'certificate verify failed')])\")))\n",
      "Error https://encrypted-tbn0.gstatic.com/images?q=tbn%3AANd9GcS5d72imyGyUcVx750GOh3uIHx74f1EH3wk7FQNMeS8DZe_oUA5 HTTPSConnectionPool(host='encrypted-tbn0.gstatic.com', port=443): Max retries exceeded with url: /images?q=tbn%3AANd9GcS5d72imyGyUcVx750GOh3uIHx74f1EH3wk7FQNMeS8DZe_oUA5 (Caused by SSLError(SSLError(\"bad handshake: Error([('SSL routines', 'tls_process_server_certificate', 'certificate verify failed')])\")))\n",
      "Error https://encrypted-tbn0.gstatic.com/images?q=tbn%3AANd9GcTwRyAO26OQdWCDMfBHc1c9jq3qaortE-hoRpsXTPPQ8g-7sj-j HTTPSConnectionPool(host='encrypted-tbn0.gstatic.com', port=443): Max retries exceeded with url: /images?q=tbn%3AANd9GcTwRyAO26OQdWCDMfBHc1c9jq3qaortE-hoRpsXTPPQ8g-7sj-j (Caused by SSLError(SSLError(\"bad handshake: Error([('SSL routines', 'tls_process_server_certificate', 'certificate verify failed')])\")))\n",
      "Error https://encrypted-tbn0.gstatic.com/images?q=tbn%3AANd9GcT1xpno4te6hLPJN4y6rB0vLFa_tBTP4bxAJGZi-7WdHsJRsSVs HTTPSConnectionPool(host='encrypted-tbn0.gstatic.com', port=443): Max retries exceeded with url: /images?q=tbn%3AANd9GcT1xpno4te6hLPJN4y6rB0vLFa_tBTP4bxAJGZi-7WdHsJRsSVs (Caused by SSLError(SSLError(\"bad handshake: Error([('SSL routines', 'tls_process_server_certificate', 'certificate verify failed')])\")))\n",
      "Error https://encrypted-tbn0.gstatic.com/images?q=tbn%3AANd9GcRcV3IFIIpJJb-lYwGqOwY-5yzRnnnCIcgNPaUcNGEGlg3jVtsk HTTPSConnectionPool(host='encrypted-tbn0.gstatic.com', port=443): Max retries exceeded with url: /images?q=tbn%3AANd9GcRcV3IFIIpJJb-lYwGqOwY-5yzRnnnCIcgNPaUcNGEGlg3jVtsk (Caused by SSLError(SSLError(\"bad handshake: Error([('SSL routines', 'tls_process_server_certificate', 'certificate verify failed')])\")))\n",
      "Error https://encrypted-tbn0.gstatic.com/images?q=tbn%3AANd9GcRjnUp-Mq47HQW2NtaC5q_lPuSkpG04MF76UO1Zyacq-DVP5QM_ HTTPSConnectionPool(host='encrypted-tbn0.gstatic.com', port=443): Max retries exceeded with url: /images?q=tbn%3AANd9GcRjnUp-Mq47HQW2NtaC5q_lPuSkpG04MF76UO1Zyacq-DVP5QM_ (Caused by SSLError(SSLError(\"bad handshake: Error([('SSL routines', 'tls_process_server_certificate', 'certificate verify failed')])\")))\n",
      "Error https://encrypted-tbn0.gstatic.com/images?q=tbn%3AANd9GcRlwxrwZTsVEI992PRudpD8zUPJl7VaWixNTRw6i-mXXToEaxaB HTTPSConnectionPool(host='encrypted-tbn0.gstatic.com', port=443): Max retries exceeded with url: /images?q=tbn%3AANd9GcRlwxrwZTsVEI992PRudpD8zUPJl7VaWixNTRw6i-mXXToEaxaB (Caused by SSLError(SSLError(\"bad handshake: Error([('SSL routines', 'tls_process_server_certificate', 'certificate verify failed')])\")))\n",
      "Error https://encrypted-tbn0.gstatic.com/images?q=tbn%3AANd9GcQBbV_SSHW4szoC_60MdgKYuSlTTO4odmitUDCye5DTXyltRhp2 HTTPSConnectionPool(host='encrypted-tbn0.gstatic.com', port=443): Max retries exceeded with url: /images?q=tbn%3AANd9GcQBbV_SSHW4szoC_60MdgKYuSlTTO4odmitUDCye5DTXyltRhp2 (Caused by SSLError(SSLError(\"bad handshake: Error([('SSL routines', 'tls_process_server_certificate', 'certificate verify failed')])\")))\n",
      "Error https://encrypted-tbn0.gstatic.com/images?q=tbn%3AANd9GcTQ_qHdaGjOL4yNkosmdhAUjp0-9flWOGY-yGT57ojlsYlr6lgJ HTTPSConnectionPool(host='encrypted-tbn0.gstatic.com', port=443): Max retries exceeded with url: /images?q=tbn%3AANd9GcTQ_qHdaGjOL4yNkosmdhAUjp0-9flWOGY-yGT57ojlsYlr6lgJ (Caused by SSLError(SSLError(\"bad handshake: Error([('SSL routines', 'tls_process_server_certificate', 'certificate verify failed')])\")))\n",
      "Error https://encrypted-tbn0.gstatic.com/images?q=tbn%3AANd9GcSo47rRfUArK3uVtmivlTf40mqYv9z4WBs8sxXKFdX5cpxT77hJ HTTPSConnectionPool(host='encrypted-tbn0.gstatic.com', port=443): Max retries exceeded with url: /images?q=tbn%3AANd9GcSo47rRfUArK3uVtmivlTf40mqYv9z4WBs8sxXKFdX5cpxT77hJ (Caused by SSLError(SSLError(\"bad handshake: Error([('SSL routines', 'tls_process_server_certificate', 'certificate verify failed')])\")))\n"
     ]
    },
    {
     "name": "stdout",
     "output_type": "stream",
     "text": [
      "Error https://encrypted-tbn0.gstatic.com/images?q=tbn%3AANd9GcSvJs58oILsWRcj6M3fvFJHWSL6Z4VY60VVWKJt3PuznbFLwQz5 HTTPSConnectionPool(host='encrypted-tbn0.gstatic.com', port=443): Max retries exceeded with url: /images?q=tbn%3AANd9GcSvJs58oILsWRcj6M3fvFJHWSL6Z4VY60VVWKJt3PuznbFLwQz5 (Caused by SSLError(SSLError(\"bad handshake: Error([('SSL routines', 'tls_process_server_certificate', 'certificate verify failed')])\")))\n",
      "Error https://encrypted-tbn0.gstatic.com/images?q=tbn%3AANd9GcR-2x-t0jr44YwDa7QWx6TeFxOC-66HjXCaOpIQ9GgfVYLwnhYG HTTPSConnectionPool(host='encrypted-tbn0.gstatic.com', port=443): Max retries exceeded with url: /images?q=tbn%3AANd9GcR-2x-t0jr44YwDa7QWx6TeFxOC-66HjXCaOpIQ9GgfVYLwnhYG (Caused by SSLError(SSLError(\"bad handshake: Error([('SSL routines', 'tls_process_server_certificate', 'certificate verify failed')])\")))\n",
      "Error https://encrypted-tbn0.gstatic.com/images?q=tbn%3AANd9GcRBb7Vikj3ZemaE6y1hM9_wwoVifU5BccdlWma2C4lfHl9DalrV HTTPSConnectionPool(host='encrypted-tbn0.gstatic.com', port=443): Max retries exceeded with url: /images?q=tbn%3AANd9GcRBb7Vikj3ZemaE6y1hM9_wwoVifU5BccdlWma2C4lfHl9DalrV (Caused by SSLError(SSLError(\"bad handshake: Error([('SSL routines', 'tls_process_server_certificate', 'certificate verify failed')])\")))\n",
      "Error https://encrypted-tbn0.gstatic.com/images?q=tbn%3AANd9GcRV65Poi7YHbIow5k67joVNkBfaz7X291wc50rWNFrKjN5jow_s HTTPSConnectionPool(host='encrypted-tbn0.gstatic.com', port=443): Max retries exceeded with url: /images?q=tbn%3AANd9GcRV65Poi7YHbIow5k67joVNkBfaz7X291wc50rWNFrKjN5jow_s (Caused by SSLError(SSLError(\"bad handshake: Error([('SSL routines', 'tls_process_server_certificate', 'certificate verify failed')])\")))\n",
      "Error https://encrypted-tbn0.gstatic.com/images?q=tbn%3AANd9GcTmk6WJAFbX3p3xQr42gncOAEAoRFzAeOWgwEt7Vcg5fgbdnn7X HTTPSConnectionPool(host='encrypted-tbn0.gstatic.com', port=443): Max retries exceeded with url: /images?q=tbn%3AANd9GcTmk6WJAFbX3p3xQr42gncOAEAoRFzAeOWgwEt7Vcg5fgbdnn7X (Caused by SSLError(SSLError(\"bad handshake: Error([('SSL routines', 'tls_process_server_certificate', 'certificate verify failed')])\")))\n",
      "Error https://encrypted-tbn0.gstatic.com/images?q=tbn%3AANd9GcSiqf_qe9EW2cprThqq9g7RhBqisVpOJKd2keedh4M_1cOEpyLI HTTPSConnectionPool(host='encrypted-tbn0.gstatic.com', port=443): Max retries exceeded with url: /images?q=tbn%3AANd9GcSiqf_qe9EW2cprThqq9g7RhBqisVpOJKd2keedh4M_1cOEpyLI (Caused by SSLError(SSLError(\"bad handshake: Error([('SSL routines', 'tls_process_server_certificate', 'certificate verify failed')])\")))\n",
      "Error https://encrypted-tbn0.gstatic.com/images?q=tbn%3AANd9GcR4OR1qHr2AzQqwVuIeKPwPhQp9fmBIfPQKs2N8_R2MJTAi5AaM HTTPSConnectionPool(host='encrypted-tbn0.gstatic.com', port=443): Max retries exceeded with url: /images?q=tbn%3AANd9GcR4OR1qHr2AzQqwVuIeKPwPhQp9fmBIfPQKs2N8_R2MJTAi5AaM (Caused by SSLError(SSLError(\"bad handshake: Error([('SSL routines', 'tls_process_server_certificate', 'certificate verify failed')])\")))\n",
      "Error https://encrypted-tbn0.gstatic.com/images?q=tbn%3AANd9GcRIgWNMz7nKlhI1ANDnuTIV4nqE90GooUy8jj3YXYYDIDnbhmgR HTTPSConnectionPool(host='encrypted-tbn0.gstatic.com', port=443): Max retries exceeded with url: /images?q=tbn%3AANd9GcRIgWNMz7nKlhI1ANDnuTIV4nqE90GooUy8jj3YXYYDIDnbhmgR (Caused by SSLError(SSLError(\"bad handshake: Error([('SSL routines', 'tls_process_server_certificate', 'certificate verify failed')])\")))\n",
      "Error https://encrypted-tbn0.gstatic.com/images?q=tbn%3AANd9GcRgmTTUyIqzVE6pZ9GdfFhWPbn0YnwSND6isFcyflhLAtK2s5kY HTTPSConnectionPool(host='encrypted-tbn0.gstatic.com', port=443): Max retries exceeded with url: /images?q=tbn%3AANd9GcRgmTTUyIqzVE6pZ9GdfFhWPbn0YnwSND6isFcyflhLAtK2s5kY (Caused by SSLError(SSLError(\"bad handshake: Error([('SSL routines', 'tls_process_server_certificate', 'certificate verify failed')])\")))\n",
      "Error https://encrypted-tbn0.gstatic.com/images?q=tbn%3AANd9GcQwCfCNeTjXfhSzOPDlosAn1-qHEqaiDRqWV1q48Ra85J9bR0xn HTTPSConnectionPool(host='encrypted-tbn0.gstatic.com', port=443): Max retries exceeded with url: /images?q=tbn%3AANd9GcQwCfCNeTjXfhSzOPDlosAn1-qHEqaiDRqWV1q48Ra85J9bR0xn (Caused by SSLError(SSLError(\"bad handshake: Error([('SSL routines', 'tls_process_server_certificate', 'certificate verify failed')])\")))\n",
      "Error https://encrypted-tbn0.gstatic.com/images?q=tbn%3AANd9GcR3AqqRrE98AKEAsZ987Ym5pNyKi_8WvJiwuiOcoDve_8sty7Tn HTTPSConnectionPool(host='encrypted-tbn0.gstatic.com', port=443): Max retries exceeded with url: /images?q=tbn%3AANd9GcR3AqqRrE98AKEAsZ987Ym5pNyKi_8WvJiwuiOcoDve_8sty7Tn (Caused by SSLError(SSLError(\"bad handshake: Error([('SSL routines', 'tls_process_server_certificate', 'certificate verify failed')])\")))\n",
      "Error https://encrypted-tbn0.gstatic.com/images?q=tbn%3AANd9GcQBRM5MkIEGRDcNmb6vAdjRX0Tb_0McL7xOa2ACYQguPDAApD2M HTTPSConnectionPool(host='encrypted-tbn0.gstatic.com', port=443): Max retries exceeded with url: /images?q=tbn%3AANd9GcQBRM5MkIEGRDcNmb6vAdjRX0Tb_0McL7xOa2ACYQguPDAApD2M (Caused by SSLError(SSLError(\"bad handshake: Error([('SSL routines', 'tls_process_server_certificate', 'certificate verify failed')])\")))\n",
      "Error https://encrypted-tbn0.gstatic.com/images?q=tbn%3AANd9GcQSVry3uVnKWNo-nUc-qWE5AeoeRBNVSPkrjkdCUuNr49LOqyqp HTTPSConnectionPool(host='encrypted-tbn0.gstatic.com', port=443): Max retries exceeded with url: /images?q=tbn%3AANd9GcQSVry3uVnKWNo-nUc-qWE5AeoeRBNVSPkrjkdCUuNr49LOqyqp (Caused by SSLError(SSLError(\"bad handshake: Error([('SSL routines', 'tls_process_server_certificate', 'certificate verify failed')])\")))\n",
      "Error https://encrypted-tbn0.gstatic.com/images?q=tbn%3AANd9GcSgPuYO-Wx4olqRzcdfYBAJdKzlABwwWrN4PkFio361Ma5jLF2d HTTPSConnectionPool(host='encrypted-tbn0.gstatic.com', port=443): Max retries exceeded with url: /images?q=tbn%3AANd9GcSgPuYO-Wx4olqRzcdfYBAJdKzlABwwWrN4PkFio361Ma5jLF2d (Caused by SSLError(SSLError(\"bad handshake: Error([('SSL routines', 'tls_process_server_certificate', 'certificate verify failed')])\")))\n",
      "Error https://encrypted-tbn0.gstatic.com/images?q=tbn%3AANd9GcSyfmL1lKFvLvlX63LdDdvo91ETfDkG_KvqCwUYdiafZ7WIQnZH HTTPSConnectionPool(host='encrypted-tbn0.gstatic.com', port=443): Max retries exceeded with url: /images?q=tbn%3AANd9GcSyfmL1lKFvLvlX63LdDdvo91ETfDkG_KvqCwUYdiafZ7WIQnZH (Caused by SSLError(SSLError(\"bad handshake: Error([('SSL routines', 'tls_process_server_certificate', 'certificate verify failed')])\")))\n",
      "Error https://encrypted-tbn0.gstatic.com/images?q=tbn%3AANd9GcTL0VSZ8vYAWRO0RxVZAzhBgkx3mmz1jEGJ4aPsjMxFVmWJObVP HTTPSConnectionPool(host='encrypted-tbn0.gstatic.com', port=443): Max retries exceeded with url: /images?q=tbn%3AANd9GcTL0VSZ8vYAWRO0RxVZAzhBgkx3mmz1jEGJ4aPsjMxFVmWJObVP (Caused by SSLError(SSLError(\"bad handshake: Error([('SSL routines', 'tls_process_server_certificate', 'certificate verify failed')])\")))\n",
      "Error https://encrypted-tbn0.gstatic.com/images?q=tbn%3AANd9GcRYW9uxDFjBvl64hKrU7o7NFXTKU51ReVg4c2ALPQdGbB63UAdz HTTPSConnectionPool(host='encrypted-tbn0.gstatic.com', port=443): Max retries exceeded with url: /images?q=tbn%3AANd9GcRYW9uxDFjBvl64hKrU7o7NFXTKU51ReVg4c2ALPQdGbB63UAdz (Caused by SSLError(SSLError(\"bad handshake: Error([('SSL routines', 'tls_process_server_certificate', 'certificate verify failed')])\")))\n",
      "Error https://encrypted-tbn0.gstatic.com/images?q=tbn%3AANd9GcQZ6Cuah10XH16TzuIAyLx6g9ulSyJRGGPjKYj3bKlO_dgl7nly HTTPSConnectionPool(host='encrypted-tbn0.gstatic.com', port=443): Max retries exceeded with url: /images?q=tbn%3AANd9GcQZ6Cuah10XH16TzuIAyLx6g9ulSyJRGGPjKYj3bKlO_dgl7nly (Caused by SSLError(SSLError(\"bad handshake: Error([('SSL routines', 'tls_process_server_certificate', 'certificate verify failed')])\")))\n",
      "Error https://encrypted-tbn0.gstatic.com/images?q=tbn%3AANd9GcSkOk8Il5Aij1dpYE0LnQZe8g4mNkwmv3s7h7VJxDEdVXt3swPc HTTPSConnectionPool(host='encrypted-tbn0.gstatic.com', port=443): Max retries exceeded with url: /images?q=tbn%3AANd9GcSkOk8Il5Aij1dpYE0LnQZe8g4mNkwmv3s7h7VJxDEdVXt3swPc (Caused by SSLError(SSLError(\"bad handshake: Error([('SSL routines', 'tls_process_server_certificate', 'certificate verify failed')])\")))\n",
      "Error https://encrypted-tbn0.gstatic.com/images?q=tbn%3AANd9GcScodaBqHxSlFWzFJQWwqGZuEnfTCq8u-4uyvIF_JjgmR_eFmV2 HTTPSConnectionPool(host='encrypted-tbn0.gstatic.com', port=443): Max retries exceeded with url: /images?q=tbn%3AANd9GcScodaBqHxSlFWzFJQWwqGZuEnfTCq8u-4uyvIF_JjgmR_eFmV2 (Caused by SSLError(SSLError(\"bad handshake: Error([('SSL routines', 'tls_process_server_certificate', 'certificate verify failed')])\")))\n"
     ]
    },
    {
     "name": "stdout",
     "output_type": "stream",
     "text": [
      "Error https://encrypted-tbn0.gstatic.com/images?q=tbn%3AANd9GcQZtjtH5pAPFNjXGe0pvPWqYzkJrEnKmI6DABmtYkbTPrxIMADo HTTPSConnectionPool(host='encrypted-tbn0.gstatic.com', port=443): Max retries exceeded with url: /images?q=tbn%3AANd9GcQZtjtH5pAPFNjXGe0pvPWqYzkJrEnKmI6DABmtYkbTPrxIMADo (Caused by SSLError(SSLError(\"bad handshake: Error([('SSL routines', 'tls_process_server_certificate', 'certificate verify failed')])\")))\n",
      "Error https://encrypted-tbn0.gstatic.com/images?q=tbn%3AANd9GcRs3PNAil5KFbvxk-B4xCPHY2WZgNQS-YOTLlE8fiSTV9vq8xRP HTTPSConnectionPool(host='encrypted-tbn0.gstatic.com', port=443): Max retries exceeded with url: /images?q=tbn%3AANd9GcRs3PNAil5KFbvxk-B4xCPHY2WZgNQS-YOTLlE8fiSTV9vq8xRP (Caused by SSLError(SSLError(\"bad handshake: Error([('SSL routines', 'tls_process_server_certificate', 'certificate verify failed')])\")))\n",
      "Error https://encrypted-tbn0.gstatic.com/images?q=tbn%3AANd9GcTDEI3NDge2PntVtDzSvOSX6hH4fg0jIPqaIhLCNHrV2CPfAcAC HTTPSConnectionPool(host='encrypted-tbn0.gstatic.com', port=443): Max retries exceeded with url: /images?q=tbn%3AANd9GcTDEI3NDge2PntVtDzSvOSX6hH4fg0jIPqaIhLCNHrV2CPfAcAC (Caused by SSLError(SSLError(\"bad handshake: Error([('SSL routines', 'tls_process_server_certificate', 'certificate verify failed')])\")))\n",
      "Error https://encrypted-tbn0.gstatic.com/images?q=tbn%3AANd9GcS_yydwlxCBSBtWeIz0XTP0cjS9tsT5fN9-fR18-Q-zckVe3I7c HTTPSConnectionPool(host='encrypted-tbn0.gstatic.com', port=443): Max retries exceeded with url: /images?q=tbn%3AANd9GcS_yydwlxCBSBtWeIz0XTP0cjS9tsT5fN9-fR18-Q-zckVe3I7c (Caused by SSLError(SSLError(\"bad handshake: Error([('SSL routines', 'tls_process_server_certificate', 'certificate verify failed')])\")))\n",
      "Error https://encrypted-tbn0.gstatic.com/images?q=tbn%3AANd9GcRy-lhAk0ruXWqU4cGy9vl0w8i3mzwROPrVLaP0t7dMClSgmylB HTTPSConnectionPool(host='encrypted-tbn0.gstatic.com', port=443): Max retries exceeded with url: /images?q=tbn%3AANd9GcRy-lhAk0ruXWqU4cGy9vl0w8i3mzwROPrVLaP0t7dMClSgmylB (Caused by SSLError(SSLError(\"bad handshake: Error([('SSL routines', 'tls_process_server_certificate', 'certificate verify failed')])\")))\n",
      "Error https://encrypted-tbn0.gstatic.com/images?q=tbn%3AANd9GcRtKK3862LWD6NOehGQw3Xd19JacYAJG9qFu8SMkOclNn-6YhxJ HTTPSConnectionPool(host='encrypted-tbn0.gstatic.com', port=443): Max retries exceeded with url: /images?q=tbn%3AANd9GcRtKK3862LWD6NOehGQw3Xd19JacYAJG9qFu8SMkOclNn-6YhxJ (Caused by SSLError(SSLError(\"bad handshake: Error([('SSL routines', 'tls_process_server_certificate', 'certificate verify failed')])\")))\n",
      "Error https://encrypted-tbn0.gstatic.com/images?q=tbn%3AANd9GcQy9Z8Gjkmoh8D81cEETF3IogfClk6XzstBL4h4-UULVrsVEP1Q HTTPSConnectionPool(host='encrypted-tbn0.gstatic.com', port=443): Max retries exceeded with url: /images?q=tbn%3AANd9GcQy9Z8Gjkmoh8D81cEETF3IogfClk6XzstBL4h4-UULVrsVEP1Q (Caused by SSLError(SSLError(\"bad handshake: Error([('SSL routines', 'tls_process_server_certificate', 'certificate verify failed')])\")))\n",
      "Error https://encrypted-tbn0.gstatic.com/images?q=tbn%3AANd9GcTU3EKSOuee4vQZdnIzos6x4dEIe7FmupsJgwPJ2e5xUB3He7KI HTTPSConnectionPool(host='encrypted-tbn0.gstatic.com', port=443): Max retries exceeded with url: /images?q=tbn%3AANd9GcTU3EKSOuee4vQZdnIzos6x4dEIe7FmupsJgwPJ2e5xUB3He7KI (Caused by SSLError(SSLError(\"bad handshake: Error([('SSL routines', 'tls_process_server_certificate', 'certificate verify failed')])\")))\n",
      "Error https://encrypted-tbn0.gstatic.com/images?q=tbn%3AANd9GcTY7iIE0ALifWL4JDP3QApUeD86sHtKdY4DYQ5gxWXhKVSShTN_ HTTPSConnectionPool(host='encrypted-tbn0.gstatic.com', port=443): Max retries exceeded with url: /images?q=tbn%3AANd9GcTY7iIE0ALifWL4JDP3QApUeD86sHtKdY4DYQ5gxWXhKVSShTN_ (Caused by SSLError(SSLError(\"bad handshake: Error([('SSL routines', 'tls_process_server_certificate', 'certificate verify failed')])\")))\n",
      "Error https://encrypted-tbn0.gstatic.com/images?q=tbn%3AANd9GcR6Q1RCf53zZXgl4eVZ4IobsoXquztCelwKVQfLOVlEfVCg5S1c HTTPSConnectionPool(host='encrypted-tbn0.gstatic.com', port=443): Max retries exceeded with url: /images?q=tbn%3AANd9GcR6Q1RCf53zZXgl4eVZ4IobsoXquztCelwKVQfLOVlEfVCg5S1c (Caused by SSLError(SSLError(\"bad handshake: Error([('SSL routines', 'tls_process_server_certificate', 'certificate verify failed')])\")))\n",
      "Error https://encrypted-tbn0.gstatic.com/images?q=tbn%3AANd9GcSTGECzj8rQk7DxObGBgwCt-oof9n2zFRe5XE16W9vNJLMJbLaN HTTPSConnectionPool(host='encrypted-tbn0.gstatic.com', port=443): Max retries exceeded with url: /images?q=tbn%3AANd9GcSTGECzj8rQk7DxObGBgwCt-oof9n2zFRe5XE16W9vNJLMJbLaN (Caused by SSLError(SSLError(\"bad handshake: Error([('SSL routines', 'tls_process_server_certificate', 'certificate verify failed')])\")))\n",
      "Error https://encrypted-tbn0.gstatic.com/images?q=tbn%3AANd9GcSzN0hQ4Nf659Yc5FelSzQDZ6_kLAKtncpKG_gD9dmOaXmFWtiZ HTTPSConnectionPool(host='encrypted-tbn0.gstatic.com', port=443): Max retries exceeded with url: /images?q=tbn%3AANd9GcSzN0hQ4Nf659Yc5FelSzQDZ6_kLAKtncpKG_gD9dmOaXmFWtiZ (Caused by SSLError(SSLError(\"bad handshake: Error([('SSL routines', 'tls_process_server_certificate', 'certificate verify failed')])\")))\n",
      "Error https://encrypted-tbn0.gstatic.com/images?q=tbn%3AANd9GcS8OxwyE9Bx9KmaUkd--2ezFuN_pZbe0OH4fvuyuE2uSnzP61Aw HTTPSConnectionPool(host='encrypted-tbn0.gstatic.com', port=443): Max retries exceeded with url: /images?q=tbn%3AANd9GcS8OxwyE9Bx9KmaUkd--2ezFuN_pZbe0OH4fvuyuE2uSnzP61Aw (Caused by SSLError(SSLError(\"bad handshake: Error([('SSL routines', 'tls_process_server_certificate', 'certificate verify failed')])\")))\n",
      "Error https://encrypted-tbn0.gstatic.com/images?q=tbn%3AANd9GcScFtqoQb88jX_1IeM6Fr--ysiHEp_jit_Djpr8_qBatLH-TDz0 HTTPSConnectionPool(host='encrypted-tbn0.gstatic.com', port=443): Max retries exceeded with url: /images?q=tbn%3AANd9GcScFtqoQb88jX_1IeM6Fr--ysiHEp_jit_Djpr8_qBatLH-TDz0 (Caused by SSLError(SSLError(\"bad handshake: Error([('SSL routines', 'tls_process_server_certificate', 'certificate verify failed')])\")))\n",
      "Error https://encrypted-tbn0.gstatic.com/images?q=tbn%3AANd9GcSo0Rw47yy_ZUoRsc_58QVrcJ6ZMiXE2R91Bz96avtcnAFAadUY HTTPSConnectionPool(host='encrypted-tbn0.gstatic.com', port=443): Max retries exceeded with url: /images?q=tbn%3AANd9GcSo0Rw47yy_ZUoRsc_58QVrcJ6ZMiXE2R91Bz96avtcnAFAadUY (Caused by SSLError(SSLError(\"bad handshake: Error([('SSL routines', 'tls_process_server_certificate', 'certificate verify failed')])\")))\n",
      "Error https://encrypted-tbn0.gstatic.com/images?q=tbn%3AANd9GcTmSDg37gU96ebmVVLv0ccvgMtjJOqzZih2P6IwMQ__m0x_VZgs HTTPSConnectionPool(host='encrypted-tbn0.gstatic.com', port=443): Max retries exceeded with url: /images?q=tbn%3AANd9GcTmSDg37gU96ebmVVLv0ccvgMtjJOqzZih2P6IwMQ__m0x_VZgs (Caused by SSLError(SSLError(\"bad handshake: Error([('SSL routines', 'tls_process_server_certificate', 'certificate verify failed')])\")))\n",
      "Error https://encrypted-tbn0.gstatic.com/images?q=tbn%3AANd9GcRkuNINOiv3BV7YXgc2f1GTh2ju2CzABJWxN1mK4rpX0H6y6EM_ HTTPSConnectionPool(host='encrypted-tbn0.gstatic.com', port=443): Max retries exceeded with url: /images?q=tbn%3AANd9GcRkuNINOiv3BV7YXgc2f1GTh2ju2CzABJWxN1mK4rpX0H6y6EM_ (Caused by SSLError(SSLError(\"bad handshake: Error([('SSL routines', 'tls_process_server_certificate', 'certificate verify failed')])\")))\n",
      "Error https://encrypted-tbn0.gstatic.com/images?q=tbn%3AANd9GcRCQs4EF74Afhv3fG1M6Zesu1XTEhgo_Det2irj4QIZgX6j2gsT HTTPSConnectionPool(host='encrypted-tbn0.gstatic.com', port=443): Max retries exceeded with url: /images?q=tbn%3AANd9GcRCQs4EF74Afhv3fG1M6Zesu1XTEhgo_Det2irj4QIZgX6j2gsT (Caused by SSLError(SSLError(\"bad handshake: Error([('SSL routines', 'tls_process_server_certificate', 'certificate verify failed')])\")))\n",
      "Error https://encrypted-tbn0.gstatic.com/images?q=tbn%3AANd9GcRaOO9DFUiaFiG6f9H1-zs4sxdKrS0C3lbq0zguIchuSfdBE2p1 HTTPSConnectionPool(host='encrypted-tbn0.gstatic.com', port=443): Max retries exceeded with url: /images?q=tbn%3AANd9GcRaOO9DFUiaFiG6f9H1-zs4sxdKrS0C3lbq0zguIchuSfdBE2p1 (Caused by SSLError(SSLError(\"bad handshake: Error([('SSL routines', 'tls_process_server_certificate', 'certificate verify failed')])\")))\n",
      "Error https://encrypted-tbn0.gstatic.com/images?q=tbn%3AANd9GcQcQFrCePmyQoh4g3xOmF4DepiMQFqoR6uTMYRUfU5yx8F3KHeM HTTPSConnectionPool(host='encrypted-tbn0.gstatic.com', port=443): Max retries exceeded with url: /images?q=tbn%3AANd9GcQcQFrCePmyQoh4g3xOmF4DepiMQFqoR6uTMYRUfU5yx8F3KHeM (Caused by SSLError(SSLError(\"bad handshake: Error([('SSL routines', 'tls_process_server_certificate', 'certificate verify failed')])\")))\n",
      "Error  Invalid URL '': No schema supplied. Perhaps you meant http://?\n"
     ]
    },
    {
     "name": "stdout",
     "output_type": "stream",
     "text": [
      "Error  Invalid URL '': No schema supplied. Perhaps you meant http://?\n",
      "Error  Invalid URL '': No schema supplied. Perhaps you meant http://?\n",
      "Error  Invalid URL '': No schema supplied. Perhaps you meant http://?\n",
      "Error  Invalid URL '': No schema supplied. Perhaps you meant http://?\n",
      "Error  Invalid URL '': No schema supplied. Perhaps you meant http://?\n",
      "Error  Invalid URL '': No schema supplied. Perhaps you meant http://?\n",
      "Error  Invalid URL '': No schema supplied. Perhaps you meant http://?\n",
      "Error  Invalid URL '': No schema supplied. Perhaps you meant http://?\n",
      "Error  Invalid URL '': No schema supplied. Perhaps you meant http://?\n",
      "Error  Invalid URL '': No schema supplied. Perhaps you meant http://?\n",
      "Error  Invalid URL '': No schema supplied. Perhaps you meant http://?\n",
      "Error  Invalid URL '': No schema supplied. Perhaps you meant http://?\n",
      "Error  Invalid URL '': No schema supplied. Perhaps you meant http://?\n",
      "Error  Invalid URL '': No schema supplied. Perhaps you meant http://?\n",
      "Error  Invalid URL '': No schema supplied. Perhaps you meant http://?\n",
      "Error  Invalid URL '': No schema supplied. Perhaps you meant http://?\n",
      "Error  Invalid URL '': No schema supplied. Perhaps you meant http://?\n",
      "Error  Invalid URL '': No schema supplied. Perhaps you meant http://?\n",
      "Error  Invalid URL '': No schema supplied. Perhaps you meant http://?\n",
      "Error https://encrypted-tbn0.gstatic.com/images?q=tbn%3AANd9GcS6Pm0-92Cte3_QwKkUAXME4vHYHv1eSx89hy0bhMOCVZvJaL4y HTTPSConnectionPool(host='encrypted-tbn0.gstatic.com', port=443): Max retries exceeded with url: /images?q=tbn%3AANd9GcS6Pm0-92Cte3_QwKkUAXME4vHYHv1eSx89hy0bhMOCVZvJaL4y (Caused by SSLError(SSLError(\"bad handshake: Error([('SSL routines', 'tls_process_server_certificate', 'certificate verify failed')])\")))\n",
      "Error https://encrypted-tbn0.gstatic.com/images?q=tbn%3AANd9GcTsKHOegsePw_wg875udRQcpU_mkUzOeZ1mGetcK-nTWEMGddGa HTTPSConnectionPool(host='encrypted-tbn0.gstatic.com', port=443): Max retries exceeded with url: /images?q=tbn%3AANd9GcTsKHOegsePw_wg875udRQcpU_mkUzOeZ1mGetcK-nTWEMGddGa (Caused by SSLError(SSLError(\"bad handshake: Error([('SSL routines', 'tls_process_server_certificate', 'certificate verify failed')])\")))\n",
      "Error https://encrypted-tbn0.gstatic.com/images?q=tbn%3AANd9GcQcJJ9TkCn3CoF6X5Dmt5m_DcBZ3HOP67WKzyaemsJSQ4N8CXWn HTTPSConnectionPool(host='encrypted-tbn0.gstatic.com', port=443): Max retries exceeded with url: /images?q=tbn%3AANd9GcQcJJ9TkCn3CoF6X5Dmt5m_DcBZ3HOP67WKzyaemsJSQ4N8CXWn (Caused by SSLError(SSLError(\"bad handshake: Error([('SSL routines', 'tls_process_server_certificate', 'certificate verify failed')])\")))\n",
      "Error https://encrypted-tbn0.gstatic.com/images?q=tbn%3AANd9GcR1Rym6Ueodqi6CzQERK3Ni0cFoH-YZWZonwxARxQ3rxm5kdnok HTTPSConnectionPool(host='encrypted-tbn0.gstatic.com', port=443): Max retries exceeded with url: /images?q=tbn%3AANd9GcR1Rym6Ueodqi6CzQERK3Ni0cFoH-YZWZonwxARxQ3rxm5kdnok (Caused by SSLError(SSLError(\"bad handshake: Error([('SSL routines', 'tls_process_server_certificate', 'certificate verify failed')])\")))\n",
      "Error https://encrypted-tbn0.gstatic.com/images?q=tbn%3AANd9GcTL72O3_CWWADXWp3OR9rcf_VaIInNUMMhkfB2mCFDACkzMMySP HTTPSConnectionPool(host='encrypted-tbn0.gstatic.com', port=443): Max retries exceeded with url: /images?q=tbn%3AANd9GcTL72O3_CWWADXWp3OR9rcf_VaIInNUMMhkfB2mCFDACkzMMySP (Caused by SSLError(SSLError(\"bad handshake: Error([('SSL routines', 'tls_process_server_certificate', 'certificate verify failed')])\")))\n",
      "Error https://encrypted-tbn0.gstatic.com/images?q=tbn%3AANd9GcQeVZxg_scIP_Ao6dc8WUbsEYQARjS2-0hMMPoqB8zrZgzynhhf HTTPSConnectionPool(host='encrypted-tbn0.gstatic.com', port=443): Max retries exceeded with url: /images?q=tbn%3AANd9GcQeVZxg_scIP_Ao6dc8WUbsEYQARjS2-0hMMPoqB8zrZgzynhhf (Caused by SSLError(SSLError(\"bad handshake: Error([('SSL routines', 'tls_process_server_certificate', 'certificate verify failed')])\")))\n",
      "Error https://encrypted-tbn0.gstatic.com/images?q=tbn%3AANd9GcSedF1hdw5qk_gnCTjY2lwJZBVVcI5P-IMuUQfoT4Zy7vslO5z2 HTTPSConnectionPool(host='encrypted-tbn0.gstatic.com', port=443): Max retries exceeded with url: /images?q=tbn%3AANd9GcSedF1hdw5qk_gnCTjY2lwJZBVVcI5P-IMuUQfoT4Zy7vslO5z2 (Caused by SSLError(SSLError(\"bad handshake: Error([('SSL routines', 'tls_process_server_certificate', 'certificate verify failed')])\")))\n",
      "Error https://encrypted-tbn0.gstatic.com/images?q=tbn%3AANd9GcSdxOcR6-uBBUh5qbT4cNBdyZI3_AmbaByyBMu7Nh1qGi8mIRqb HTTPSConnectionPool(host='encrypted-tbn0.gstatic.com', port=443): Max retries exceeded with url: /images?q=tbn%3AANd9GcSdxOcR6-uBBUh5qbT4cNBdyZI3_AmbaByyBMu7Nh1qGi8mIRqb (Caused by SSLError(SSLError(\"bad handshake: Error([('SSL routines', 'tls_process_server_certificate', 'certificate verify failed')])\")))\n",
      "Error https://encrypted-tbn0.gstatic.com/images?q=tbn%3AANd9GcQMVmphK0FkJKQ3o9MeYNOIBL45CEv3M4E26KtaayNd4ORt1b65 HTTPSConnectionPool(host='encrypted-tbn0.gstatic.com', port=443): Max retries exceeded with url: /images?q=tbn%3AANd9GcQMVmphK0FkJKQ3o9MeYNOIBL45CEv3M4E26KtaayNd4ORt1b65 (Caused by SSLError(SSLError(\"bad handshake: Error([('SSL routines', 'tls_process_server_certificate', 'certificate verify failed')])\")))\n",
      "Error https://encrypted-tbn0.gstatic.com/images?q=tbn%3AANd9GcQB3NhMfu_6kL-QFK8-uIKyJdDje2tYWlDMEKzroM44-1ZRTXgD HTTPSConnectionPool(host='encrypted-tbn0.gstatic.com', port=443): Max retries exceeded with url: /images?q=tbn%3AANd9GcQB3NhMfu_6kL-QFK8-uIKyJdDje2tYWlDMEKzroM44-1ZRTXgD (Caused by SSLError(SSLError(\"bad handshake: Error([('SSL routines', 'tls_process_server_certificate', 'certificate verify failed')])\")))\n",
      "Error https://encrypted-tbn0.gstatic.com/images?q=tbn%3AANd9GcTbbC17MTaLczHjAm6WxUZWboFEKjd9cbhQYFInP2rlek8ak6JF HTTPSConnectionPool(host='encrypted-tbn0.gstatic.com', port=443): Max retries exceeded with url: /images?q=tbn%3AANd9GcTbbC17MTaLczHjAm6WxUZWboFEKjd9cbhQYFInP2rlek8ak6JF (Caused by SSLError(SSLError(\"bad handshake: Error([('SSL routines', 'tls_process_server_certificate', 'certificate verify failed')])\")))\n",
      "Error https://encrypted-tbn0.gstatic.com/images?q=tbn%3AANd9GcS51nAKFloywYo201UE9LbYqPE4Zes2rgIadvSiTZe2SCPmVOOf HTTPSConnectionPool(host='encrypted-tbn0.gstatic.com', port=443): Max retries exceeded with url: /images?q=tbn%3AANd9GcS51nAKFloywYo201UE9LbYqPE4Zes2rgIadvSiTZe2SCPmVOOf (Caused by SSLError(SSLError(\"bad handshake: Error([('SSL routines', 'tls_process_server_certificate', 'certificate verify failed')])\")))\n",
      "Error https://encrypted-tbn0.gstatic.com/images?q=tbn%3AANd9GcTN9lFuvrtNQclGoBjWFu5wyVi8hJFk66uRe4ywFDJMSqrVnBS3 HTTPSConnectionPool(host='encrypted-tbn0.gstatic.com', port=443): Max retries exceeded with url: /images?q=tbn%3AANd9GcTN9lFuvrtNQclGoBjWFu5wyVi8hJFk66uRe4ywFDJMSqrVnBS3 (Caused by SSLError(SSLError(\"bad handshake: Error([('SSL routines', 'tls_process_server_certificate', 'certificate verify failed')])\")))\n",
      "Error https://encrypted-tbn0.gstatic.com/images?q=tbn%3AANd9GcQj1pAs3q57Eh97PdfhSwTi8F7av01Sd0SNm6EFYfVSU-iURa5a HTTPSConnectionPool(host='encrypted-tbn0.gstatic.com', port=443): Max retries exceeded with url: /images?q=tbn%3AANd9GcQj1pAs3q57Eh97PdfhSwTi8F7av01Sd0SNm6EFYfVSU-iURa5a (Caused by SSLError(SSLError(\"bad handshake: Error([('SSL routines', 'tls_process_server_certificate', 'certificate verify failed')])\")))\n",
      "Error https://encrypted-tbn0.gstatic.com/images?q=tbn%3AANd9GcQny6CJuRhKZxejhoM0UrkmncTf0PYzPbREe5yZR5wjO5T6v7sF HTTPSConnectionPool(host='encrypted-tbn0.gstatic.com', port=443): Max retries exceeded with url: /images?q=tbn%3AANd9GcQny6CJuRhKZxejhoM0UrkmncTf0PYzPbREe5yZR5wjO5T6v7sF (Caused by SSLError(SSLError(\"bad handshake: Error([('SSL routines', 'tls_process_server_certificate', 'certificate verify failed')])\")))\n",
      "Error https://encrypted-tbn0.gstatic.com/images?q=tbn%3AANd9GcSJ6Pc1EjgxWQCyPfxRIZ6AIoNYNBhH0ihOig5386jv4DQ5wJUa HTTPSConnectionPool(host='encrypted-tbn0.gstatic.com', port=443): Max retries exceeded with url: /images?q=tbn%3AANd9GcSJ6Pc1EjgxWQCyPfxRIZ6AIoNYNBhH0ihOig5386jv4DQ5wJUa (Caused by SSLError(SSLError(\"bad handshake: Error([('SSL routines', 'tls_process_server_certificate', 'certificate verify failed')])\")))\n",
      "Error https://encrypted-tbn0.gstatic.com/images?q=tbn%3AANd9GcSzG5ZtAdzlb2UgtPrhwSE3tNdPEYXQyFz2pZwaLVOV5Vs5vFSB HTTPSConnectionPool(host='encrypted-tbn0.gstatic.com', port=443): Max retries exceeded with url: /images?q=tbn%3AANd9GcSzG5ZtAdzlb2UgtPrhwSE3tNdPEYXQyFz2pZwaLVOV5Vs5vFSB (Caused by SSLError(SSLError(\"bad handshake: Error([('SSL routines', 'tls_process_server_certificate', 'certificate verify failed')])\")))\n"
     ]
    },
    {
     "name": "stdout",
     "output_type": "stream",
     "text": [
      "Error https://encrypted-tbn0.gstatic.com/images?q=tbn%3AANd9GcTHBXqAggpDU_oiyBbgPuXx6MJEEy-gESBKv3XKObizdAnEIbjs HTTPSConnectionPool(host='encrypted-tbn0.gstatic.com', port=443): Max retries exceeded with url: /images?q=tbn%3AANd9GcTHBXqAggpDU_oiyBbgPuXx6MJEEy-gESBKv3XKObizdAnEIbjs (Caused by SSLError(SSLError(\"bad handshake: Error([('SSL routines', 'tls_process_server_certificate', 'certificate verify failed')])\")))\n",
      "Error https://encrypted-tbn0.gstatic.com/images?q=tbn%3AANd9GcTMexIMz9cPN6GfC2vrdjz-fbcvlHw75RJi3L6JqfU9w1q-zUtZ HTTPSConnectionPool(host='encrypted-tbn0.gstatic.com', port=443): Max retries exceeded with url: /images?q=tbn%3AANd9GcTMexIMz9cPN6GfC2vrdjz-fbcvlHw75RJi3L6JqfU9w1q-zUtZ (Caused by SSLError(SSLError(\"bad handshake: Error([('SSL routines', 'tls_process_server_certificate', 'certificate verify failed')])\")))\n",
      "Error https://encrypted-tbn0.gstatic.com/images?q=tbn%3AANd9GcS5tQIdewaYtm1LIGJqrUEl3t8ahmJ5adZFvsgd5XibIYoYy6LS HTTPSConnectionPool(host='encrypted-tbn0.gstatic.com', port=443): Max retries exceeded with url: /images?q=tbn%3AANd9GcS5tQIdewaYtm1LIGJqrUEl3t8ahmJ5adZFvsgd5XibIYoYy6LS (Caused by SSLError(SSLError(\"bad handshake: Error([('SSL routines', 'tls_process_server_certificate', 'certificate verify failed')])\")))\n",
      "Error https://encrypted-tbn0.gstatic.com/images?q=tbn%3AANd9GcQmCOJ5rgSqUr1YZTe_-lg1bdrGyK9Ze7uR84PuuGNx7g5I2zVS HTTPSConnectionPool(host='encrypted-tbn0.gstatic.com', port=443): Max retries exceeded with url: /images?q=tbn%3AANd9GcQmCOJ5rgSqUr1YZTe_-lg1bdrGyK9Ze7uR84PuuGNx7g5I2zVS (Caused by SSLError(SSLError(\"bad handshake: Error([('SSL routines', 'tls_process_server_certificate', 'certificate verify failed')])\")))\n",
      "Error https://encrypted-tbn0.gstatic.com/images?q=tbn%3AANd9GcRtETC92XYeD3fMHAKvkRJCqMVwbKygwmMCiap4STHlRnZkDXfc HTTPSConnectionPool(host='encrypted-tbn0.gstatic.com', port=443): Max retries exceeded with url: /images?q=tbn%3AANd9GcRtETC92XYeD3fMHAKvkRJCqMVwbKygwmMCiap4STHlRnZkDXfc (Caused by SSLError(SSLError(\"bad handshake: Error([('SSL routines', 'tls_process_server_certificate', 'certificate verify failed')])\")))\n",
      "Error https://encrypted-tbn0.gstatic.com/images?q=tbn%3AANd9GcQVdpX9A9l53rlJL5c-AOqO5y_MRDe4xQ5D4VJXVlAvmvAMScjJ HTTPSConnectionPool(host='encrypted-tbn0.gstatic.com', port=443): Max retries exceeded with url: /images?q=tbn%3AANd9GcQVdpX9A9l53rlJL5c-AOqO5y_MRDe4xQ5D4VJXVlAvmvAMScjJ (Caused by SSLError(SSLError(\"bad handshake: Error([('SSL routines', 'tls_process_server_certificate', 'certificate verify failed')])\")))\n",
      "Error https://encrypted-tbn0.gstatic.com/images?q=tbn%3AANd9GcSN8NAF5AOzxfeqU5Ja-vjY6pNjZmzxv__jL8_89OUsVAqbcZdC HTTPSConnectionPool(host='encrypted-tbn0.gstatic.com', port=443): Max retries exceeded with url: /images?q=tbn%3AANd9GcSN8NAF5AOzxfeqU5Ja-vjY6pNjZmzxv__jL8_89OUsVAqbcZdC (Caused by SSLError(SSLError(\"bad handshake: Error([('SSL routines', 'tls_process_server_certificate', 'certificate verify failed')])\")))\n",
      "Error https://encrypted-tbn0.gstatic.com/images?q=tbn%3AANd9GcQVu4dy3E3482iBRM5YPRyPd2rwABc7nIpTGBcL3DrBcRLPQUlF HTTPSConnectionPool(host='encrypted-tbn0.gstatic.com', port=443): Max retries exceeded with url: /images?q=tbn%3AANd9GcQVu4dy3E3482iBRM5YPRyPd2rwABc7nIpTGBcL3DrBcRLPQUlF (Caused by SSLError(SSLError(\"bad handshake: Error([('SSL routines', 'tls_process_server_certificate', 'certificate verify failed')])\")))\n",
      "Error https://encrypted-tbn0.gstatic.com/images?q=tbn%3AANd9GcQOrrBu_NGf1jcJyNWtDj79vyjskmN3ySY65hzPTqXsrlLDmQOU HTTPSConnectionPool(host='encrypted-tbn0.gstatic.com', port=443): Max retries exceeded with url: /images?q=tbn%3AANd9GcQOrrBu_NGf1jcJyNWtDj79vyjskmN3ySY65hzPTqXsrlLDmQOU (Caused by SSLError(SSLError(\"bad handshake: Error([('SSL routines', 'tls_process_server_certificate', 'certificate verify failed')])\")))\n",
      "Error https://encrypted-tbn0.gstatic.com/images?q=tbn%3AANd9GcRdEo6hYKGWaaVqfaNCb1DA_wiHYLZkCtwSMqwBlnSDzoxxMj9Z HTTPSConnectionPool(host='encrypted-tbn0.gstatic.com', port=443): Max retries exceeded with url: /images?q=tbn%3AANd9GcRdEo6hYKGWaaVqfaNCb1DA_wiHYLZkCtwSMqwBlnSDzoxxMj9Z (Caused by SSLError(SSLError(\"bad handshake: Error([('SSL routines', 'tls_process_server_certificate', 'certificate verify failed')])\")))\n",
      "Error https://encrypted-tbn0.gstatic.com/images?q=tbn%3AANd9GcQSzq9nYS_gvjKtMSs-er_cCL3SFEnl3RgTQ6OWdeQ4U63kzXAQ HTTPSConnectionPool(host='encrypted-tbn0.gstatic.com', port=443): Max retries exceeded with url: /images?q=tbn%3AANd9GcQSzq9nYS_gvjKtMSs-er_cCL3SFEnl3RgTQ6OWdeQ4U63kzXAQ (Caused by SSLError(SSLError(\"bad handshake: Error([('SSL routines', 'tls_process_server_certificate', 'certificate verify failed')])\")))\n",
      "Error https://encrypted-tbn0.gstatic.com/images?q=tbn%3AANd9GcQNE-FGovSxgYS0yfeMhHRTV0xv7fErG31p21uUNfyRKpUMrZfZ HTTPSConnectionPool(host='encrypted-tbn0.gstatic.com', port=443): Max retries exceeded with url: /images?q=tbn%3AANd9GcQNE-FGovSxgYS0yfeMhHRTV0xv7fErG31p21uUNfyRKpUMrZfZ (Caused by SSLError(SSLError(\"bad handshake: Error([('SSL routines', 'tls_process_server_certificate', 'certificate verify failed')])\")))\n",
      "Error https://encrypted-tbn0.gstatic.com/images?q=tbn%3AANd9GcSUXy4cHD6GUZNXeOp2iC5AoYENhkNZusUQ2HnqKH2XT7cXprWm HTTPSConnectionPool(host='encrypted-tbn0.gstatic.com', port=443): Max retries exceeded with url: /images?q=tbn%3AANd9GcSUXy4cHD6GUZNXeOp2iC5AoYENhkNZusUQ2HnqKH2XT7cXprWm (Caused by SSLError(SSLError(\"bad handshake: Error([('SSL routines', 'tls_process_server_certificate', 'certificate verify failed')])\")))\n",
      "Error https://encrypted-tbn0.gstatic.com/images?q=tbn%3AANd9GcQkx0mhyuo6jFFregnGA6m8O7BLrBlaGM9CO30Ca6qPijKeqGhP HTTPSConnectionPool(host='encrypted-tbn0.gstatic.com', port=443): Max retries exceeded with url: /images?q=tbn%3AANd9GcQkx0mhyuo6jFFregnGA6m8O7BLrBlaGM9CO30Ca6qPijKeqGhP (Caused by SSLError(SSLError(\"bad handshake: Error([('SSL routines', 'tls_process_server_certificate', 'certificate verify failed')])\")))\n",
      "Error https://encrypted-tbn0.gstatic.com/images?q=tbn%3AANd9GcQ7olQIiLKpWBN-UEqzutnVu82au0nwDxp6aCPhW7Jt1tVaVo9p HTTPSConnectionPool(host='encrypted-tbn0.gstatic.com', port=443): Max retries exceeded with url: /images?q=tbn%3AANd9GcQ7olQIiLKpWBN-UEqzutnVu82au0nwDxp6aCPhW7Jt1tVaVo9p (Caused by SSLError(SSLError(\"bad handshake: Error([('SSL routines', 'tls_process_server_certificate', 'certificate verify failed')])\")))\n",
      "Error https://encrypted-tbn0.gstatic.com/images?q=tbn%3AANd9GcQTKij_TvLsHUj8ULDMVVyfjbPlqsUrvzQwf3XKjmwLtyObb-me HTTPSConnectionPool(host='encrypted-tbn0.gstatic.com', port=443): Max retries exceeded with url: /images?q=tbn%3AANd9GcQTKij_TvLsHUj8ULDMVVyfjbPlqsUrvzQwf3XKjmwLtyObb-me (Caused by SSLError(SSLError(\"bad handshake: Error([('SSL routines', 'tls_process_server_certificate', 'certificate verify failed')])\")))\n",
      "Error https://encrypted-tbn0.gstatic.com/images?q=tbn%3AANd9GcQp1jOotWYfEF5wcKD93sN30KC4MMwc2P0kEli3QQsrm9Wx318Q HTTPSConnectionPool(host='encrypted-tbn0.gstatic.com', port=443): Max retries exceeded with url: /images?q=tbn%3AANd9GcQp1jOotWYfEF5wcKD93sN30KC4MMwc2P0kEli3QQsrm9Wx318Q (Caused by SSLError(SSLError(\"bad handshake: Error([('SSL routines', 'tls_process_server_certificate', 'certificate verify failed')])\")))\n",
      "Error https://encrypted-tbn0.gstatic.com/images?q=tbn%3AANd9GcQkOs65PT1IXUdxiaqcOabjEelV3pf4nw6cUQ2Awit-aakEyPY2 HTTPSConnectionPool(host='encrypted-tbn0.gstatic.com', port=443): Max retries exceeded with url: /images?q=tbn%3AANd9GcQkOs65PT1IXUdxiaqcOabjEelV3pf4nw6cUQ2Awit-aakEyPY2 (Caused by SSLError(SSLError(\"bad handshake: Error([('SSL routines', 'tls_process_server_certificate', 'certificate verify failed')])\")))\n",
      "Error https://encrypted-tbn0.gstatic.com/images?q=tbn%3AANd9GcQVXEMbSTSvFnZnFpkY2rSFRq0eSSSFl885-FGO9lePTjB-L9kU HTTPSConnectionPool(host='encrypted-tbn0.gstatic.com', port=443): Max retries exceeded with url: /images?q=tbn%3AANd9GcQVXEMbSTSvFnZnFpkY2rSFRq0eSSSFl885-FGO9lePTjB-L9kU (Caused by SSLError(SSLError(\"bad handshake: Error([('SSL routines', 'tls_process_server_certificate', 'certificate verify failed')])\")))\n",
      "Error https://encrypted-tbn0.gstatic.com/images?q=tbn%3AANd9GcR7TrAU21-BNfE1WxV_44GphaVJayXWeJF5Fn_myvBSbGBqHH5a HTTPSConnectionPool(host='encrypted-tbn0.gstatic.com', port=443): Max retries exceeded with url: /images?q=tbn%3AANd9GcR7TrAU21-BNfE1WxV_44GphaVJayXWeJF5Fn_myvBSbGBqHH5a (Caused by SSLError(SSLError(\"bad handshake: Error([('SSL routines', 'tls_process_server_certificate', 'certificate verify failed')])\")))\n"
     ]
    },
    {
     "name": "stdout",
     "output_type": "stream",
     "text": [
      "Error https://encrypted-tbn0.gstatic.com/images?q=tbn%3AANd9GcQEjkoQNjp-ZPxb8XT_nN9DjvsbH8DTHwKm2qea9g25E9JJm5hd HTTPSConnectionPool(host='encrypted-tbn0.gstatic.com', port=443): Max retries exceeded with url: /images?q=tbn%3AANd9GcQEjkoQNjp-ZPxb8XT_nN9DjvsbH8DTHwKm2qea9g25E9JJm5hd (Caused by SSLError(SSLError(\"bad handshake: Error([('SSL routines', 'tls_process_server_certificate', 'certificate verify failed')])\")))\n",
      "Error https://encrypted-tbn0.gstatic.com/images?q=tbn%3AANd9GcSUXTVnrwDjzrcGxEB29luJt5miS0pU2pxhf_Zg5pU-QuanMeys HTTPSConnectionPool(host='encrypted-tbn0.gstatic.com', port=443): Max retries exceeded with url: /images?q=tbn%3AANd9GcSUXTVnrwDjzrcGxEB29luJt5miS0pU2pxhf_Zg5pU-QuanMeys (Caused by SSLError(SSLError(\"bad handshake: Error([('SSL routines', 'tls_process_server_certificate', 'certificate verify failed')])\")))\n",
      "Error https://encrypted-tbn0.gstatic.com/images?q=tbn%3AANd9GcTRqD0t8ZAhRVbu9indH_e4srVfbpXoP5v3Bzo1dNIRq1ZxcS48 HTTPSConnectionPool(host='encrypted-tbn0.gstatic.com', port=443): Max retries exceeded with url: /images?q=tbn%3AANd9GcTRqD0t8ZAhRVbu9indH_e4srVfbpXoP5v3Bzo1dNIRq1ZxcS48 (Caused by SSLError(SSLError(\"bad handshake: Error([('SSL routines', 'tls_process_server_certificate', 'certificate verify failed')])\")))\n",
      "Error https://encrypted-tbn0.gstatic.com/images?q=tbn%3AANd9GcREYI3Om8-3urKKLb4lLccd61FLcsPfUb7GokxbIRihpZOaaYvf HTTPSConnectionPool(host='encrypted-tbn0.gstatic.com', port=443): Max retries exceeded with url: /images?q=tbn%3AANd9GcREYI3Om8-3urKKLb4lLccd61FLcsPfUb7GokxbIRihpZOaaYvf (Caused by SSLError(SSLError(\"bad handshake: Error([('SSL routines', 'tls_process_server_certificate', 'certificate verify failed')])\")))\n",
      "Error https://encrypted-tbn0.gstatic.com/images?q=tbn%3AANd9GcRMIWNg342nxD4jpPA4tGIOU6UZCJZrkh3lOViqTRExd716_T8e HTTPSConnectionPool(host='encrypted-tbn0.gstatic.com', port=443): Max retries exceeded with url: /images?q=tbn%3AANd9GcRMIWNg342nxD4jpPA4tGIOU6UZCJZrkh3lOViqTRExd716_T8e (Caused by SSLError(SSLError(\"bad handshake: Error([('SSL routines', 'tls_process_server_certificate', 'certificate verify failed')])\")))\n",
      "Error https://encrypted-tbn0.gstatic.com/images?q=tbn%3AANd9GcReUOK4HV7Qr0M9V4-_th802Ldiq1cUTanixJacnZmulns1eLNL HTTPSConnectionPool(host='encrypted-tbn0.gstatic.com', port=443): Max retries exceeded with url: /images?q=tbn%3AANd9GcReUOK4HV7Qr0M9V4-_th802Ldiq1cUTanixJacnZmulns1eLNL (Caused by SSLError(SSLError(\"bad handshake: Error([('SSL routines', 'tls_process_server_certificate', 'certificate verify failed')])\")))\n",
      "Error https://encrypted-tbn0.gstatic.com/images?q=tbn%3AANd9GcQVG5jOUl5jc6Q6-2TcwL24xbEgNrr_8k_SIcwyO_XxS7BzL52i HTTPSConnectionPool(host='encrypted-tbn0.gstatic.com', port=443): Max retries exceeded with url: /images?q=tbn%3AANd9GcQVG5jOUl5jc6Q6-2TcwL24xbEgNrr_8k_SIcwyO_XxS7BzL52i (Caused by SSLError(SSLError(\"bad handshake: Error([('SSL routines', 'tls_process_server_certificate', 'certificate verify failed')])\")))\n",
      "Error https://encrypted-tbn0.gstatic.com/images?q=tbn%3AANd9GcTInjL3CKj23nmnd6vjGkTxSOQPnAHFTOrTsZCQ1FBMDTThkkrw HTTPSConnectionPool(host='encrypted-tbn0.gstatic.com', port=443): Max retries exceeded with url: /images?q=tbn%3AANd9GcTInjL3CKj23nmnd6vjGkTxSOQPnAHFTOrTsZCQ1FBMDTThkkrw (Caused by SSLError(SSLError(\"bad handshake: Error([('SSL routines', 'tls_process_server_certificate', 'certificate verify failed')])\")))\n",
      "Error https://encrypted-tbn0.gstatic.com/images?q=tbn%3AANd9GcTC7xqRQhqVKPDl1Q3uXqhWq0BjH9Ze_T9wGndwb0xMwuVP7MM8 HTTPSConnectionPool(host='encrypted-tbn0.gstatic.com', port=443): Max retries exceeded with url: /images?q=tbn%3AANd9GcTC7xqRQhqVKPDl1Q3uXqhWq0BjH9Ze_T9wGndwb0xMwuVP7MM8 (Caused by SSLError(SSLError(\"bad handshake: Error([('SSL routines', 'tls_process_server_certificate', 'certificate verify failed')])\")))\n",
      "Error https://encrypted-tbn0.gstatic.com/images?q=tbn%3AANd9GcQbhrqxaN-4UUIbPotVa9p6cnw92i1vycWCWFVannF655ib9GFG HTTPSConnectionPool(host='encrypted-tbn0.gstatic.com', port=443): Max retries exceeded with url: /images?q=tbn%3AANd9GcQbhrqxaN-4UUIbPotVa9p6cnw92i1vycWCWFVannF655ib9GFG (Caused by SSLError(SSLError(\"bad handshake: Error([('SSL routines', 'tls_process_server_certificate', 'certificate verify failed')])\")))\n",
      "Error https://encrypted-tbn0.gstatic.com/images?q=tbn%3AANd9GcSSj8Zj5JFV7pW3HlvR13cYP5Oe6_wSjIVtXldsVHxgbZx7E0IK HTTPSConnectionPool(host='encrypted-tbn0.gstatic.com', port=443): Max retries exceeded with url: /images?q=tbn%3AANd9GcSSj8Zj5JFV7pW3HlvR13cYP5Oe6_wSjIVtXldsVHxgbZx7E0IK (Caused by SSLError(SSLError(\"bad handshake: Error([('SSL routines', 'tls_process_server_certificate', 'certificate verify failed')])\")))\n",
      "Error https://encrypted-tbn0.gstatic.com/images?q=tbn%3AANd9GcQQWTASlVNDQ-4SrTq0xNfrCfD4dJO1a-30RnzDIgHzx4uGpmjC HTTPSConnectionPool(host='encrypted-tbn0.gstatic.com', port=443): Max retries exceeded with url: /images?q=tbn%3AANd9GcQQWTASlVNDQ-4SrTq0xNfrCfD4dJO1a-30RnzDIgHzx4uGpmjC (Caused by SSLError(SSLError(\"bad handshake: Error([('SSL routines', 'tls_process_server_certificate', 'certificate verify failed')])\")))\n",
      "Error https://encrypted-tbn0.gstatic.com/images?q=tbn%3AANd9GcST-8eAqMKOL-2k0BDrHORHvin_0Dx7ihmQj0R86WIVRLmBdoqE HTTPSConnectionPool(host='encrypted-tbn0.gstatic.com', port=443): Max retries exceeded with url: /images?q=tbn%3AANd9GcST-8eAqMKOL-2k0BDrHORHvin_0Dx7ihmQj0R86WIVRLmBdoqE (Caused by SSLError(SSLError(\"bad handshake: Error([('SSL routines', 'tls_process_server_certificate', 'certificate verify failed')])\")))\n",
      "Error https://encrypted-tbn0.gstatic.com/images?q=tbn%3AANd9GcQA8mCI3UVL3xmWOdQLTPZK0CAwVQPzOJJwpBlwq3hguRUImled HTTPSConnectionPool(host='encrypted-tbn0.gstatic.com', port=443): Max retries exceeded with url: /images?q=tbn%3AANd9GcQA8mCI3UVL3xmWOdQLTPZK0CAwVQPzOJJwpBlwq3hguRUImled (Caused by SSLError(SSLError(\"bad handshake: Error([('SSL routines', 'tls_process_server_certificate', 'certificate verify failed')])\")))\n",
      "Error https://encrypted-tbn0.gstatic.com/images?q=tbn%3AANd9GcRNqDw-Jmozi-7LTo38Re3UVdruAQlr3IEUmjFQdnbZvTUMV5w9 HTTPSConnectionPool(host='encrypted-tbn0.gstatic.com', port=443): Max retries exceeded with url: /images?q=tbn%3AANd9GcRNqDw-Jmozi-7LTo38Re3UVdruAQlr3IEUmjFQdnbZvTUMV5w9 (Caused by SSLError(SSLError(\"bad handshake: Error([('SSL routines', 'tls_process_server_certificate', 'certificate verify failed')])\")))\n",
      "Error https://encrypted-tbn0.gstatic.com/images?q=tbn%3AANd9GcRdT35nmaoElOka1A1vaO59EELgQrxsQMoWbBEbbyW1BpM__mFz HTTPSConnectionPool(host='encrypted-tbn0.gstatic.com', port=443): Max retries exceeded with url: /images?q=tbn%3AANd9GcRdT35nmaoElOka1A1vaO59EELgQrxsQMoWbBEbbyW1BpM__mFz (Caused by SSLError(SSLError(\"bad handshake: Error([('SSL routines', 'tls_process_server_certificate', 'certificate verify failed')])\")))\n",
      "Error https://encrypted-tbn0.gstatic.com/images?q=tbn%3AANd9GcRzStCIHn2Oy8VgBARjEO-ZTIf-8kuxLnSYscSLe1CqWikySx5E HTTPSConnectionPool(host='encrypted-tbn0.gstatic.com', port=443): Max retries exceeded with url: /images?q=tbn%3AANd9GcRzStCIHn2Oy8VgBARjEO-ZTIf-8kuxLnSYscSLe1CqWikySx5E (Caused by SSLError(SSLError(\"bad handshake: Error([('SSL routines', 'tls_process_server_certificate', 'certificate verify failed')])\")))\n",
      "Error https://encrypted-tbn0.gstatic.com/images?q=tbn%3AANd9GcTJ99jJZ1zye1xgudXQH0EkI7soNu03WxbiZ-evcRjZn94NWST0 HTTPSConnectionPool(host='encrypted-tbn0.gstatic.com', port=443): Max retries exceeded with url: /images?q=tbn%3AANd9GcTJ99jJZ1zye1xgudXQH0EkI7soNu03WxbiZ-evcRjZn94NWST0 (Caused by SSLError(SSLError(\"bad handshake: Error([('SSL routines', 'tls_process_server_certificate', 'certificate verify failed')])\")))\n",
      "Error https://encrypted-tbn0.gstatic.com/images?q=tbn%3AANd9GcSn9JXaCLlf5ZDa3f9KvwNyXa_OjaQBr-ssp_zx_JirjID5WR8q HTTPSConnectionPool(host='encrypted-tbn0.gstatic.com', port=443): Max retries exceeded with url: /images?q=tbn%3AANd9GcSn9JXaCLlf5ZDa3f9KvwNyXa_OjaQBr-ssp_zx_JirjID5WR8q (Caused by SSLError(SSLError(\"bad handshake: Error([('SSL routines', 'tls_process_server_certificate', 'certificate verify failed')])\")))\n",
      "Error https://encrypted-tbn0.gstatic.com/images?q=tbn%3AANd9GcSjKhVU7v-Wn7l0JrTNmMn_CeVm5wCC2vWxUvBxbKYb_w-VRDZv HTTPSConnectionPool(host='encrypted-tbn0.gstatic.com', port=443): Max retries exceeded with url: /images?q=tbn%3AANd9GcSjKhVU7v-Wn7l0JrTNmMn_CeVm5wCC2vWxUvBxbKYb_w-VRDZv (Caused by SSLError(SSLError(\"bad handshake: Error([('SSL routines', 'tls_process_server_certificate', 'certificate verify failed')])\")))\n"
     ]
    },
    {
     "name": "stdout",
     "output_type": "stream",
     "text": [
      "Error https://encrypted-tbn0.gstatic.com/images?q=tbn%3AANd9GcSstMLK70oFIOdk0GzIMMjNnAZ5qhQjqin-g64ud_moaSSOE06Y HTTPSConnectionPool(host='encrypted-tbn0.gstatic.com', port=443): Max retries exceeded with url: /images?q=tbn%3AANd9GcSstMLK70oFIOdk0GzIMMjNnAZ5qhQjqin-g64ud_moaSSOE06Y (Caused by SSLError(SSLError(\"bad handshake: Error([('SSL routines', 'tls_process_server_certificate', 'certificate verify failed')])\")))\n",
      "Error https://encrypted-tbn0.gstatic.com/images?q=tbn%3AANd9GcSQbW1zMhrQ-W1wduvh11atkSzpNrNQVk03DNQTQk57fddc4gkb HTTPSConnectionPool(host='encrypted-tbn0.gstatic.com', port=443): Max retries exceeded with url: /images?q=tbn%3AANd9GcSQbW1zMhrQ-W1wduvh11atkSzpNrNQVk03DNQTQk57fddc4gkb (Caused by SSLError(SSLError(\"bad handshake: Error([('SSL routines', 'tls_process_server_certificate', 'certificate verify failed')])\")))\n",
      "Error https://encrypted-tbn0.gstatic.com/images?q=tbn%3AANd9GcS4XGNFF4ke70mY04K_9C4OyDfwXVqmjiqpY0WheJFRJDmUJn2q HTTPSConnectionPool(host='encrypted-tbn0.gstatic.com', port=443): Max retries exceeded with url: /images?q=tbn%3AANd9GcS4XGNFF4ke70mY04K_9C4OyDfwXVqmjiqpY0WheJFRJDmUJn2q (Caused by SSLError(SSLError(\"bad handshake: Error([('SSL routines', 'tls_process_server_certificate', 'certificate verify failed')])\")))\n",
      "Error https://encrypted-tbn0.gstatic.com/images?q=tbn%3AANd9GcQqnNwaR0jbc7jBgxNilELDeC9zgkrQR-BLOMXVCyObTPprV9r9 HTTPSConnectionPool(host='encrypted-tbn0.gstatic.com', port=443): Max retries exceeded with url: /images?q=tbn%3AANd9GcQqnNwaR0jbc7jBgxNilELDeC9zgkrQR-BLOMXVCyObTPprV9r9 (Caused by SSLError(SSLError(\"bad handshake: Error([('SSL routines', 'tls_process_server_certificate', 'certificate verify failed')])\")))\n",
      "Error https://encrypted-tbn0.gstatic.com/images?q=tbn%3AANd9GcSe-DHZJyHdADBWGOeB3wxDe_ei9bpyOd6RO2sS8EXfRbqSClvj HTTPSConnectionPool(host='encrypted-tbn0.gstatic.com', port=443): Max retries exceeded with url: /images?q=tbn%3AANd9GcSe-DHZJyHdADBWGOeB3wxDe_ei9bpyOd6RO2sS8EXfRbqSClvj (Caused by SSLError(SSLError(\"bad handshake: Error([('SSL routines', 'tls_process_server_certificate', 'certificate verify failed')])\")))\n",
      "Error https://encrypted-tbn0.gstatic.com/images?q=tbn%3AANd9GcQNtU0VFklJGVVivUV6HefQ7Y0I66KoBnZGmnxRCHmut7MSAuQ- HTTPSConnectionPool(host='encrypted-tbn0.gstatic.com', port=443): Max retries exceeded with url: /images?q=tbn%3AANd9GcQNtU0VFklJGVVivUV6HefQ7Y0I66KoBnZGmnxRCHmut7MSAuQ- (Caused by SSLError(SSLError(\"bad handshake: Error([('SSL routines', 'tls_process_server_certificate', 'certificate verify failed')])\")))\n",
      "Error https://encrypted-tbn0.gstatic.com/images?q=tbn%3AANd9GcR6XlXbXpVw4NdIbmINiZNc8BEPLGrE88Ds1nG6sLgOTGllEQAX HTTPSConnectionPool(host='encrypted-tbn0.gstatic.com', port=443): Max retries exceeded with url: /images?q=tbn%3AANd9GcR6XlXbXpVw4NdIbmINiZNc8BEPLGrE88Ds1nG6sLgOTGllEQAX (Caused by SSLError(SSLError(\"bad handshake: Error([('SSL routines', 'tls_process_server_certificate', 'certificate verify failed')])\")))\n",
      "Error https://encrypted-tbn0.gstatic.com/images?q=tbn%3AANd9GcTSWp3_Ew_u34Yb5TGz5bXm9HqCSjen2AouZ3bmi8BnDHHs5ioy HTTPSConnectionPool(host='encrypted-tbn0.gstatic.com', port=443): Max retries exceeded with url: /images?q=tbn%3AANd9GcTSWp3_Ew_u34Yb5TGz5bXm9HqCSjen2AouZ3bmi8BnDHHs5ioy (Caused by SSLError(SSLError(\"bad handshake: Error([('SSL routines', 'tls_process_server_certificate', 'certificate verify failed')])\")))\n",
      "Error https://encrypted-tbn0.gstatic.com/images?q=tbn%3AANd9GcS8zGtPa3BhV3bxdwO3sq1PzYrghdiWioxanXzVw2QUDgHOwHVO HTTPSConnectionPool(host='encrypted-tbn0.gstatic.com', port=443): Max retries exceeded with url: /images?q=tbn%3AANd9GcS8zGtPa3BhV3bxdwO3sq1PzYrghdiWioxanXzVw2QUDgHOwHVO (Caused by SSLError(SSLError(\"bad handshake: Error([('SSL routines', 'tls_process_server_certificate', 'certificate verify failed')])\")))\n",
      "Error https://encrypted-tbn0.gstatic.com/images?q=tbn%3AANd9GcSJmncqgFxHM-HtEtkArYetxu8cPFYfTa4Go4cIR-PnPUZw5aMM HTTPSConnectionPool(host='encrypted-tbn0.gstatic.com', port=443): Max retries exceeded with url: /images?q=tbn%3AANd9GcSJmncqgFxHM-HtEtkArYetxu8cPFYfTa4Go4cIR-PnPUZw5aMM (Caused by SSLError(SSLError(\"bad handshake: Error([('SSL routines', 'tls_process_server_certificate', 'certificate verify failed')])\")))\n",
      "Error https://encrypted-tbn0.gstatic.com/images?q=tbn%3AANd9GcQYLLgDHUIqpSnnQ_U4-xUtZQqRZaTwdfBP9YZiwDyhJUjuaJ9F HTTPSConnectionPool(host='encrypted-tbn0.gstatic.com', port=443): Max retries exceeded with url: /images?q=tbn%3AANd9GcQYLLgDHUIqpSnnQ_U4-xUtZQqRZaTwdfBP9YZiwDyhJUjuaJ9F (Caused by SSLError(SSLError(\"bad handshake: Error([('SSL routines', 'tls_process_server_certificate', 'certificate verify failed')])\")))\n",
      "Error https://encrypted-tbn0.gstatic.com/images?q=tbn%3AANd9GcStz-ipFr67bS4xotFTOBkiQYq62Z4ntZ84xDHULwOnCcfzK6Ux HTTPSConnectionPool(host='encrypted-tbn0.gstatic.com', port=443): Max retries exceeded with url: /images?q=tbn%3AANd9GcStz-ipFr67bS4xotFTOBkiQYq62Z4ntZ84xDHULwOnCcfzK6Ux (Caused by SSLError(SSLError(\"bad handshake: Error([('SSL routines', 'tls_process_server_certificate', 'certificate verify failed')])\")))\n",
      "Error https://encrypted-tbn0.gstatic.com/images?q=tbn%3AANd9GcTVFMMZHdZpvXUNZiviSXP-3w5o1PyBfQ8ZojRr1nO1vdV45htn HTTPSConnectionPool(host='encrypted-tbn0.gstatic.com', port=443): Max retries exceeded with url: /images?q=tbn%3AANd9GcTVFMMZHdZpvXUNZiviSXP-3w5o1PyBfQ8ZojRr1nO1vdV45htn (Caused by SSLError(SSLError(\"bad handshake: Error([('SSL routines', 'tls_process_server_certificate', 'certificate verify failed')])\")))\n",
      "Error https://encrypted-tbn0.gstatic.com/images?q=tbn%3AANd9GcT05Ck0cZpXKsfoJzWsHQhYmJeZX4sLQLJogHuh7Hk02Z_dWd1k HTTPSConnectionPool(host='encrypted-tbn0.gstatic.com', port=443): Max retries exceeded with url: /images?q=tbn%3AANd9GcT05Ck0cZpXKsfoJzWsHQhYmJeZX4sLQLJogHuh7Hk02Z_dWd1k (Caused by SSLError(SSLError(\"bad handshake: Error([('SSL routines', 'tls_process_server_certificate', 'certificate verify failed')])\")))\n",
      "Error https://encrypted-tbn0.gstatic.com/images?q=tbn%3AANd9GcT6e-F4ReCI2hJRmWzFFZSypdFmGUcJa88D06brHeuohj-LrAq5 HTTPSConnectionPool(host='encrypted-tbn0.gstatic.com', port=443): Max retries exceeded with url: /images?q=tbn%3AANd9GcT6e-F4ReCI2hJRmWzFFZSypdFmGUcJa88D06brHeuohj-LrAq5 (Caused by SSLError(SSLError(\"bad handshake: Error([('SSL routines', 'tls_process_server_certificate', 'certificate verify failed')])\")))\n",
      "Error https://encrypted-tbn0.gstatic.com/images?q=tbn%3AANd9GcTNbuD7mh6uGPA4OIgoK7DTDmWh44q8ppYChpnYY3nbEsVguPPu HTTPSConnectionPool(host='encrypted-tbn0.gstatic.com', port=443): Max retries exceeded with url: /images?q=tbn%3AANd9GcTNbuD7mh6uGPA4OIgoK7DTDmWh44q8ppYChpnYY3nbEsVguPPu (Caused by SSLError(SSLError(\"bad handshake: Error([('SSL routines', 'tls_process_server_certificate', 'certificate verify failed')])\")))\n",
      "Error https://encrypted-tbn0.gstatic.com/images?q=tbn%3AANd9GcRSRAA8_Ekx46MYnpO-KgHw7iHTEjgfYM6yycFC5G-SGs25HFeL HTTPSConnectionPool(host='encrypted-tbn0.gstatic.com', port=443): Max retries exceeded with url: /images?q=tbn%3AANd9GcRSRAA8_Ekx46MYnpO-KgHw7iHTEjgfYM6yycFC5G-SGs25HFeL (Caused by SSLError(SSLError(\"bad handshake: Error([('SSL routines', 'tls_process_server_certificate', 'certificate verify failed')])\")))\n",
      "Error https://encrypted-tbn0.gstatic.com/images?q=tbn%3AANd9GcTqDttcqpObTPiG6RwJnbzxj0f36Gnew5n1sEJCqrYQb_Cpe-JN HTTPSConnectionPool(host='encrypted-tbn0.gstatic.com', port=443): Max retries exceeded with url: /images?q=tbn%3AANd9GcTqDttcqpObTPiG6RwJnbzxj0f36Gnew5n1sEJCqrYQb_Cpe-JN (Caused by SSLError(SSLError(\"bad handshake: Error([('SSL routines', 'tls_process_server_certificate', 'certificate verify failed')])\")))\n",
      "Error https://encrypted-tbn0.gstatic.com/images?q=tbn%3AANd9GcTfgGOZmJ7Fl-AiGSv7RRQ35SHTNYDsHFfeLj2DYTBDFbbeBzEi HTTPSConnectionPool(host='encrypted-tbn0.gstatic.com', port=443): Max retries exceeded with url: /images?q=tbn%3AANd9GcTfgGOZmJ7Fl-AiGSv7RRQ35SHTNYDsHFfeLj2DYTBDFbbeBzEi (Caused by SSLError(SSLError(\"bad handshake: Error([('SSL routines', 'tls_process_server_certificate', 'certificate verify failed')])\")))\n",
      "Error https://encrypted-tbn0.gstatic.com/images?q=tbn%3AANd9GcRSfiOOLm2Ws4_6a3xamlQmo3twNHIPBQb43CR6ucD3AtTr9LqI HTTPSConnectionPool(host='encrypted-tbn0.gstatic.com', port=443): Max retries exceeded with url: /images?q=tbn%3AANd9GcRSfiOOLm2Ws4_6a3xamlQmo3twNHIPBQb43CR6ucD3AtTr9LqI (Caused by SSLError(SSLError(\"bad handshake: Error([('SSL routines', 'tls_process_server_certificate', 'certificate verify failed')])\")))\n"
     ]
    },
    {
     "name": "stdout",
     "output_type": "stream",
     "text": [
      "Error https://encrypted-tbn0.gstatic.com/images?q=tbn%3AANd9GcQJ2Dk0IgynyZvAH7NMDNozcvgXV4wOsvbtdxyTgfT8486GgQ5H HTTPSConnectionPool(host='encrypted-tbn0.gstatic.com', port=443): Max retries exceeded with url: /images?q=tbn%3AANd9GcQJ2Dk0IgynyZvAH7NMDNozcvgXV4wOsvbtdxyTgfT8486GgQ5H (Caused by SSLError(SSLError(\"bad handshake: Error([('SSL routines', 'tls_process_server_certificate', 'certificate verify failed')])\")))\n",
      "Error https://encrypted-tbn0.gstatic.com/images?q=tbn%3AANd9GcSrCa44ftqv47UOiHEfhP-S_WsbbomLcp9fGk1dHa4pxE8NjBCE HTTPSConnectionPool(host='encrypted-tbn0.gstatic.com', port=443): Max retries exceeded with url: /images?q=tbn%3AANd9GcSrCa44ftqv47UOiHEfhP-S_WsbbomLcp9fGk1dHa4pxE8NjBCE (Caused by SSLError(SSLError(\"bad handshake: Error([('SSL routines', 'tls_process_server_certificate', 'certificate verify failed')])\")))\n",
      "Error https://encrypted-tbn0.gstatic.com/images?q=tbn%3AANd9GcTYY2l5uvIuDMBM3MZIx4wt8ldqn97QDc6BcncwiQbKi4bGTeu_ HTTPSConnectionPool(host='encrypted-tbn0.gstatic.com', port=443): Max retries exceeded with url: /images?q=tbn%3AANd9GcTYY2l5uvIuDMBM3MZIx4wt8ldqn97QDc6BcncwiQbKi4bGTeu_ (Caused by SSLError(SSLError(\"bad handshake: Error([('SSL routines', 'tls_process_server_certificate', 'certificate verify failed')])\")))\n"
     ]
    }
   ],
   "source": [
    "folder = 'cycles'\n",
    "file = 'cycles.csv'\n",
    "\n",
    "dest = path/folder\n",
    "dest.mkdir(parents=True, exist_ok=True)\n",
    "\n",
    "download_images(path/file, dest, max_pics=200, max_workers=0)\n"
   ]
  },
  {
   "cell_type": "code",
   "execution_count": 8,
   "metadata": {},
   "outputs": [
    {
     "data": {
      "text/html": [],
      "text/plain": [
       "<IPython.core.display.HTML object>"
      ]
     },
     "metadata": {},
     "output_type": "display_data"
    },
    {
     "name": "stdout",
     "output_type": "stream",
     "text": [
      "Error https://encrypted-tbn0.gstatic.com/images?q=tbn%3AANd9GcRZy5NcHNCfSOXJjl0y1ZcOy2ZsSF2KDiG7xzOOBqpBHrl1KyO5 HTTPSConnectionPool(host='encrypted-tbn0.gstatic.com', port=443): Max retries exceeded with url: /images?q=tbn%3AANd9GcRZy5NcHNCfSOXJjl0y1ZcOy2ZsSF2KDiG7xzOOBqpBHrl1KyO5 (Caused by SSLError(SSLError(\"bad handshake: Error([('SSL routines', 'tls_process_server_certificate', 'certificate verify failed')])\")))\n",
      "Error https://encrypted-tbn0.gstatic.com/images?q=tbn%3AANd9GcSheNUK0-p_8sLsxIyNowwbHMT0hZd76-1dghCDv-L3ZaD5Ijk0 HTTPSConnectionPool(host='encrypted-tbn0.gstatic.com', port=443): Max retries exceeded with url: /images?q=tbn%3AANd9GcSheNUK0-p_8sLsxIyNowwbHMT0hZd76-1dghCDv-L3ZaD5Ijk0 (Caused by SSLError(SSLError(\"bad handshake: Error([('SSL routines', 'tls_process_server_certificate', 'certificate verify failed')])\")))\n",
      "Error https://encrypted-tbn0.gstatic.com/images?q=tbn%3AANd9GcSypd9EU1S21qQ9PNrLOLAFhZA32E3a4oklhjOqtr4nVG8E71q- HTTPSConnectionPool(host='encrypted-tbn0.gstatic.com', port=443): Max retries exceeded with url: /images?q=tbn%3AANd9GcSypd9EU1S21qQ9PNrLOLAFhZA32E3a4oklhjOqtr4nVG8E71q- (Caused by SSLError(SSLError(\"bad handshake: Error([('SSL routines', 'tls_process_server_certificate', 'certificate verify failed')])\")))\n",
      "Error https://encrypted-tbn0.gstatic.com/images?q=tbn%3AANd9GcRxjvICuT-Re4IffdspHcOgw8ToXJLne4EXDKKGARB5rq_LC75T HTTPSConnectionPool(host='encrypted-tbn0.gstatic.com', port=443): Max retries exceeded with url: /images?q=tbn%3AANd9GcRxjvICuT-Re4IffdspHcOgw8ToXJLne4EXDKKGARB5rq_LC75T (Caused by SSLError(SSLError(\"bad handshake: Error([('SSL routines', 'tls_process_server_certificate', 'certificate verify failed')])\")))\n",
      "Error https://encrypted-tbn0.gstatic.com/images?q=tbn%3AANd9GcSSXRQaBThy2qDB4hjf-e1g-jlR0SsIRlpja0B-_Eu2dkMwsWBo HTTPSConnectionPool(host='encrypted-tbn0.gstatic.com', port=443): Max retries exceeded with url: /images?q=tbn%3AANd9GcSSXRQaBThy2qDB4hjf-e1g-jlR0SsIRlpja0B-_Eu2dkMwsWBo (Caused by SSLError(SSLError(\"bad handshake: Error([('SSL routines', 'tls_process_server_certificate', 'certificate verify failed')])\")))\n",
      "Error https://encrypted-tbn0.gstatic.com/images?q=tbn%3AANd9GcTay7C8uyCLJ2FVIfclSREr0bAEEE7yswuTcXAZE6KBrmgZfslm HTTPSConnectionPool(host='encrypted-tbn0.gstatic.com', port=443): Max retries exceeded with url: /images?q=tbn%3AANd9GcTay7C8uyCLJ2FVIfclSREr0bAEEE7yswuTcXAZE6KBrmgZfslm (Caused by SSLError(SSLError(\"bad handshake: Error([('SSL routines', 'tls_process_server_certificate', 'certificate verify failed')])\")))\n",
      "Error https://encrypted-tbn0.gstatic.com/images?q=tbn%3AANd9GcQoe58ST2oZ8-X94lNUbSheMRDjdTcjGBxOqofDIIfYTEwbZRL2 HTTPSConnectionPool(host='encrypted-tbn0.gstatic.com', port=443): Max retries exceeded with url: /images?q=tbn%3AANd9GcQoe58ST2oZ8-X94lNUbSheMRDjdTcjGBxOqofDIIfYTEwbZRL2 (Caused by SSLError(SSLError(\"bad handshake: Error([('SSL routines', 'tls_process_server_certificate', 'certificate verify failed')])\")))\n",
      "Error https://encrypted-tbn0.gstatic.com/images?q=tbn%3AANd9GcTN07Otrlfyrv67mbpNfaPqDGarSl_Fooii_LJI8j0YiTV0Z2KC HTTPSConnectionPool(host='encrypted-tbn0.gstatic.com', port=443): Max retries exceeded with url: /images?q=tbn%3AANd9GcTN07Otrlfyrv67mbpNfaPqDGarSl_Fooii_LJI8j0YiTV0Z2KC (Caused by SSLError(SSLError(\"bad handshake: Error([('SSL routines', 'tls_process_server_certificate', 'certificate verify failed')])\")))\n",
      "Error https://encrypted-tbn0.gstatic.com/images?q=tbn%3AANd9GcQxXtftbSmg_w8nkuA885m_i1rZ7rSmkOUUNqIoEQmcRTgyULhA HTTPSConnectionPool(host='encrypted-tbn0.gstatic.com', port=443): Max retries exceeded with url: /images?q=tbn%3AANd9GcQxXtftbSmg_w8nkuA885m_i1rZ7rSmkOUUNqIoEQmcRTgyULhA (Caused by SSLError(SSLError(\"bad handshake: Error([('SSL routines', 'tls_process_server_certificate', 'certificate verify failed')])\")))\n",
      "Error https://encrypted-tbn0.gstatic.com/images?q=tbn%3AANd9GcSDLXUXfFzhWXzv88bINAYmbNh3heO8kEHZ7ntAQxd3CJDQNRIA HTTPSConnectionPool(host='encrypted-tbn0.gstatic.com', port=443): Max retries exceeded with url: /images?q=tbn%3AANd9GcSDLXUXfFzhWXzv88bINAYmbNh3heO8kEHZ7ntAQxd3CJDQNRIA (Caused by SSLError(SSLError(\"bad handshake: Error([('SSL routines', 'tls_process_server_certificate', 'certificate verify failed')])\")))\n",
      "Error https://encrypted-tbn0.gstatic.com/images?q=tbn%3AANd9GcS5jGc8l4Ti0-VqHplULhpjnA9IQsu5XefXf4bRnNGQNwyzIJUS HTTPSConnectionPool(host='encrypted-tbn0.gstatic.com', port=443): Max retries exceeded with url: /images?q=tbn%3AANd9GcS5jGc8l4Ti0-VqHplULhpjnA9IQsu5XefXf4bRnNGQNwyzIJUS (Caused by SSLError(SSLError(\"bad handshake: Error([('SSL routines', 'tls_process_server_certificate', 'certificate verify failed')])\")))\n",
      "Error https://encrypted-tbn0.gstatic.com/images?q=tbn%3AANd9GcR-_7t3NDJE-yd4SSPcAKKsjuqHWzzLvEhAhl5VhhFM2CuFea0O HTTPSConnectionPool(host='encrypted-tbn0.gstatic.com', port=443): Max retries exceeded with url: /images?q=tbn%3AANd9GcR-_7t3NDJE-yd4SSPcAKKsjuqHWzzLvEhAhl5VhhFM2CuFea0O (Caused by SSLError(SSLError(\"bad handshake: Error([('SSL routines', 'tls_process_server_certificate', 'certificate verify failed')])\")))\n",
      "Error https://encrypted-tbn0.gstatic.com/images?q=tbn%3AANd9GcQUv8z_MdcpAlsWy1wOTsJ-GbeXaCgVNpHJmuePk0RZjQlNVbss HTTPSConnectionPool(host='encrypted-tbn0.gstatic.com', port=443): Max retries exceeded with url: /images?q=tbn%3AANd9GcQUv8z_MdcpAlsWy1wOTsJ-GbeXaCgVNpHJmuePk0RZjQlNVbss (Caused by SSLError(SSLError(\"bad handshake: Error([('SSL routines', 'tls_process_server_certificate', 'certificate verify failed')])\")))\n",
      "Error https://encrypted-tbn0.gstatic.com/images?q=tbn%3AANd9GcQHMr8PM_YEXT3SV89bCnMFudIAaszbAS8WZ_sOy8-kulkd0Rja HTTPSConnectionPool(host='encrypted-tbn0.gstatic.com', port=443): Max retries exceeded with url: /images?q=tbn%3AANd9GcQHMr8PM_YEXT3SV89bCnMFudIAaszbAS8WZ_sOy8-kulkd0Rja (Caused by SSLError(SSLError(\"bad handshake: Error([('SSL routines', 'tls_process_server_certificate', 'certificate verify failed')])\")))\n",
      "Error https://encrypted-tbn0.gstatic.com/images?q=tbn%3AANd9GcSBpZD-Z_JQOqX_B9BZJJMbfVDuFZp9gsAvtpytlcokTMxvFOyG HTTPSConnectionPool(host='encrypted-tbn0.gstatic.com', port=443): Max retries exceeded with url: /images?q=tbn%3AANd9GcSBpZD-Z_JQOqX_B9BZJJMbfVDuFZp9gsAvtpytlcokTMxvFOyG (Caused by SSLError(SSLError(\"bad handshake: Error([('SSL routines', 'tls_process_server_certificate', 'certificate verify failed')])\")))\n",
      "Error https://encrypted-tbn0.gstatic.com/images?q=tbn%3AANd9GcQqgjdJzMinKWxZqkDdq-IRYH4xYrXjZiYNoYu_GoYmA_ySC30f HTTPSConnectionPool(host='encrypted-tbn0.gstatic.com', port=443): Max retries exceeded with url: /images?q=tbn%3AANd9GcQqgjdJzMinKWxZqkDdq-IRYH4xYrXjZiYNoYu_GoYmA_ySC30f (Caused by SSLError(SSLError(\"bad handshake: Error([('SSL routines', 'tls_process_server_certificate', 'certificate verify failed')])\")))\n",
      "Error https://encrypted-tbn0.gstatic.com/images?q=tbn%3AANd9GcQJBoWVNmy6vFNfE3oBZsha1kGUKjQKIGqrRNOs8N36j-Im1E3x HTTPSConnectionPool(host='encrypted-tbn0.gstatic.com', port=443): Max retries exceeded with url: /images?q=tbn%3AANd9GcQJBoWVNmy6vFNfE3oBZsha1kGUKjQKIGqrRNOs8N36j-Im1E3x (Caused by SSLError(SSLError(\"bad handshake: Error([('SSL routines', 'tls_process_server_certificate', 'certificate verify failed')])\")))\n",
      "Error https://encrypted-tbn0.gstatic.com/images?q=tbn%3AANd9GcTv13bDSS3mrgYYOyCqpypd-gZSM07mV2_Eau68kf_WmxJU-90T HTTPSConnectionPool(host='encrypted-tbn0.gstatic.com', port=443): Max retries exceeded with url: /images?q=tbn%3AANd9GcTv13bDSS3mrgYYOyCqpypd-gZSM07mV2_Eau68kf_WmxJU-90T (Caused by SSLError(SSLError(\"bad handshake: Error([('SSL routines', 'tls_process_server_certificate', 'certificate verify failed')])\")))\n",
      "Error https://encrypted-tbn0.gstatic.com/images?q=tbn%3AANd9GcSQTTS6jO38D-pZP7-ALcwpU08oGtPGhQpTgQB0tWgj6tXhKZ3V HTTPSConnectionPool(host='encrypted-tbn0.gstatic.com', port=443): Max retries exceeded with url: /images?q=tbn%3AANd9GcSQTTS6jO38D-pZP7-ALcwpU08oGtPGhQpTgQB0tWgj6tXhKZ3V (Caused by SSLError(SSLError(\"bad handshake: Error([('SSL routines', 'tls_process_server_certificate', 'certificate verify failed')])\")))\n",
      "Error https://encrypted-tbn0.gstatic.com/images?q=tbn%3AANd9GcS4tPKGEyjjNU1SXWYsQDSg0jyhC5gA6IePhZSdQT54rkwWovzt HTTPSConnectionPool(host='encrypted-tbn0.gstatic.com', port=443): Max retries exceeded with url: /images?q=tbn%3AANd9GcS4tPKGEyjjNU1SXWYsQDSg0jyhC5gA6IePhZSdQT54rkwWovzt (Caused by SSLError(SSLError(\"bad handshake: Error([('SSL routines', 'tls_process_server_certificate', 'certificate verify failed')])\")))\n"
     ]
    },
    {
     "name": "stdout",
     "output_type": "stream",
     "text": [
      "Error https://encrypted-tbn0.gstatic.com/images?q=tbn%3AANd9GcRzNIVl2fEqxg2-vAVVGp8pJ788lR9Ur9e60VHaVatVgT8EDpP5 HTTPSConnectionPool(host='encrypted-tbn0.gstatic.com', port=443): Max retries exceeded with url: /images?q=tbn%3AANd9GcRzNIVl2fEqxg2-vAVVGp8pJ788lR9Ur9e60VHaVatVgT8EDpP5 (Caused by SSLError(SSLError(\"bad handshake: Error([('SSL routines', 'tls_process_server_certificate', 'certificate verify failed')])\")))\n",
      "Error https://encrypted-tbn0.gstatic.com/images?q=tbn%3AANd9GcSaadpaSJqPdXm-skcnJ9fmddvzmkbrfCgFuQ_vkf3_c89LuWBp HTTPSConnectionPool(host='encrypted-tbn0.gstatic.com', port=443): Max retries exceeded with url: /images?q=tbn%3AANd9GcSaadpaSJqPdXm-skcnJ9fmddvzmkbrfCgFuQ_vkf3_c89LuWBp (Caused by SSLError(SSLError(\"bad handshake: Error([('SSL routines', 'tls_process_server_certificate', 'certificate verify failed')])\")))\n",
      "Error https://encrypted-tbn0.gstatic.com/images?q=tbn%3AANd9GcRCmYlN1QYM1kH-tsbr8y-mFxFcW7_LoJP-Ne8lmKDZ8c00Gyd_ HTTPSConnectionPool(host='encrypted-tbn0.gstatic.com', port=443): Max retries exceeded with url: /images?q=tbn%3AANd9GcRCmYlN1QYM1kH-tsbr8y-mFxFcW7_LoJP-Ne8lmKDZ8c00Gyd_ (Caused by SSLError(SSLError(\"bad handshake: Error([('SSL routines', 'tls_process_server_certificate', 'certificate verify failed')])\")))\n",
      "Error https://encrypted-tbn0.gstatic.com/images?q=tbn%3AANd9GcTx-265ipsYu4V9k1VqH5jQfRcC7Ya2Y38IcJWkF-ielbZZ7Xqx HTTPSConnectionPool(host='encrypted-tbn0.gstatic.com', port=443): Max retries exceeded with url: /images?q=tbn%3AANd9GcTx-265ipsYu4V9k1VqH5jQfRcC7Ya2Y38IcJWkF-ielbZZ7Xqx (Caused by SSLError(SSLError(\"bad handshake: Error([('SSL routines', 'tls_process_server_certificate', 'certificate verify failed')])\")))\n",
      "Error https://encrypted-tbn0.gstatic.com/images?q=tbn%3AANd9GcThZWmwE2C2leUCT9QkgidKxCAEegHK-3_2Tf6rZK3BIgkJR8_D HTTPSConnectionPool(host='encrypted-tbn0.gstatic.com', port=443): Max retries exceeded with url: /images?q=tbn%3AANd9GcThZWmwE2C2leUCT9QkgidKxCAEegHK-3_2Tf6rZK3BIgkJR8_D (Caused by SSLError(SSLError(\"bad handshake: Error([('SSL routines', 'tls_process_server_certificate', 'certificate verify failed')])\")))\n",
      "Error https://encrypted-tbn0.gstatic.com/images?q=tbn%3AANd9GcTQW5aI43gzPztgcc_XQYHadj_Mj-5oMYVs2CXVYjoF318_YQwG HTTPSConnectionPool(host='encrypted-tbn0.gstatic.com', port=443): Max retries exceeded with url: /images?q=tbn%3AANd9GcTQW5aI43gzPztgcc_XQYHadj_Mj-5oMYVs2CXVYjoF318_YQwG (Caused by SSLError(SSLError(\"bad handshake: Error([('SSL routines', 'tls_process_server_certificate', 'certificate verify failed')])\")))\n",
      "Error https://encrypted-tbn0.gstatic.com/images?q=tbn%3AANd9GcTNZKb9dBaEDrl4HbkjRu-O0YGAJ5kDqkDx86OnxYBNXoWJucOh HTTPSConnectionPool(host='encrypted-tbn0.gstatic.com', port=443): Max retries exceeded with url: /images?q=tbn%3AANd9GcTNZKb9dBaEDrl4HbkjRu-O0YGAJ5kDqkDx86OnxYBNXoWJucOh (Caused by SSLError(SSLError(\"bad handshake: Error([('SSL routines', 'tls_process_server_certificate', 'certificate verify failed')])\")))\n",
      "Error https://encrypted-tbn0.gstatic.com/images?q=tbn%3AANd9GcSq_dQdYqFHw8Jv7ZCbJjMfgx2E_4-YJVBEOZZw2ZwYCD8gXkhC HTTPSConnectionPool(host='encrypted-tbn0.gstatic.com', port=443): Max retries exceeded with url: /images?q=tbn%3AANd9GcSq_dQdYqFHw8Jv7ZCbJjMfgx2E_4-YJVBEOZZw2ZwYCD8gXkhC (Caused by SSLError(SSLError(\"bad handshake: Error([('SSL routines', 'tls_process_server_certificate', 'certificate verify failed')])\")))\n",
      "Error https://encrypted-tbn0.gstatic.com/images?q=tbn%3AANd9GcSVFywVnWr-wDx2vASNQwz5wo_O6HnsPuOKPJNNYWMpapMVTiqT HTTPSConnectionPool(host='encrypted-tbn0.gstatic.com', port=443): Max retries exceeded with url: /images?q=tbn%3AANd9GcSVFywVnWr-wDx2vASNQwz5wo_O6HnsPuOKPJNNYWMpapMVTiqT (Caused by SSLError(SSLError(\"bad handshake: Error([('SSL routines', 'tls_process_server_certificate', 'certificate verify failed')])\")))\n",
      "Error https://encrypted-tbn0.gstatic.com/images?q=tbn%3AANd9GcTCGS1UWDJrHstQuTI0w0GZj5rasTw7fnRVDuUqmOyUAG_yjsgC HTTPSConnectionPool(host='encrypted-tbn0.gstatic.com', port=443): Max retries exceeded with url: /images?q=tbn%3AANd9GcTCGS1UWDJrHstQuTI0w0GZj5rasTw7fnRVDuUqmOyUAG_yjsgC (Caused by SSLError(SSLError(\"bad handshake: Error([('SSL routines', 'tls_process_server_certificate', 'certificate verify failed')])\")))\n",
      "Error https://encrypted-tbn0.gstatic.com/images?q=tbn%3AANd9GcSlrjMNlWGmOma4C4htY2LWMw-TEhdEsZdOtCk-d8X48jg6jlo4 HTTPSConnectionPool(host='encrypted-tbn0.gstatic.com', port=443): Max retries exceeded with url: /images?q=tbn%3AANd9GcSlrjMNlWGmOma4C4htY2LWMw-TEhdEsZdOtCk-d8X48jg6jlo4 (Caused by SSLError(SSLError(\"bad handshake: Error([('SSL routines', 'tls_process_server_certificate', 'certificate verify failed')])\")))\n",
      "Error https://encrypted-tbn0.gstatic.com/images?q=tbn%3AANd9GcTNFRK9MS_OTXQEfNNrjITGaXjuWF4eUHltvG9cs4IL6ihksSiL HTTPSConnectionPool(host='encrypted-tbn0.gstatic.com', port=443): Max retries exceeded with url: /images?q=tbn%3AANd9GcTNFRK9MS_OTXQEfNNrjITGaXjuWF4eUHltvG9cs4IL6ihksSiL (Caused by SSLError(SSLError(\"bad handshake: Error([('SSL routines', 'tls_process_server_certificate', 'certificate verify failed')])\")))\n",
      "Error https://encrypted-tbn0.gstatic.com/images?q=tbn%3AANd9GcTR_YGbLIRzOPgaCGaX5UDud9efCxhX4AIiHtTWdDecsLH9RO41 HTTPSConnectionPool(host='encrypted-tbn0.gstatic.com', port=443): Max retries exceeded with url: /images?q=tbn%3AANd9GcTR_YGbLIRzOPgaCGaX5UDud9efCxhX4AIiHtTWdDecsLH9RO41 (Caused by SSLError(SSLError(\"bad handshake: Error([('SSL routines', 'tls_process_server_certificate', 'certificate verify failed')])\")))\n",
      "Error https://encrypted-tbn0.gstatic.com/images?q=tbn%3AANd9GcSPBwvR9nbctFAkxXe9Ihj0ZY8zYz_sgikD7dbX-1ilFGrN43Gx HTTPSConnectionPool(host='encrypted-tbn0.gstatic.com', port=443): Max retries exceeded with url: /images?q=tbn%3AANd9GcSPBwvR9nbctFAkxXe9Ihj0ZY8zYz_sgikD7dbX-1ilFGrN43Gx (Caused by SSLError(SSLError(\"bad handshake: Error([('SSL routines', 'tls_process_server_certificate', 'certificate verify failed')])\")))\n",
      "Error https://encrypted-tbn0.gstatic.com/images?q=tbn%3AANd9GcS9mCvelbmTjXuZ1s5hnoXKfZdlCwl9WdPT55tbgTgnqzVUA3vD HTTPSConnectionPool(host='encrypted-tbn0.gstatic.com', port=443): Max retries exceeded with url: /images?q=tbn%3AANd9GcS9mCvelbmTjXuZ1s5hnoXKfZdlCwl9WdPT55tbgTgnqzVUA3vD (Caused by SSLError(SSLError(\"bad handshake: Error([('SSL routines', 'tls_process_server_certificate', 'certificate verify failed')])\")))\n",
      "Error https://encrypted-tbn0.gstatic.com/images?q=tbn%3AANd9GcR9e9GRXwm_rr5MnNPt1QtGLjou-yMCW90TxqtO-UuHNnaP2jNY HTTPSConnectionPool(host='encrypted-tbn0.gstatic.com', port=443): Max retries exceeded with url: /images?q=tbn%3AANd9GcR9e9GRXwm_rr5MnNPt1QtGLjou-yMCW90TxqtO-UuHNnaP2jNY (Caused by SSLError(SSLError(\"bad handshake: Error([('SSL routines', 'tls_process_server_certificate', 'certificate verify failed')])\")))\n",
      "Error https://encrypted-tbn0.gstatic.com/images?q=tbn%3AANd9GcR46fce9p8L3WmfVSc4sj1CaTMfRGwV-5LS5cyDKADNfk_libKk HTTPSConnectionPool(host='encrypted-tbn0.gstatic.com', port=443): Max retries exceeded with url: /images?q=tbn%3AANd9GcR46fce9p8L3WmfVSc4sj1CaTMfRGwV-5LS5cyDKADNfk_libKk (Caused by SSLError(SSLError(\"bad handshake: Error([('SSL routines', 'tls_process_server_certificate', 'certificate verify failed')])\")))\n",
      "Error https://encrypted-tbn0.gstatic.com/images?q=tbn%3AANd9GcTGg4FSl9cJsGuV6A-2AySFmXf9hTChHwaszNHqF2CQoZth8nWj HTTPSConnectionPool(host='encrypted-tbn0.gstatic.com', port=443): Max retries exceeded with url: /images?q=tbn%3AANd9GcTGg4FSl9cJsGuV6A-2AySFmXf9hTChHwaszNHqF2CQoZth8nWj (Caused by SSLError(SSLError(\"bad handshake: Error([('SSL routines', 'tls_process_server_certificate', 'certificate verify failed')])\")))\n",
      "Error https://encrypted-tbn0.gstatic.com/images?q=tbn%3AANd9GcQzjkFThHMs6CZsqGpsFccMZQgeGuZ5kl52ueEuS4kX4Nb8csDU HTTPSConnectionPool(host='encrypted-tbn0.gstatic.com', port=443): Max retries exceeded with url: /images?q=tbn%3AANd9GcQzjkFThHMs6CZsqGpsFccMZQgeGuZ5kl52ueEuS4kX4Nb8csDU (Caused by SSLError(SSLError(\"bad handshake: Error([('SSL routines', 'tls_process_server_certificate', 'certificate verify failed')])\")))\n",
      "Error https://encrypted-tbn0.gstatic.com/images?q=tbn%3AANd9GcQxksgIDjOFqnBSGmA90MIHmH0nCa2DJEUSMII-EK-xYaYXItow HTTPSConnectionPool(host='encrypted-tbn0.gstatic.com', port=443): Max retries exceeded with url: /images?q=tbn%3AANd9GcQxksgIDjOFqnBSGmA90MIHmH0nCa2DJEUSMII-EK-xYaYXItow (Caused by SSLError(SSLError(\"bad handshake: Error([('SSL routines', 'tls_process_server_certificate', 'certificate verify failed')])\")))\n"
     ]
    },
    {
     "name": "stdout",
     "output_type": "stream",
     "text": [
      "Error https://encrypted-tbn0.gstatic.com/images?q=tbn%3AANd9GcQGlxhnME5DtUVfaLfyrK2hfBdPk4X_osH8MZay87YUonttkgde HTTPSConnectionPool(host='encrypted-tbn0.gstatic.com', port=443): Max retries exceeded with url: /images?q=tbn%3AANd9GcQGlxhnME5DtUVfaLfyrK2hfBdPk4X_osH8MZay87YUonttkgde (Caused by SSLError(SSLError(\"bad handshake: Error([('SSL routines', 'tls_process_server_certificate', 'certificate verify failed')])\")))\n",
      "Error https://encrypted-tbn0.gstatic.com/images?q=tbn%3AANd9GcRTJ_F9HsskqnuAa4tx1BVVfSr4kCxvJYI2fEOdGmahjIuwR-22 HTTPSConnectionPool(host='encrypted-tbn0.gstatic.com', port=443): Max retries exceeded with url: /images?q=tbn%3AANd9GcRTJ_F9HsskqnuAa4tx1BVVfSr4kCxvJYI2fEOdGmahjIuwR-22 (Caused by SSLError(SSLError(\"bad handshake: Error([('SSL routines', 'tls_process_server_certificate', 'certificate verify failed')])\")))\n",
      "Error https://encrypted-tbn0.gstatic.com/images?q=tbn%3AANd9GcR06fHXEGWf6RMrnoTXImxfAPtF2LcQJCJn0iPoAz7IGowsmcmz HTTPSConnectionPool(host='encrypted-tbn0.gstatic.com', port=443): Max retries exceeded with url: /images?q=tbn%3AANd9GcR06fHXEGWf6RMrnoTXImxfAPtF2LcQJCJn0iPoAz7IGowsmcmz (Caused by SSLError(SSLError(\"bad handshake: Error([('SSL routines', 'tls_process_server_certificate', 'certificate verify failed')])\")))\n",
      "Error https://encrypted-tbn0.gstatic.com/images?q=tbn%3AANd9GcSKUU6SfvGyn75CDMh-obFVZR87VtMs2mHBo2y56FqyOt1Mwo27 HTTPSConnectionPool(host='encrypted-tbn0.gstatic.com', port=443): Max retries exceeded with url: /images?q=tbn%3AANd9GcSKUU6SfvGyn75CDMh-obFVZR87VtMs2mHBo2y56FqyOt1Mwo27 (Caused by SSLError(SSLError(\"bad handshake: Error([('SSL routines', 'tls_process_server_certificate', 'certificate verify failed')])\")))\n",
      "Error https://encrypted-tbn0.gstatic.com/images?q=tbn%3AANd9GcThisyAnipqxq-ehu8mtlNrzdrDCgQ59oCfp7_kMl43NrGIlgyq HTTPSConnectionPool(host='encrypted-tbn0.gstatic.com', port=443): Max retries exceeded with url: /images?q=tbn%3AANd9GcThisyAnipqxq-ehu8mtlNrzdrDCgQ59oCfp7_kMl43NrGIlgyq (Caused by SSLError(SSLError(\"bad handshake: Error([('SSL routines', 'tls_process_server_certificate', 'certificate verify failed')])\")))\n",
      "Error https://encrypted-tbn0.gstatic.com/images?q=tbn%3AANd9GcRNlNtNNP8XKJKqyN9U5FsvZoj61iMnBuWLlqB0i9Q3QCAqKjV6 HTTPSConnectionPool(host='encrypted-tbn0.gstatic.com', port=443): Max retries exceeded with url: /images?q=tbn%3AANd9GcRNlNtNNP8XKJKqyN9U5FsvZoj61iMnBuWLlqB0i9Q3QCAqKjV6 (Caused by SSLError(SSLError(\"bad handshake: Error([('SSL routines', 'tls_process_server_certificate', 'certificate verify failed')])\")))\n",
      "Error https://encrypted-tbn0.gstatic.com/images?q=tbn%3AANd9GcShJy2Vg078TrtUyOHaK7bWslUed6HGl0EUsRF__PXwQc_cUVVZ HTTPSConnectionPool(host='encrypted-tbn0.gstatic.com', port=443): Max retries exceeded with url: /images?q=tbn%3AANd9GcShJy2Vg078TrtUyOHaK7bWslUed6HGl0EUsRF__PXwQc_cUVVZ (Caused by SSLError(SSLError(\"bad handshake: Error([('SSL routines', 'tls_process_server_certificate', 'certificate verify failed')])\")))\n",
      "Error https://encrypted-tbn0.gstatic.com/images?q=tbn%3AANd9GcR5G8MFr03IpPcTAr7YVdyqXFatDn53FFyySbe9WXdG1yGvof7V HTTPSConnectionPool(host='encrypted-tbn0.gstatic.com', port=443): Max retries exceeded with url: /images?q=tbn%3AANd9GcR5G8MFr03IpPcTAr7YVdyqXFatDn53FFyySbe9WXdG1yGvof7V (Caused by SSLError(SSLError(\"bad handshake: Error([('SSL routines', 'tls_process_server_certificate', 'certificate verify failed')])\")))\n",
      "Error https://encrypted-tbn0.gstatic.com/images?q=tbn%3AANd9GcT1MqTpAZBQ12vgLWOfp6x0PTj-rSYBqoGrQTF3hSMx966rbA1o HTTPSConnectionPool(host='encrypted-tbn0.gstatic.com', port=443): Max retries exceeded with url: /images?q=tbn%3AANd9GcT1MqTpAZBQ12vgLWOfp6x0PTj-rSYBqoGrQTF3hSMx966rbA1o (Caused by SSLError(SSLError(\"bad handshake: Error([('SSL routines', 'tls_process_server_certificate', 'certificate verify failed')])\")))\n",
      "Error https://encrypted-tbn0.gstatic.com/images?q=tbn%3AANd9GcSAHfAnjXQ9jl4BcL9_Zk-Lzv1eLcXI2Kuc4K_ygqGHidzUFhqr HTTPSConnectionPool(host='encrypted-tbn0.gstatic.com', port=443): Max retries exceeded with url: /images?q=tbn%3AANd9GcSAHfAnjXQ9jl4BcL9_Zk-Lzv1eLcXI2Kuc4K_ygqGHidzUFhqr (Caused by SSLError(SSLError(\"bad handshake: Error([('SSL routines', 'tls_process_server_certificate', 'certificate verify failed')])\")))\n",
      "Error https://encrypted-tbn0.gstatic.com/images?q=tbn%3AANd9GcSu4X7RbV6B4FqJUy58F2PcXVcMyY_jTKw91fu5t40BnNktIy1n HTTPSConnectionPool(host='encrypted-tbn0.gstatic.com', port=443): Max retries exceeded with url: /images?q=tbn%3AANd9GcSu4X7RbV6B4FqJUy58F2PcXVcMyY_jTKw91fu5t40BnNktIy1n (Caused by SSLError(SSLError(\"bad handshake: Error([('SSL routines', 'tls_process_server_certificate', 'certificate verify failed')])\")))\n",
      "Error https://encrypted-tbn0.gstatic.com/images?q=tbn%3AANd9GcT2Lhb2pq2XojDPoVzO5DsYLC_0QKzvD_LuqJNhVvLFuXmzGWEU HTTPSConnectionPool(host='encrypted-tbn0.gstatic.com', port=443): Max retries exceeded with url: /images?q=tbn%3AANd9GcT2Lhb2pq2XojDPoVzO5DsYLC_0QKzvD_LuqJNhVvLFuXmzGWEU (Caused by SSLError(SSLError(\"bad handshake: Error([('SSL routines', 'tls_process_server_certificate', 'certificate verify failed')])\")))\n",
      "Error https://encrypted-tbn0.gstatic.com/images?q=tbn%3AANd9GcQlqxEICuUqBXkdFAyVQFJNa_3-xhoXpNvV6vy4EpEiZvVrYXeJ HTTPSConnectionPool(host='encrypted-tbn0.gstatic.com', port=443): Max retries exceeded with url: /images?q=tbn%3AANd9GcQlqxEICuUqBXkdFAyVQFJNa_3-xhoXpNvV6vy4EpEiZvVrYXeJ (Caused by SSLError(SSLError(\"bad handshake: Error([('SSL routines', 'tls_process_server_certificate', 'certificate verify failed')])\")))\n",
      "Error https://encrypted-tbn0.gstatic.com/images?q=tbn%3AANd9GcRnflU8Cz8gvvqwaOxLedpgSNyX_jEZGEKAjZY1soKpbElk0GRL HTTPSConnectionPool(host='encrypted-tbn0.gstatic.com', port=443): Max retries exceeded with url: /images?q=tbn%3AANd9GcRnflU8Cz8gvvqwaOxLedpgSNyX_jEZGEKAjZY1soKpbElk0GRL (Caused by SSLError(SSLError(\"bad handshake: Error([('SSL routines', 'tls_process_server_certificate', 'certificate verify failed')])\")))\n",
      "Error https://encrypted-tbn0.gstatic.com/images?q=tbn%3AANd9GcRKeakkSAumhOk7_eqezI-XLFcp1N0OpnepdLSae-qTtK4udCoR HTTPSConnectionPool(host='encrypted-tbn0.gstatic.com', port=443): Max retries exceeded with url: /images?q=tbn%3AANd9GcRKeakkSAumhOk7_eqezI-XLFcp1N0OpnepdLSae-qTtK4udCoR (Caused by SSLError(SSLError(\"bad handshake: Error([('SSL routines', 'tls_process_server_certificate', 'certificate verify failed')])\")))\n",
      "Error https://encrypted-tbn0.gstatic.com/images?q=tbn%3AANd9GcTrMQ0-VQ9svp8mkfAYbjcH-HWoEHwmZgLyc2oSCp16pcg0Dp-- HTTPSConnectionPool(host='encrypted-tbn0.gstatic.com', port=443): Max retries exceeded with url: /images?q=tbn%3AANd9GcTrMQ0-VQ9svp8mkfAYbjcH-HWoEHwmZgLyc2oSCp16pcg0Dp-- (Caused by SSLError(SSLError(\"bad handshake: Error([('SSL routines', 'tls_process_server_certificate', 'certificate verify failed')])\")))\n",
      "Error https://encrypted-tbn0.gstatic.com/images?q=tbn%3AANd9GcTXPmsgpzavHU9wjVwmiScgpOYYDSr6ADtX5BM2SGjo5bp3IGRE HTTPSConnectionPool(host='encrypted-tbn0.gstatic.com', port=443): Max retries exceeded with url: /images?q=tbn%3AANd9GcTXPmsgpzavHU9wjVwmiScgpOYYDSr6ADtX5BM2SGjo5bp3IGRE (Caused by SSLError(SSLError(\"bad handshake: Error([('SSL routines', 'tls_process_server_certificate', 'certificate verify failed')])\")))\n",
      "Error https://encrypted-tbn0.gstatic.com/images?q=tbn%3AANd9GcSc5xiHZwl7F-1BqBd2L3eSp3yw8X_Kb_8BTiUVGXqs0ELuRvd5 HTTPSConnectionPool(host='encrypted-tbn0.gstatic.com', port=443): Max retries exceeded with url: /images?q=tbn%3AANd9GcSc5xiHZwl7F-1BqBd2L3eSp3yw8X_Kb_8BTiUVGXqs0ELuRvd5 (Caused by SSLError(SSLError(\"bad handshake: Error([('SSL routines', 'tls_process_server_certificate', 'certificate verify failed')])\")))\n",
      "Error https://encrypted-tbn0.gstatic.com/images?q=tbn%3AANd9GcT-zFBfwqIQ5F1k1drJkmTb9-fJxBxpClIeQJ_9nlaHMQJhSLIX HTTPSConnectionPool(host='encrypted-tbn0.gstatic.com', port=443): Max retries exceeded with url: /images?q=tbn%3AANd9GcT-zFBfwqIQ5F1k1drJkmTb9-fJxBxpClIeQJ_9nlaHMQJhSLIX (Caused by SSLError(SSLError(\"bad handshake: Error([('SSL routines', 'tls_process_server_certificate', 'certificate verify failed')])\")))\n",
      "Error https://encrypted-tbn0.gstatic.com/images?q=tbn%3AANd9GcTjvYT2i1d4v_TtGUi8sPIMPHmjgZzscbUeSaJ-gzjkolg9IPW2 HTTPSConnectionPool(host='encrypted-tbn0.gstatic.com', port=443): Max retries exceeded with url: /images?q=tbn%3AANd9GcTjvYT2i1d4v_TtGUi8sPIMPHmjgZzscbUeSaJ-gzjkolg9IPW2 (Caused by SSLError(SSLError(\"bad handshake: Error([('SSL routines', 'tls_process_server_certificate', 'certificate verify failed')])\")))\n"
     ]
    },
    {
     "name": "stdout",
     "output_type": "stream",
     "text": [
      "Error https://encrypted-tbn0.gstatic.com/images?q=tbn%3AANd9GcTzDSFQoA7o3HMtNDlBumIUVeX6wol8eevziwkRIgDhNs8kO4Pi HTTPSConnectionPool(host='encrypted-tbn0.gstatic.com', port=443): Max retries exceeded with url: /images?q=tbn%3AANd9GcTzDSFQoA7o3HMtNDlBumIUVeX6wol8eevziwkRIgDhNs8kO4Pi (Caused by SSLError(SSLError(\"bad handshake: Error([('SSL routines', 'tls_process_server_certificate', 'certificate verify failed')])\")))\n",
      "Error https://encrypted-tbn0.gstatic.com/images?q=tbn%3AANd9GcRNVoxvgFjwRWd4bsH0uJcWlKOq-xzDSQv8rlIrewue1X2xy6L8 HTTPSConnectionPool(host='encrypted-tbn0.gstatic.com', port=443): Max retries exceeded with url: /images?q=tbn%3AANd9GcRNVoxvgFjwRWd4bsH0uJcWlKOq-xzDSQv8rlIrewue1X2xy6L8 (Caused by SSLError(SSLError(\"bad handshake: Error([('SSL routines', 'tls_process_server_certificate', 'certificate verify failed')])\")))\n",
      "Error https://encrypted-tbn0.gstatic.com/images?q=tbn%3AANd9GcRJZzbCr6hQTHL4g4bx0PXeLWccaEsSTwcgH7gdjwsMv8japUj5 HTTPSConnectionPool(host='encrypted-tbn0.gstatic.com', port=443): Max retries exceeded with url: /images?q=tbn%3AANd9GcRJZzbCr6hQTHL4g4bx0PXeLWccaEsSTwcgH7gdjwsMv8japUj5 (Caused by SSLError(SSLError(\"bad handshake: Error([('SSL routines', 'tls_process_server_certificate', 'certificate verify failed')])\")))\n",
      "Error https://encrypted-tbn0.gstatic.com/images?q=tbn%3AANd9GcQ2cj9d-q2dEXwHTs0GUOAaUwZrlU-aTNrhxvnopI-G30-rrKfD HTTPSConnectionPool(host='encrypted-tbn0.gstatic.com', port=443): Max retries exceeded with url: /images?q=tbn%3AANd9GcQ2cj9d-q2dEXwHTs0GUOAaUwZrlU-aTNrhxvnopI-G30-rrKfD (Caused by SSLError(SSLError(\"bad handshake: Error([('SSL routines', 'tls_process_server_certificate', 'certificate verify failed')])\")))\n",
      "Error https://encrypted-tbn0.gstatic.com/images?q=tbn%3AANd9GcSeE_VgMK6D4PnMRjm7x9k5yNKoM7JVDoCknYGsC8ibBCzRAknF HTTPSConnectionPool(host='encrypted-tbn0.gstatic.com', port=443): Max retries exceeded with url: /images?q=tbn%3AANd9GcSeE_VgMK6D4PnMRjm7x9k5yNKoM7JVDoCknYGsC8ibBCzRAknF (Caused by SSLError(SSLError(\"bad handshake: Error([('SSL routines', 'tls_process_server_certificate', 'certificate verify failed')])\")))\n",
      "Error https://encrypted-tbn0.gstatic.com/images?q=tbn%3AANd9GcRdNEHnYn3OilliwTTmlp4XWK69cw0H98K58ooa50mx3PM68zfL HTTPSConnectionPool(host='encrypted-tbn0.gstatic.com', port=443): Max retries exceeded with url: /images?q=tbn%3AANd9GcRdNEHnYn3OilliwTTmlp4XWK69cw0H98K58ooa50mx3PM68zfL (Caused by SSLError(SSLError(\"bad handshake: Error([('SSL routines', 'tls_process_server_certificate', 'certificate verify failed')])\")))\n",
      "Error https://encrypted-tbn0.gstatic.com/images?q=tbn%3AANd9GcT6gJBCRUfeebByIxFRKCJpD5rxtQkNZoHbv-LW3np5RfU7wbuc HTTPSConnectionPool(host='encrypted-tbn0.gstatic.com', port=443): Max retries exceeded with url: /images?q=tbn%3AANd9GcT6gJBCRUfeebByIxFRKCJpD5rxtQkNZoHbv-LW3np5RfU7wbuc (Caused by SSLError(SSLError(\"bad handshake: Error([('SSL routines', 'tls_process_server_certificate', 'certificate verify failed')])\")))\n",
      "Error https://encrypted-tbn0.gstatic.com/images?q=tbn%3AANd9GcQeJCKparkEMqTNwBQg0KeanKFi9NkyPtS4NOw6Jjeci2Fvb4U9 HTTPSConnectionPool(host='encrypted-tbn0.gstatic.com', port=443): Max retries exceeded with url: /images?q=tbn%3AANd9GcQeJCKparkEMqTNwBQg0KeanKFi9NkyPtS4NOw6Jjeci2Fvb4U9 (Caused by SSLError(SSLError(\"bad handshake: Error([('SSL routines', 'tls_process_server_certificate', 'certificate verify failed')])\")))\n",
      "Error https://encrypted-tbn0.gstatic.com/images?q=tbn%3AANd9GcTSnB1E6q7m6iPJ4rGG_X3qCS-GgCUQy9bYfyhtq3jMWUuopbff HTTPSConnectionPool(host='encrypted-tbn0.gstatic.com', port=443): Max retries exceeded with url: /images?q=tbn%3AANd9GcTSnB1E6q7m6iPJ4rGG_X3qCS-GgCUQy9bYfyhtq3jMWUuopbff (Caused by SSLError(SSLError(\"bad handshake: Error([('SSL routines', 'tls_process_server_certificate', 'certificate verify failed')])\")))\n",
      "Error https://encrypted-tbn0.gstatic.com/images?q=tbn%3AANd9GcTYSSvbSVzxvJRGi3b6W4RGxxr-mYQf1OhgKoozB0taefgPkdP2 HTTPSConnectionPool(host='encrypted-tbn0.gstatic.com', port=443): Max retries exceeded with url: /images?q=tbn%3AANd9GcTYSSvbSVzxvJRGi3b6W4RGxxr-mYQf1OhgKoozB0taefgPkdP2 (Caused by SSLError(SSLError(\"bad handshake: Error([('SSL routines', 'tls_process_server_certificate', 'certificate verify failed')])\")))\n",
      "Error https://encrypted-tbn0.gstatic.com/images?q=tbn%3AANd9GcRLsZW7lkje-o7AXrWffgx7N_QRDXNVj441ZLY-weYxfrN1_Xxx HTTPSConnectionPool(host='encrypted-tbn0.gstatic.com', port=443): Max retries exceeded with url: /images?q=tbn%3AANd9GcRLsZW7lkje-o7AXrWffgx7N_QRDXNVj441ZLY-weYxfrN1_Xxx (Caused by SSLError(SSLError(\"bad handshake: Error([('SSL routines', 'tls_process_server_certificate', 'certificate verify failed')])\")))\n",
      "Error https://encrypted-tbn0.gstatic.com/images?q=tbn%3AANd9GcT3rCB0HLaJJDt6cJGGuj_zcJerM_sjhcpcFgjCjuoouNCc5bp- HTTPSConnectionPool(host='encrypted-tbn0.gstatic.com', port=443): Max retries exceeded with url: /images?q=tbn%3AANd9GcT3rCB0HLaJJDt6cJGGuj_zcJerM_sjhcpcFgjCjuoouNCc5bp- (Caused by SSLError(SSLError(\"bad handshake: Error([('SSL routines', 'tls_process_server_certificate', 'certificate verify failed')])\")))\n",
      "Error https://encrypted-tbn0.gstatic.com/images?q=tbn%3AANd9GcRR3mGHCY1Hd0-GkmDCSUG8dT2IwJJcgYQNvGQT-ysFb07slG9M HTTPSConnectionPool(host='encrypted-tbn0.gstatic.com', port=443): Max retries exceeded with url: /images?q=tbn%3AANd9GcRR3mGHCY1Hd0-GkmDCSUG8dT2IwJJcgYQNvGQT-ysFb07slG9M (Caused by SSLError(SSLError(\"bad handshake: Error([('SSL routines', 'tls_process_server_certificate', 'certificate verify failed')])\")))\n",
      "Error https://encrypted-tbn0.gstatic.com/images?q=tbn%3AANd9GcSjVtQS5it6F0n8OMd2PgHf9CGydj32J_oHORZovviS2UOoX-eg HTTPSConnectionPool(host='encrypted-tbn0.gstatic.com', port=443): Max retries exceeded with url: /images?q=tbn%3AANd9GcSjVtQS5it6F0n8OMd2PgHf9CGydj32J_oHORZovviS2UOoX-eg (Caused by SSLError(SSLError(\"bad handshake: Error([('SSL routines', 'tls_process_server_certificate', 'certificate verify failed')])\")))\n",
      "Error https://encrypted-tbn0.gstatic.com/images?q=tbn%3AANd9GcQWkBWbykaX4G_6dKMDFpeXt2Vb8IT8-tIN_I_kDw5jxuPraSPw HTTPSConnectionPool(host='encrypted-tbn0.gstatic.com', port=443): Max retries exceeded with url: /images?q=tbn%3AANd9GcQWkBWbykaX4G_6dKMDFpeXt2Vb8IT8-tIN_I_kDw5jxuPraSPw (Caused by SSLError(SSLError(\"bad handshake: Error([('SSL routines', 'tls_process_server_certificate', 'certificate verify failed')])\")))\n",
      "Error https://encrypted-tbn0.gstatic.com/images?q=tbn%3AANd9GcRj9-N5B4-sSv9guja7ApWWZRbsTqNT8A41N7yfsoZspzudWrkq HTTPSConnectionPool(host='encrypted-tbn0.gstatic.com', port=443): Max retries exceeded with url: /images?q=tbn%3AANd9GcRj9-N5B4-sSv9guja7ApWWZRbsTqNT8A41N7yfsoZspzudWrkq (Caused by SSLError(SSLError(\"bad handshake: Error([('SSL routines', 'tls_process_server_certificate', 'certificate verify failed')])\")))\n",
      "Error https://encrypted-tbn0.gstatic.com/images?q=tbn%3AANd9GcRqxGshDljLQvEi-ILtF_ESjxJrYm8mQ4RA4QDWwND8hIehfWjH HTTPSConnectionPool(host='encrypted-tbn0.gstatic.com', port=443): Max retries exceeded with url: /images?q=tbn%3AANd9GcRqxGshDljLQvEi-ILtF_ESjxJrYm8mQ4RA4QDWwND8hIehfWjH (Caused by SSLError(SSLError(\"bad handshake: Error([('SSL routines', 'tls_process_server_certificate', 'certificate verify failed')])\")))\n",
      "Error https://encrypted-tbn0.gstatic.com/images?q=tbn%3AANd9GcQEif5LN-riO5v0ZulvkHBJ5hMNTpOxNY7mf3tyl5CSUwl5zo0T HTTPSConnectionPool(host='encrypted-tbn0.gstatic.com', port=443): Max retries exceeded with url: /images?q=tbn%3AANd9GcQEif5LN-riO5v0ZulvkHBJ5hMNTpOxNY7mf3tyl5CSUwl5zo0T (Caused by SSLError(SSLError(\"bad handshake: Error([('SSL routines', 'tls_process_server_certificate', 'certificate verify failed')])\")))\n",
      "Error https://encrypted-tbn0.gstatic.com/images?q=tbn%3AANd9GcSUsB_qSSisGfsRo3joU0gsdpWDUgNVFLyF1FBI8JesHmI6J-0G HTTPSConnectionPool(host='encrypted-tbn0.gstatic.com', port=443): Max retries exceeded with url: /images?q=tbn%3AANd9GcSUsB_qSSisGfsRo3joU0gsdpWDUgNVFLyF1FBI8JesHmI6J-0G (Caused by SSLError(SSLError(\"bad handshake: Error([('SSL routines', 'tls_process_server_certificate', 'certificate verify failed')])\")))\n",
      "Error https://encrypted-tbn0.gstatic.com/images?q=tbn%3AANd9GcQJdFLpe-223gWaQ-ggLMq86WvUWnku90JHXOkRkTpmBr-LzTRz HTTPSConnectionPool(host='encrypted-tbn0.gstatic.com', port=443): Max retries exceeded with url: /images?q=tbn%3AANd9GcQJdFLpe-223gWaQ-ggLMq86WvUWnku90JHXOkRkTpmBr-LzTRz (Caused by SSLError(SSLError(\"bad handshake: Error([('SSL routines', 'tls_process_server_certificate', 'certificate verify failed')])\")))\n"
     ]
    },
    {
     "name": "stdout",
     "output_type": "stream",
     "text": [
      "Error https://encrypted-tbn0.gstatic.com/images?q=tbn%3AANd9GcQnOcoOUEI_J9LUCYpgesCzB9YIGMME5Dj0S56a3FvkfbY6C1fB HTTPSConnectionPool(host='encrypted-tbn0.gstatic.com', port=443): Max retries exceeded with url: /images?q=tbn%3AANd9GcQnOcoOUEI_J9LUCYpgesCzB9YIGMME5Dj0S56a3FvkfbY6C1fB (Caused by SSLError(SSLError(\"bad handshake: Error([('SSL routines', 'tls_process_server_certificate', 'certificate verify failed')])\")))\n",
      "Error https://encrypted-tbn0.gstatic.com/images?q=tbn%3AANd9GcTUnVsJ5bidn57u__XeucLUh0VLtIpQNjTZnGlRAHWBT9XMH5P2 HTTPSConnectionPool(host='encrypted-tbn0.gstatic.com', port=443): Max retries exceeded with url: /images?q=tbn%3AANd9GcTUnVsJ5bidn57u__XeucLUh0VLtIpQNjTZnGlRAHWBT9XMH5P2 (Caused by SSLError(SSLError(\"bad handshake: Error([('SSL routines', 'tls_process_server_certificate', 'certificate verify failed')])\")))\n",
      "Error https://encrypted-tbn0.gstatic.com/images?q=tbn%3AANd9GcSJ86kzwD1lSjzmxmU0rUUS3xadOJkWsdeLSndrJMWy-cV_AXt5 HTTPSConnectionPool(host='encrypted-tbn0.gstatic.com', port=443): Max retries exceeded with url: /images?q=tbn%3AANd9GcSJ86kzwD1lSjzmxmU0rUUS3xadOJkWsdeLSndrJMWy-cV_AXt5 (Caused by SSLError(SSLError(\"bad handshake: Error([('SSL routines', 'tls_process_server_certificate', 'certificate verify failed')])\")))\n",
      "Error https://encrypted-tbn0.gstatic.com/images?q=tbn%3AANd9GcReXx3HUE-n07ixhcQGizhZSC5nmuz4jBACgADh4TxhwTVzh-hZ HTTPSConnectionPool(host='encrypted-tbn0.gstatic.com', port=443): Max retries exceeded with url: /images?q=tbn%3AANd9GcReXx3HUE-n07ixhcQGizhZSC5nmuz4jBACgADh4TxhwTVzh-hZ (Caused by SSLError(SSLError(\"bad handshake: Error([('SSL routines', 'tls_process_server_certificate', 'certificate verify failed')])\")))\n",
      "Error https://encrypted-tbn0.gstatic.com/images?q=tbn%3AANd9GcRMo6EJ3TYQLKcj2dNyoH1GdppyvjdDNZQhyVlyhjIjZXjJ1Bqc HTTPSConnectionPool(host='encrypted-tbn0.gstatic.com', port=443): Max retries exceeded with url: /images?q=tbn%3AANd9GcRMo6EJ3TYQLKcj2dNyoH1GdppyvjdDNZQhyVlyhjIjZXjJ1Bqc (Caused by SSLError(SSLError(\"bad handshake: Error([('SSL routines', 'tls_process_server_certificate', 'certificate verify failed')])\")))\n",
      "Error https://encrypted-tbn0.gstatic.com/images?q=tbn%3AANd9GcRWVFiKtptFP9_NHEcbXt1U84aQMGwvRAkJ_DQZshBiAMNQY2lc HTTPSConnectionPool(host='encrypted-tbn0.gstatic.com', port=443): Max retries exceeded with url: /images?q=tbn%3AANd9GcRWVFiKtptFP9_NHEcbXt1U84aQMGwvRAkJ_DQZshBiAMNQY2lc (Caused by SSLError(SSLError(\"bad handshake: Error([('SSL routines', 'tls_process_server_certificate', 'certificate verify failed')])\")))\n",
      "Error https://encrypted-tbn0.gstatic.com/images?q=tbn%3AANd9GcS4CBUkh3sqV8BQLeZO_5p9T3yIf00B_IxqX6f_NG2IuK90vc1U HTTPSConnectionPool(host='encrypted-tbn0.gstatic.com', port=443): Max retries exceeded with url: /images?q=tbn%3AANd9GcS4CBUkh3sqV8BQLeZO_5p9T3yIf00B_IxqX6f_NG2IuK90vc1U (Caused by SSLError(SSLError(\"bad handshake: Error([('SSL routines', 'tls_process_server_certificate', 'certificate verify failed')])\")))\n",
      "Error https://encrypted-tbn0.gstatic.com/images?q=tbn%3AANd9GcQQ4QCH8Kd34vZsDROzUi2gaE08m-JTZKprqPXwdykDPOII-YFQ HTTPSConnectionPool(host='encrypted-tbn0.gstatic.com', port=443): Max retries exceeded with url: /images?q=tbn%3AANd9GcQQ4QCH8Kd34vZsDROzUi2gaE08m-JTZKprqPXwdykDPOII-YFQ (Caused by SSLError(SSLError(\"bad handshake: Error([('SSL routines', 'tls_process_server_certificate', 'certificate verify failed')])\")))\n",
      "Error https://encrypted-tbn0.gstatic.com/images?q=tbn%3AANd9GcRm2_S00-TmcX9Zd8bOibXxQ6V7Y5YfAhO_9VGFqlaVAPM2fsqf HTTPSConnectionPool(host='encrypted-tbn0.gstatic.com', port=443): Max retries exceeded with url: /images?q=tbn%3AANd9GcRm2_S00-TmcX9Zd8bOibXxQ6V7Y5YfAhO_9VGFqlaVAPM2fsqf (Caused by SSLError(SSLError(\"bad handshake: Error([('SSL routines', 'tls_process_server_certificate', 'certificate verify failed')])\")))\n",
      "Error https://encrypted-tbn0.gstatic.com/images?q=tbn%3AANd9GcTWpBffm0XPr_j3lJFO5RbbM2I_9OEbS0jejYKMQCpNRuLOauqd HTTPSConnectionPool(host='encrypted-tbn0.gstatic.com', port=443): Max retries exceeded with url: /images?q=tbn%3AANd9GcTWpBffm0XPr_j3lJFO5RbbM2I_9OEbS0jejYKMQCpNRuLOauqd (Caused by SSLError(SSLError(\"bad handshake: Error([('SSL routines', 'tls_process_server_certificate', 'certificate verify failed')])\")))\n",
      "Error https://encrypted-tbn0.gstatic.com/images?q=tbn%3AANd9GcSPNylbD2TXa8LvT8KZpWS_cq_zEFwAgmnRKWvPHT4DYG539QWh HTTPSConnectionPool(host='encrypted-tbn0.gstatic.com', port=443): Max retries exceeded with url: /images?q=tbn%3AANd9GcSPNylbD2TXa8LvT8KZpWS_cq_zEFwAgmnRKWvPHT4DYG539QWh (Caused by SSLError(SSLError(\"bad handshake: Error([('SSL routines', 'tls_process_server_certificate', 'certificate verify failed')])\")))\n",
      "Error https://encrypted-tbn0.gstatic.com/images?q=tbn%3AANd9GcTJK4grsZSobc3K4tEm-goWjL52YRXLr0ywRUmezxyrSW460qny HTTPSConnectionPool(host='encrypted-tbn0.gstatic.com', port=443): Max retries exceeded with url: /images?q=tbn%3AANd9GcTJK4grsZSobc3K4tEm-goWjL52YRXLr0ywRUmezxyrSW460qny (Caused by SSLError(SSLError(\"bad handshake: Error([('SSL routines', 'tls_process_server_certificate', 'certificate verify failed')])\")))\n",
      "Error https://encrypted-tbn0.gstatic.com/images?q=tbn%3AANd9GcTNvQHT5nNPPsD9nwtdNGYNePqxSVWHDQYCXL71QPNrm4Yhbuid HTTPSConnectionPool(host='encrypted-tbn0.gstatic.com', port=443): Max retries exceeded with url: /images?q=tbn%3AANd9GcTNvQHT5nNPPsD9nwtdNGYNePqxSVWHDQYCXL71QPNrm4Yhbuid (Caused by SSLError(SSLError(\"bad handshake: Error([('SSL routines', 'tls_process_server_certificate', 'certificate verify failed')])\")))\n",
      "Error https://encrypted-tbn0.gstatic.com/images?q=tbn%3AANd9GcTWZCjVyjJiVUM19vGCAf_tjgOlUgJfr1SNPRqsztMIMMJKdFaz HTTPSConnectionPool(host='encrypted-tbn0.gstatic.com', port=443): Max retries exceeded with url: /images?q=tbn%3AANd9GcTWZCjVyjJiVUM19vGCAf_tjgOlUgJfr1SNPRqsztMIMMJKdFaz (Caused by SSLError(SSLError(\"bad handshake: Error([('SSL routines', 'tls_process_server_certificate', 'certificate verify failed')])\")))\n",
      "Error https://encrypted-tbn0.gstatic.com/images?q=tbn%3AANd9GcTGeSe-aYXTwCoEt6qwsXtZm9i4gnpkI7MqDn1eSEokmpBb9ArE HTTPSConnectionPool(host='encrypted-tbn0.gstatic.com', port=443): Max retries exceeded with url: /images?q=tbn%3AANd9GcTGeSe-aYXTwCoEt6qwsXtZm9i4gnpkI7MqDn1eSEokmpBb9ArE (Caused by SSLError(SSLError(\"bad handshake: Error([('SSL routines', 'tls_process_server_certificate', 'certificate verify failed')])\")))\n",
      "Error https://encrypted-tbn0.gstatic.com/images?q=tbn%3AANd9GcSPq3_09lGIih45QDe-enTuDqMDSJp4NRKfHcUGdsb2sY4RXLQg HTTPSConnectionPool(host='encrypted-tbn0.gstatic.com', port=443): Max retries exceeded with url: /images?q=tbn%3AANd9GcSPq3_09lGIih45QDe-enTuDqMDSJp4NRKfHcUGdsb2sY4RXLQg (Caused by SSLError(SSLError(\"bad handshake: Error([('SSL routines', 'tls_process_server_certificate', 'certificate verify failed')])\")))\n",
      "Error https://encrypted-tbn0.gstatic.com/images?q=tbn%3AANd9GcSSM2Z4memFva_xg4UsCl7ddxKVbj8X2tJPdj-wj_yLjUfmRUwE HTTPSConnectionPool(host='encrypted-tbn0.gstatic.com', port=443): Max retries exceeded with url: /images?q=tbn%3AANd9GcSSM2Z4memFva_xg4UsCl7ddxKVbj8X2tJPdj-wj_yLjUfmRUwE (Caused by SSLError(SSLError(\"bad handshake: Error([('SSL routines', 'tls_process_server_certificate', 'certificate verify failed')])\")))\n",
      "Error https://encrypted-tbn0.gstatic.com/images?q=tbn%3AANd9GcTsnTdcVbztnISpTn2oI3VvJHCn-jb7Fi4NjLU0pdSiLzW_-FUl HTTPSConnectionPool(host='encrypted-tbn0.gstatic.com', port=443): Max retries exceeded with url: /images?q=tbn%3AANd9GcTsnTdcVbztnISpTn2oI3VvJHCn-jb7Fi4NjLU0pdSiLzW_-FUl (Caused by SSLError(SSLError(\"bad handshake: Error([('SSL routines', 'tls_process_server_certificate', 'certificate verify failed')])\")))\n",
      "Error https://encrypted-tbn0.gstatic.com/images?q=tbn%3AANd9GcQYmr-1r75fr2zCkG3gfx4v8Eua6eZAnxcRHZLshLWIY-GBt8TI HTTPSConnectionPool(host='encrypted-tbn0.gstatic.com', port=443): Max retries exceeded with url: /images?q=tbn%3AANd9GcQYmr-1r75fr2zCkG3gfx4v8Eua6eZAnxcRHZLshLWIY-GBt8TI (Caused by SSLError(SSLError(\"bad handshake: Error([('SSL routines', 'tls_process_server_certificate', 'certificate verify failed')])\")))\n",
      "Error https://encrypted-tbn0.gstatic.com/images?q=tbn%3AANd9GcTsfYAIR1DjaSD9bUlpspI4z8OvcZrmmZMwAQO-Q0KiJjWnlUxw HTTPSConnectionPool(host='encrypted-tbn0.gstatic.com', port=443): Max retries exceeded with url: /images?q=tbn%3AANd9GcTsfYAIR1DjaSD9bUlpspI4z8OvcZrmmZMwAQO-Q0KiJjWnlUxw (Caused by SSLError(SSLError(\"bad handshake: Error([('SSL routines', 'tls_process_server_certificate', 'certificate verify failed')])\")))\n"
     ]
    },
    {
     "name": "stdout",
     "output_type": "stream",
     "text": [
      "Error  Invalid URL '': No schema supplied. Perhaps you meant http://?\n",
      "Error  Invalid URL '': No schema supplied. Perhaps you meant http://?\n",
      "Error  Invalid URL '': No schema supplied. Perhaps you meant http://?\n",
      "Error  Invalid URL '': No schema supplied. Perhaps you meant http://?\n",
      "Error  Invalid URL '': No schema supplied. Perhaps you meant http://?\n",
      "Error  Invalid URL '': No schema supplied. Perhaps you meant http://?\n",
      "Error  Invalid URL '': No schema supplied. Perhaps you meant http://?\n",
      "Error  Invalid URL '': No schema supplied. Perhaps you meant http://?\n",
      "Error  Invalid URL '': No schema supplied. Perhaps you meant http://?\n",
      "Error  Invalid URL '': No schema supplied. Perhaps you meant http://?\n",
      "Error  Invalid URL '': No schema supplied. Perhaps you meant http://?\n",
      "Error  Invalid URL '': No schema supplied. Perhaps you meant http://?\n",
      "Error  Invalid URL '': No schema supplied. Perhaps you meant http://?\n",
      "Error  Invalid URL '': No schema supplied. Perhaps you meant http://?\n",
      "Error  Invalid URL '': No schema supplied. Perhaps you meant http://?\n",
      "Error  Invalid URL '': No schema supplied. Perhaps you meant http://?\n",
      "Error  Invalid URL '': No schema supplied. Perhaps you meant http://?\n",
      "Error  Invalid URL '': No schema supplied. Perhaps you meant http://?\n",
      "Error  Invalid URL '': No schema supplied. Perhaps you meant http://?\n",
      "Error  Invalid URL '': No schema supplied. Perhaps you meant http://?\n",
      "Error https://encrypted-tbn0.gstatic.com/images?q=tbn%3AANd9GcQLJUPamoXOmKXC9YXJLz1-aH8dgXRHIxsBDQsZr8g14C_x1HzG HTTPSConnectionPool(host='encrypted-tbn0.gstatic.com', port=443): Max retries exceeded with url: /images?q=tbn%3AANd9GcQLJUPamoXOmKXC9YXJLz1-aH8dgXRHIxsBDQsZr8g14C_x1HzG (Caused by SSLError(SSLError(\"bad handshake: Error([('SSL routines', 'tls_process_server_certificate', 'certificate verify failed')])\")))\n",
      "Error https://encrypted-tbn0.gstatic.com/images?q=tbn%3AANd9GcRN-lFyCT_GQ3gWY11z9gGLHL0k3APdChJ0KDb9ju0DXravZrHL HTTPSConnectionPool(host='encrypted-tbn0.gstatic.com', port=443): Max retries exceeded with url: /images?q=tbn%3AANd9GcRN-lFyCT_GQ3gWY11z9gGLHL0k3APdChJ0KDb9ju0DXravZrHL (Caused by SSLError(SSLError(\"bad handshake: Error([('SSL routines', 'tls_process_server_certificate', 'certificate verify failed')])\")))\n",
      "Error https://encrypted-tbn0.gstatic.com/images?q=tbn%3AANd9GcSFQXeElBd5OAjmvrPrS-S-2Bx0fU7Bge2FxVpO26zczbbIxQBt HTTPSConnectionPool(host='encrypted-tbn0.gstatic.com', port=443): Max retries exceeded with url: /images?q=tbn%3AANd9GcSFQXeElBd5OAjmvrPrS-S-2Bx0fU7Bge2FxVpO26zczbbIxQBt (Caused by SSLError(SSLError(\"bad handshake: Error([('SSL routines', 'tls_process_server_certificate', 'certificate verify failed')])\")))\n",
      "Error https://encrypted-tbn0.gstatic.com/images?q=tbn%3AANd9GcTmSTt6JeQHlnlLZn0xGplO8QQ5FQdCiN_mLafm5qFeHLD_RNKz HTTPSConnectionPool(host='encrypted-tbn0.gstatic.com', port=443): Max retries exceeded with url: /images?q=tbn%3AANd9GcTmSTt6JeQHlnlLZn0xGplO8QQ5FQdCiN_mLafm5qFeHLD_RNKz (Caused by SSLError(SSLError(\"bad handshake: Error([('SSL routines', 'tls_process_server_certificate', 'certificate verify failed')])\")))\n",
      "Error https://encrypted-tbn0.gstatic.com/images?q=tbn%3AANd9GcSUk7FHN_8ETXN7vRmdpcTmq_UG9o58Wr9bK8-dqUxDE-BVyIhd HTTPSConnectionPool(host='encrypted-tbn0.gstatic.com', port=443): Max retries exceeded with url: /images?q=tbn%3AANd9GcSUk7FHN_8ETXN7vRmdpcTmq_UG9o58Wr9bK8-dqUxDE-BVyIhd (Caused by SSLError(SSLError(\"bad handshake: Error([('SSL routines', 'tls_process_server_certificate', 'certificate verify failed')])\")))\n",
      "Error https://encrypted-tbn0.gstatic.com/images?q=tbn%3AANd9GcRRgGDp6VLIU5BPN5SUsMmQzkzDMzoMk_jxeaGXvLi5w3U_h-8a HTTPSConnectionPool(host='encrypted-tbn0.gstatic.com', port=443): Max retries exceeded with url: /images?q=tbn%3AANd9GcRRgGDp6VLIU5BPN5SUsMmQzkzDMzoMk_jxeaGXvLi5w3U_h-8a (Caused by SSLError(SSLError(\"bad handshake: Error([('SSL routines', 'tls_process_server_certificate', 'certificate verify failed')])\")))\n",
      "Error https://encrypted-tbn0.gstatic.com/images?q=tbn%3AANd9GcQGVrBBONKIhKJZXh_K7c90EG13YnE1h8ovZrZ7zQNs1gyI0lGJ HTTPSConnectionPool(host='encrypted-tbn0.gstatic.com', port=443): Max retries exceeded with url: /images?q=tbn%3AANd9GcQGVrBBONKIhKJZXh_K7c90EG13YnE1h8ovZrZ7zQNs1gyI0lGJ (Caused by SSLError(SSLError(\"bad handshake: Error([('SSL routines', 'tls_process_server_certificate', 'certificate verify failed')])\")))\n",
      "Error https://encrypted-tbn0.gstatic.com/images?q=tbn%3AANd9GcS4KCSrUPYdCzaGbYgajhvwvuqtiRz-UShdrU8gwyJhLo0GKmYy HTTPSConnectionPool(host='encrypted-tbn0.gstatic.com', port=443): Max retries exceeded with url: /images?q=tbn%3AANd9GcS4KCSrUPYdCzaGbYgajhvwvuqtiRz-UShdrU8gwyJhLo0GKmYy (Caused by SSLError(SSLError(\"bad handshake: Error([('SSL routines', 'tls_process_server_certificate', 'certificate verify failed')])\")))\n",
      "Error https://encrypted-tbn0.gstatic.com/images?q=tbn%3AANd9GcQeJCKparkEMqTNwBQg0KeanKFi9NkyPtS4NOw6Jjeci2Fvb4U9 HTTPSConnectionPool(host='encrypted-tbn0.gstatic.com', port=443): Max retries exceeded with url: /images?q=tbn%3AANd9GcQeJCKparkEMqTNwBQg0KeanKFi9NkyPtS4NOw6Jjeci2Fvb4U9 (Caused by SSLError(SSLError(\"bad handshake: Error([('SSL routines', 'tls_process_server_certificate', 'certificate verify failed')])\")))\n",
      "Error https://encrypted-tbn0.gstatic.com/images?q=tbn%3AANd9GcS8ngOlP6M70aHbCmot1u_htSuOUBIswtAw4l38LgbYehqC3QZ1 HTTPSConnectionPool(host='encrypted-tbn0.gstatic.com', port=443): Max retries exceeded with url: /images?q=tbn%3AANd9GcS8ngOlP6M70aHbCmot1u_htSuOUBIswtAw4l38LgbYehqC3QZ1 (Caused by SSLError(SSLError(\"bad handshake: Error([('SSL routines', 'tls_process_server_certificate', 'certificate verify failed')])\")))\n",
      "Error https://encrypted-tbn0.gstatic.com/images?q=tbn%3AANd9GcRzPU16Tr2WJl1vACTORlR_0kIUoVikEBDe52uzBLZG9ix9txp2 HTTPSConnectionPool(host='encrypted-tbn0.gstatic.com', port=443): Max retries exceeded with url: /images?q=tbn%3AANd9GcRzPU16Tr2WJl1vACTORlR_0kIUoVikEBDe52uzBLZG9ix9txp2 (Caused by SSLError(SSLError(\"bad handshake: Error([('SSL routines', 'tls_process_server_certificate', 'certificate verify failed')])\")))\n",
      "Error https://encrypted-tbn0.gstatic.com/images?q=tbn%3AANd9GcQnY3rgZV3lNqy0vwZtXIfvS9tEhNi9QKnozhBMqUI_b9njibGz HTTPSConnectionPool(host='encrypted-tbn0.gstatic.com', port=443): Max retries exceeded with url: /images?q=tbn%3AANd9GcQnY3rgZV3lNqy0vwZtXIfvS9tEhNi9QKnozhBMqUI_b9njibGz (Caused by SSLError(SSLError(\"bad handshake: Error([('SSL routines', 'tls_process_server_certificate', 'certificate verify failed')])\")))\n",
      "Error https://encrypted-tbn0.gstatic.com/images?q=tbn%3AANd9GcRUmiYTEeNQ90eLSm8i5cLbXPzOUIJTM33lp5x2cd5v5kRVDp6Y HTTPSConnectionPool(host='encrypted-tbn0.gstatic.com', port=443): Max retries exceeded with url: /images?q=tbn%3AANd9GcRUmiYTEeNQ90eLSm8i5cLbXPzOUIJTM33lp5x2cd5v5kRVDp6Y (Caused by SSLError(SSLError(\"bad handshake: Error([('SSL routines', 'tls_process_server_certificate', 'certificate verify failed')])\")))\n",
      "Error https://encrypted-tbn0.gstatic.com/images?q=tbn%3AANd9GcS7U15F_4tbHooz90nDczA4nVvBNTpk2cGJxQOLWWNnbbaYkt2g HTTPSConnectionPool(host='encrypted-tbn0.gstatic.com', port=443): Max retries exceeded with url: /images?q=tbn%3AANd9GcS7U15F_4tbHooz90nDczA4nVvBNTpk2cGJxQOLWWNnbbaYkt2g (Caused by SSLError(SSLError(\"bad handshake: Error([('SSL routines', 'tls_process_server_certificate', 'certificate verify failed')])\")))\n",
      "Error https://encrypted-tbn0.gstatic.com/images?q=tbn%3AANd9GcT09xpnoH33eUxC5t4E57U2RG3wU_hk0PtD48vn1uOaPly5iZxR HTTPSConnectionPool(host='encrypted-tbn0.gstatic.com', port=443): Max retries exceeded with url: /images?q=tbn%3AANd9GcT09xpnoH33eUxC5t4E57U2RG3wU_hk0PtD48vn1uOaPly5iZxR (Caused by SSLError(SSLError(\"bad handshake: Error([('SSL routines', 'tls_process_server_certificate', 'certificate verify failed')])\")))\n",
      "Error https://encrypted-tbn0.gstatic.com/images?q=tbn%3AANd9GcQqKtaZeVJRyJtYD5hPtnAwockF4-6hMgtPN-Pq0KTsuo_8ZN1O HTTPSConnectionPool(host='encrypted-tbn0.gstatic.com', port=443): Max retries exceeded with url: /images?q=tbn%3AANd9GcQqKtaZeVJRyJtYD5hPtnAwockF4-6hMgtPN-Pq0KTsuo_8ZN1O (Caused by SSLError(SSLError(\"bad handshake: Error([('SSL routines', 'tls_process_server_certificate', 'certificate verify failed')])\")))\n",
      "Error https://encrypted-tbn0.gstatic.com/images?q=tbn%3AANd9GcRJrxdlm_Mc4hemXQWuyDWCEif-TSoKFtEbdQQLTIaMTAsf3I9C HTTPSConnectionPool(host='encrypted-tbn0.gstatic.com', port=443): Max retries exceeded with url: /images?q=tbn%3AANd9GcRJrxdlm_Mc4hemXQWuyDWCEif-TSoKFtEbdQQLTIaMTAsf3I9C (Caused by SSLError(SSLError(\"bad handshake: Error([('SSL routines', 'tls_process_server_certificate', 'certificate verify failed')])\")))\n"
     ]
    },
    {
     "name": "stdout",
     "output_type": "stream",
     "text": [
      "Error https://encrypted-tbn0.gstatic.com/images?q=tbn%3AANd9GcRyjqslaiSQLI3bWmF6dTDn213Q7TbDZBCPMjy_XYhQ1RxgZHal HTTPSConnectionPool(host='encrypted-tbn0.gstatic.com', port=443): Max retries exceeded with url: /images?q=tbn%3AANd9GcRyjqslaiSQLI3bWmF6dTDn213Q7TbDZBCPMjy_XYhQ1RxgZHal (Caused by SSLError(SSLError(\"bad handshake: Error([('SSL routines', 'tls_process_server_certificate', 'certificate verify failed')])\")))\n",
      "Error https://encrypted-tbn0.gstatic.com/images?q=tbn%3AANd9GcT5Ub3zpLj_jfPsPWzV16lYsTGo9hU0XGMsQG3XhHASWQ0uGz4K HTTPSConnectionPool(host='encrypted-tbn0.gstatic.com', port=443): Max retries exceeded with url: /images?q=tbn%3AANd9GcT5Ub3zpLj_jfPsPWzV16lYsTGo9hU0XGMsQG3XhHASWQ0uGz4K (Caused by SSLError(SSLError(\"bad handshake: Error([('SSL routines', 'tls_process_server_certificate', 'certificate verify failed')])\")))\n",
      "Error https://encrypted-tbn0.gstatic.com/images?q=tbn%3AANd9GcTgdvrqh9-ahSBnYciUPX3iB005LOESqjMfN4pIoCGXoLG_nyP7 HTTPSConnectionPool(host='encrypted-tbn0.gstatic.com', port=443): Max retries exceeded with url: /images?q=tbn%3AANd9GcTgdvrqh9-ahSBnYciUPX3iB005LOESqjMfN4pIoCGXoLG_nyP7 (Caused by SSLError(SSLError(\"bad handshake: Error([('SSL routines', 'tls_process_server_certificate', 'certificate verify failed')])\")))\n",
      "Error https://encrypted-tbn0.gstatic.com/images?q=tbn%3AANd9GcQ8nqnENEaxdwsWcF0oKIx5aVZJmqbo-ExKZWCkhIES2WKl6Ogw HTTPSConnectionPool(host='encrypted-tbn0.gstatic.com', port=443): Max retries exceeded with url: /images?q=tbn%3AANd9GcQ8nqnENEaxdwsWcF0oKIx5aVZJmqbo-ExKZWCkhIES2WKl6Ogw (Caused by SSLError(SSLError(\"bad handshake: Error([('SSL routines', 'tls_process_server_certificate', 'certificate verify failed')])\")))\n",
      "Error https://encrypted-tbn0.gstatic.com/images?q=tbn%3AANd9GcRlFc3S1G1Jl9XKHKwwl_cGD8K8vblDROlais9GQFd0Yvgh1n93 HTTPSConnectionPool(host='encrypted-tbn0.gstatic.com', port=443): Max retries exceeded with url: /images?q=tbn%3AANd9GcRlFc3S1G1Jl9XKHKwwl_cGD8K8vblDROlais9GQFd0Yvgh1n93 (Caused by SSLError(SSLError(\"bad handshake: Error([('SSL routines', 'tls_process_server_certificate', 'certificate verify failed')])\")))\n",
      "Error https://encrypted-tbn0.gstatic.com/images?q=tbn%3AANd9GcRyWOOSl6ma9APn0-dLtrziyaBd4a4E-vkk2B_ZDweOnq_nExYR HTTPSConnectionPool(host='encrypted-tbn0.gstatic.com', port=443): Max retries exceeded with url: /images?q=tbn%3AANd9GcRyWOOSl6ma9APn0-dLtrziyaBd4a4E-vkk2B_ZDweOnq_nExYR (Caused by SSLError(SSLError(\"bad handshake: Error([('SSL routines', 'tls_process_server_certificate', 'certificate verify failed')])\")))\n",
      "Error https://encrypted-tbn0.gstatic.com/images?q=tbn%3AANd9GcSGGpFFHoeRe7Xob_BeyEGPFTX0UKcQyLM-7u6ac-wAFt-_UPPw HTTPSConnectionPool(host='encrypted-tbn0.gstatic.com', port=443): Max retries exceeded with url: /images?q=tbn%3AANd9GcSGGpFFHoeRe7Xob_BeyEGPFTX0UKcQyLM-7u6ac-wAFt-_UPPw (Caused by SSLError(SSLError(\"bad handshake: Error([('SSL routines', 'tls_process_server_certificate', 'certificate verify failed')])\")))\n",
      "Error https://encrypted-tbn0.gstatic.com/images?q=tbn%3AANd9GcR9RT3YPJbfq85k2LuG1m21L9BYiSZSKCpOsirUF1jMK7mNhfr4 HTTPSConnectionPool(host='encrypted-tbn0.gstatic.com', port=443): Max retries exceeded with url: /images?q=tbn%3AANd9GcR9RT3YPJbfq85k2LuG1m21L9BYiSZSKCpOsirUF1jMK7mNhfr4 (Caused by SSLError(SSLError(\"bad handshake: Error([('SSL routines', 'tls_process_server_certificate', 'certificate verify failed')])\")))\n",
      "Error https://encrypted-tbn0.gstatic.com/images?q=tbn%3AANd9GcSSX6GvUlqrvqgjdseS6_NTqXqOFB0JKx9x4H2rMdaJeKWaaMRt HTTPSConnectionPool(host='encrypted-tbn0.gstatic.com', port=443): Max retries exceeded with url: /images?q=tbn%3AANd9GcSSX6GvUlqrvqgjdseS6_NTqXqOFB0JKx9x4H2rMdaJeKWaaMRt (Caused by SSLError(SSLError(\"bad handshake: Error([('SSL routines', 'tls_process_server_certificate', 'certificate verify failed')])\")))\n",
      "Error https://encrypted-tbn0.gstatic.com/images?q=tbn%3AANd9GcSitnPYIjEo21bwcqTyX4QthgBJHWzgZ6Aiust5RDUHYyTZOidv HTTPSConnectionPool(host='encrypted-tbn0.gstatic.com', port=443): Max retries exceeded with url: /images?q=tbn%3AANd9GcSitnPYIjEo21bwcqTyX4QthgBJHWzgZ6Aiust5RDUHYyTZOidv (Caused by SSLError(SSLError(\"bad handshake: Error([('SSL routines', 'tls_process_server_certificate', 'certificate verify failed')])\")))\n",
      "Error https://encrypted-tbn0.gstatic.com/images?q=tbn%3AANd9GcTR8orwISPRamrr_L-A1_MG39BQCM0olmfMm6ympMNQDKmbfLzr HTTPSConnectionPool(host='encrypted-tbn0.gstatic.com', port=443): Max retries exceeded with url: /images?q=tbn%3AANd9GcTR8orwISPRamrr_L-A1_MG39BQCM0olmfMm6ympMNQDKmbfLzr (Caused by SSLError(SSLError(\"bad handshake: Error([('SSL routines', 'tls_process_server_certificate', 'certificate verify failed')])\")))\n",
      "Error https://encrypted-tbn0.gstatic.com/images?q=tbn%3AANd9GcTu7X3K2Nh6JY_Sab0JUhttJbFk_9Pv-5FshyqLZhWMYr-Ym5w3 HTTPSConnectionPool(host='encrypted-tbn0.gstatic.com', port=443): Max retries exceeded with url: /images?q=tbn%3AANd9GcTu7X3K2Nh6JY_Sab0JUhttJbFk_9Pv-5FshyqLZhWMYr-Ym5w3 (Caused by SSLError(SSLError(\"bad handshake: Error([('SSL routines', 'tls_process_server_certificate', 'certificate verify failed')])\")))\n",
      "Error https://encrypted-tbn0.gstatic.com/images?q=tbn%3AANd9GcTZ5fUx4Z6jZACoKfgEGYCxR1bSkb34XHLOgKRJXrF8AtButn2k HTTPSConnectionPool(host='encrypted-tbn0.gstatic.com', port=443): Max retries exceeded with url: /images?q=tbn%3AANd9GcTZ5fUx4Z6jZACoKfgEGYCxR1bSkb34XHLOgKRJXrF8AtButn2k (Caused by SSLError(SSLError(\"bad handshake: Error([('SSL routines', 'tls_process_server_certificate', 'certificate verify failed')])\")))\n",
      "Error https://encrypted-tbn0.gstatic.com/images?q=tbn%3AANd9GcRFtDci7esP2z4-rsupoEL9ypUG20Aczodr3PKjqAbuuUuk7DlE HTTPSConnectionPool(host='encrypted-tbn0.gstatic.com', port=443): Max retries exceeded with url: /images?q=tbn%3AANd9GcRFtDci7esP2z4-rsupoEL9ypUG20Aczodr3PKjqAbuuUuk7DlE (Caused by SSLError(SSLError(\"bad handshake: Error([('SSL routines', 'tls_process_server_certificate', 'certificate verify failed')])\")))\n",
      "Error https://encrypted-tbn0.gstatic.com/images?q=tbn%3AANd9GcSgu-sqPzLn5_-8d1BXdlQ2UF-lgpNpHBFPO91iYz4KeqFAspNB HTTPSConnectionPool(host='encrypted-tbn0.gstatic.com', port=443): Max retries exceeded with url: /images?q=tbn%3AANd9GcSgu-sqPzLn5_-8d1BXdlQ2UF-lgpNpHBFPO91iYz4KeqFAspNB (Caused by SSLError(SSLError(\"bad handshake: Error([('SSL routines', 'tls_process_server_certificate', 'certificate verify failed')])\")))\n",
      "Error https://encrypted-tbn0.gstatic.com/images?q=tbn%3AANd9GcRBpYNGLS-P2DGQgtYoPVLMfospgFaoBpf0UERNuO1wHjrg5jiJ HTTPSConnectionPool(host='encrypted-tbn0.gstatic.com', port=443): Max retries exceeded with url: /images?q=tbn%3AANd9GcRBpYNGLS-P2DGQgtYoPVLMfospgFaoBpf0UERNuO1wHjrg5jiJ (Caused by SSLError(SSLError(\"bad handshake: Error([('SSL routines', 'tls_process_server_certificate', 'certificate verify failed')])\")))\n",
      "Error https://encrypted-tbn0.gstatic.com/images?q=tbn%3AANd9GcQRHGSidPY3uwvO23lCzdl0RmYJfxD7JC1yxF8_-m28QWT_hi1o HTTPSConnectionPool(host='encrypted-tbn0.gstatic.com', port=443): Max retries exceeded with url: /images?q=tbn%3AANd9GcQRHGSidPY3uwvO23lCzdl0RmYJfxD7JC1yxF8_-m28QWT_hi1o (Caused by SSLError(SSLError(\"bad handshake: Error([('SSL routines', 'tls_process_server_certificate', 'certificate verify failed')])\")))\n",
      "Error https://encrypted-tbn0.gstatic.com/images?q=tbn%3AANd9GcRwNfhJEXBMgTct2TTzBVRRkHLo95iTORzQTb1XFky4_v5XidJ5 HTTPSConnectionPool(host='encrypted-tbn0.gstatic.com', port=443): Max retries exceeded with url: /images?q=tbn%3AANd9GcRwNfhJEXBMgTct2TTzBVRRkHLo95iTORzQTb1XFky4_v5XidJ5 (Caused by SSLError(SSLError(\"bad handshake: Error([('SSL routines', 'tls_process_server_certificate', 'certificate verify failed')])\")))\n",
      "Error https://encrypted-tbn0.gstatic.com/images?q=tbn%3AANd9GcQ78-KyobdPf_LP79KDjQjT06Y7J_5jpnV1T-ckbRORdebCjunW HTTPSConnectionPool(host='encrypted-tbn0.gstatic.com', port=443): Max retries exceeded with url: /images?q=tbn%3AANd9GcQ78-KyobdPf_LP79KDjQjT06Y7J_5jpnV1T-ckbRORdebCjunW (Caused by SSLError(SSLError(\"bad handshake: Error([('SSL routines', 'tls_process_server_certificate', 'certificate verify failed')])\")))\n",
      "Error https://encrypted-tbn0.gstatic.com/images?q=tbn%3AANd9GcTiB1iFnG0nVUC3v-_yNS9Trh-bXAkcKO-dPR_nRRlESIvJi5YK HTTPSConnectionPool(host='encrypted-tbn0.gstatic.com', port=443): Max retries exceeded with url: /images?q=tbn%3AANd9GcTiB1iFnG0nVUC3v-_yNS9Trh-bXAkcKO-dPR_nRRlESIvJi5YK (Caused by SSLError(SSLError(\"bad handshake: Error([('SSL routines', 'tls_process_server_certificate', 'certificate verify failed')])\")))\n"
     ]
    },
    {
     "name": "stdout",
     "output_type": "stream",
     "text": [
      "Error https://encrypted-tbn0.gstatic.com/images?q=tbn%3AANd9GcRZwTB-Ge7VCsRIpDnCw3VN2-DwJ330l5C9d_BIZZ-O1P_beUnc HTTPSConnectionPool(host='encrypted-tbn0.gstatic.com', port=443): Max retries exceeded with url: /images?q=tbn%3AANd9GcRZwTB-Ge7VCsRIpDnCw3VN2-DwJ330l5C9d_BIZZ-O1P_beUnc (Caused by SSLError(SSLError(\"bad handshake: Error([('SSL routines', 'tls_process_server_certificate', 'certificate verify failed')])\")))\n",
      "Error https://encrypted-tbn0.gstatic.com/images?q=tbn%3AANd9GcSO-kJweZZOQ4-JnVXGQzySKirXE2u2tbgounShGhpsG7qGlNQ8 HTTPSConnectionPool(host='encrypted-tbn0.gstatic.com', port=443): Max retries exceeded with url: /images?q=tbn%3AANd9GcSO-kJweZZOQ4-JnVXGQzySKirXE2u2tbgounShGhpsG7qGlNQ8 (Caused by SSLError(SSLError(\"bad handshake: Error([('SSL routines', 'tls_process_server_certificate', 'certificate verify failed')])\")))\n",
      "Error https://encrypted-tbn0.gstatic.com/images?q=tbn%3AANd9GcSQZEda7s8T0lmx6S9xwpxoRj4Je8ASlb4z9U3G86tadrK48pZn HTTPSConnectionPool(host='encrypted-tbn0.gstatic.com', port=443): Max retries exceeded with url: /images?q=tbn%3AANd9GcSQZEda7s8T0lmx6S9xwpxoRj4Je8ASlb4z9U3G86tadrK48pZn (Caused by SSLError(SSLError(\"bad handshake: Error([('SSL routines', 'tls_process_server_certificate', 'certificate verify failed')])\")))\n",
      "Error https://encrypted-tbn0.gstatic.com/images?q=tbn%3AANd9GcTUPZ42aJam-wzJJAdNZaVFdc9OWcgtLBzBUirJJ272iA60mvin HTTPSConnectionPool(host='encrypted-tbn0.gstatic.com', port=443): Max retries exceeded with url: /images?q=tbn%3AANd9GcTUPZ42aJam-wzJJAdNZaVFdc9OWcgtLBzBUirJJ272iA60mvin (Caused by SSLError(SSLError(\"bad handshake: Error([('SSL routines', 'tls_process_server_certificate', 'certificate verify failed')])\")))\n",
      "Error https://encrypted-tbn0.gstatic.com/images?q=tbn%3AANd9GcQx2XJPg5-cxxsmWG3o1N02WIO71iWkwJXQwqnByrBEXee_KBVO HTTPSConnectionPool(host='encrypted-tbn0.gstatic.com', port=443): Max retries exceeded with url: /images?q=tbn%3AANd9GcQx2XJPg5-cxxsmWG3o1N02WIO71iWkwJXQwqnByrBEXee_KBVO (Caused by SSLError(SSLError(\"bad handshake: Error([('SSL routines', 'tls_process_server_certificate', 'certificate verify failed')])\")))\n",
      "Error https://encrypted-tbn0.gstatic.com/images?q=tbn%3AANd9GcSq0kIlDMFF8JZFE3bxRyns_q2lZ24aS_YM4L5uwkC5TKhpn44v HTTPSConnectionPool(host='encrypted-tbn0.gstatic.com', port=443): Max retries exceeded with url: /images?q=tbn%3AANd9GcSq0kIlDMFF8JZFE3bxRyns_q2lZ24aS_YM4L5uwkC5TKhpn44v (Caused by SSLError(SSLError(\"bad handshake: Error([('SSL routines', 'tls_process_server_certificate', 'certificate verify failed')])\")))\n",
      "Error https://encrypted-tbn0.gstatic.com/images?q=tbn%3AANd9GcS1UXCQKoKbwEKN3kpjg8G1z2kUpekzsKCtjD6g_PHzVq3Z3d6A HTTPSConnectionPool(host='encrypted-tbn0.gstatic.com', port=443): Max retries exceeded with url: /images?q=tbn%3AANd9GcS1UXCQKoKbwEKN3kpjg8G1z2kUpekzsKCtjD6g_PHzVq3Z3d6A (Caused by SSLError(SSLError(\"bad handshake: Error([('SSL routines', 'tls_process_server_certificate', 'certificate verify failed')])\")))\n",
      "Error https://encrypted-tbn0.gstatic.com/images?q=tbn%3AANd9GcQVXouq9TMYZKGoMkwUxKlbOwEQzzHWCcIiiZEDwCRZ7J1r886Y HTTPSConnectionPool(host='encrypted-tbn0.gstatic.com', port=443): Max retries exceeded with url: /images?q=tbn%3AANd9GcQVXouq9TMYZKGoMkwUxKlbOwEQzzHWCcIiiZEDwCRZ7J1r886Y (Caused by SSLError(SSLError(\"bad handshake: Error([('SSL routines', 'tls_process_server_certificate', 'certificate verify failed')])\")))\n",
      "Error https://encrypted-tbn0.gstatic.com/images?q=tbn%3AANd9GcQe-mR-eFaKubSP6Jz8iHQgHlPe0dPH6RYtQOz0lyPFtyq8l6zU HTTPSConnectionPool(host='encrypted-tbn0.gstatic.com', port=443): Max retries exceeded with url: /images?q=tbn%3AANd9GcQe-mR-eFaKubSP6Jz8iHQgHlPe0dPH6RYtQOz0lyPFtyq8l6zU (Caused by SSLError(SSLError(\"bad handshake: Error([('SSL routines', 'tls_process_server_certificate', 'certificate verify failed')])\")))\n",
      "Error https://encrypted-tbn0.gstatic.com/images?q=tbn%3AANd9GcTksenyXCZ_t7NbLMNut-SW0m3ibFH-0HEwp7eSOaDZIKqbo1Ty HTTPSConnectionPool(host='encrypted-tbn0.gstatic.com', port=443): Max retries exceeded with url: /images?q=tbn%3AANd9GcTksenyXCZ_t7NbLMNut-SW0m3ibFH-0HEwp7eSOaDZIKqbo1Ty (Caused by SSLError(SSLError(\"bad handshake: Error([('SSL routines', 'tls_process_server_certificate', 'certificate verify failed')])\")))\n",
      "Error https://encrypted-tbn0.gstatic.com/images?q=tbn%3AANd9GcS-WjDJGeyoQoYU0VSb2msEQWsCXChv_8V183EPCvpkraJN23tF HTTPSConnectionPool(host='encrypted-tbn0.gstatic.com', port=443): Max retries exceeded with url: /images?q=tbn%3AANd9GcS-WjDJGeyoQoYU0VSb2msEQWsCXChv_8V183EPCvpkraJN23tF (Caused by SSLError(SSLError(\"bad handshake: Error([('SSL routines', 'tls_process_server_certificate', 'certificate verify failed')])\")))\n",
      "Error https://encrypted-tbn0.gstatic.com/images?q=tbn%3AANd9GcS7vZTlJL8wnE9rkzAUPtmTksgiTmF7xUSlc6dKHpXLkZht9oM5 HTTPSConnectionPool(host='encrypted-tbn0.gstatic.com', port=443): Max retries exceeded with url: /images?q=tbn%3AANd9GcS7vZTlJL8wnE9rkzAUPtmTksgiTmF7xUSlc6dKHpXLkZht9oM5 (Caused by SSLError(SSLError(\"bad handshake: Error([('SSL routines', 'tls_process_server_certificate', 'certificate verify failed')])\")))\n",
      "Error https://encrypted-tbn0.gstatic.com/images?q=tbn%3AANd9GcQ1T2ZuAzivaDqo6fnBY6J-ZpMFI0yyJbpYHMCIZduojGrJZG6p HTTPSConnectionPool(host='encrypted-tbn0.gstatic.com', port=443): Max retries exceeded with url: /images?q=tbn%3AANd9GcQ1T2ZuAzivaDqo6fnBY6J-ZpMFI0yyJbpYHMCIZduojGrJZG6p (Caused by SSLError(SSLError(\"bad handshake: Error([('SSL routines', 'tls_process_server_certificate', 'certificate verify failed')])\")))\n",
      "Error https://encrypted-tbn0.gstatic.com/images?q=tbn%3AANd9GcTHwlNTugz_FmjrosDQKZXDmj4bmtZGTryRy4R-OpyM-aDs4dBa HTTPSConnectionPool(host='encrypted-tbn0.gstatic.com', port=443): Max retries exceeded with url: /images?q=tbn%3AANd9GcTHwlNTugz_FmjrosDQKZXDmj4bmtZGTryRy4R-OpyM-aDs4dBa (Caused by SSLError(SSLError(\"bad handshake: Error([('SSL routines', 'tls_process_server_certificate', 'certificate verify failed')])\")))\n",
      "Error https://encrypted-tbn0.gstatic.com/images?q=tbn%3AANd9GcTX90TGWkdho-jsQg2p5scGtNX6JO48sOy-sNx5RA3ExAchFAaU HTTPSConnectionPool(host='encrypted-tbn0.gstatic.com', port=443): Max retries exceeded with url: /images?q=tbn%3AANd9GcTX90TGWkdho-jsQg2p5scGtNX6JO48sOy-sNx5RA3ExAchFAaU (Caused by SSLError(SSLError(\"bad handshake: Error([('SSL routines', 'tls_process_server_certificate', 'certificate verify failed')])\")))\n",
      "Error https://encrypted-tbn0.gstatic.com/images?q=tbn%3AANd9GcQiacquGK_kwNaSj9Y3MJX5jbXuqUcWqaY6TMBygxAJt5QgmWiy HTTPSConnectionPool(host='encrypted-tbn0.gstatic.com', port=443): Max retries exceeded with url: /images?q=tbn%3AANd9GcQiacquGK_kwNaSj9Y3MJX5jbXuqUcWqaY6TMBygxAJt5QgmWiy (Caused by SSLError(SSLError(\"bad handshake: Error([('SSL routines', 'tls_process_server_certificate', 'certificate verify failed')])\")))\n",
      "Error https://encrypted-tbn0.gstatic.com/images?q=tbn%3AANd9GcSqMxHpQk68-7CgE5x18Tj3g7oqw3FBIIlaKnKZQnIaHDE66p3N HTTPSConnectionPool(host='encrypted-tbn0.gstatic.com', port=443): Max retries exceeded with url: /images?q=tbn%3AANd9GcSqMxHpQk68-7CgE5x18Tj3g7oqw3FBIIlaKnKZQnIaHDE66p3N (Caused by SSLError(SSLError(\"bad handshake: Error([('SSL routines', 'tls_process_server_certificate', 'certificate verify failed')])\")))\n",
      "Error https://encrypted-tbn0.gstatic.com/images?q=tbn%3AANd9GcQ3AtEPQYaIAHFL7K7RZuiAtscMJrfd4jLjlPJYiX7EVEZdIlb_ HTTPSConnectionPool(host='encrypted-tbn0.gstatic.com', port=443): Max retries exceeded with url: /images?q=tbn%3AANd9GcQ3AtEPQYaIAHFL7K7RZuiAtscMJrfd4jLjlPJYiX7EVEZdIlb_ (Caused by SSLError(SSLError(\"bad handshake: Error([('SSL routines', 'tls_process_server_certificate', 'certificate verify failed')])\")))\n",
      "Error https://encrypted-tbn0.gstatic.com/images?q=tbn%3AANd9GcQMVlY-iexm0WQ5Lc72sjG1ciKP1YnQptijARSuEpZOkJAEWkro HTTPSConnectionPool(host='encrypted-tbn0.gstatic.com', port=443): Max retries exceeded with url: /images?q=tbn%3AANd9GcQMVlY-iexm0WQ5Lc72sjG1ciKP1YnQptijARSuEpZOkJAEWkro (Caused by SSLError(SSLError(\"bad handshake: Error([('SSL routines', 'tls_process_server_certificate', 'certificate verify failed')])\")))\n",
      "Error https://encrypted-tbn0.gstatic.com/images?q=tbn%3AANd9GcTKGdMueZyIQSMah2Aw-0MSu4yg35OF2WKiy5BFfRDC9JPnBBbj HTTPSConnectionPool(host='encrypted-tbn0.gstatic.com', port=443): Max retries exceeded with url: /images?q=tbn%3AANd9GcTKGdMueZyIQSMah2Aw-0MSu4yg35OF2WKiy5BFfRDC9JPnBBbj (Caused by SSLError(SSLError(\"bad handshake: Error([('SSL routines', 'tls_process_server_certificate', 'certificate verify failed')])\")))\n"
     ]
    },
    {
     "name": "stdout",
     "output_type": "stream",
     "text": [
      "Error https://encrypted-tbn0.gstatic.com/images?q=tbn%3AANd9GcT0WVijvBkge3_vAlMUedlnxlDzH4ULpIYFHv0eS3vqwgvjo9cH HTTPSConnectionPool(host='encrypted-tbn0.gstatic.com', port=443): Max retries exceeded with url: /images?q=tbn%3AANd9GcT0WVijvBkge3_vAlMUedlnxlDzH4ULpIYFHv0eS3vqwgvjo9cH (Caused by SSLError(SSLError(\"bad handshake: Error([('SSL routines', 'tls_process_server_certificate', 'certificate verify failed')])\")))\n",
      "Error https://encrypted-tbn0.gstatic.com/images?q=tbn%3AANd9GcSh0LCjlf9GOpY0FV_VC4Kklm2CmWgbbj2GZxau_HsUFhYjOlM- HTTPSConnectionPool(host='encrypted-tbn0.gstatic.com', port=443): Max retries exceeded with url: /images?q=tbn%3AANd9GcSh0LCjlf9GOpY0FV_VC4Kklm2CmWgbbj2GZxau_HsUFhYjOlM- (Caused by SSLError(SSLError(\"bad handshake: Error([('SSL routines', 'tls_process_server_certificate', 'certificate verify failed')])\")))\n",
      "Error https://encrypted-tbn0.gstatic.com/images?q=tbn%3AANd9GcRrArsKGubf8uF7RuVgKJWxAxC6nF6Wc6jkSdnG7o7CgAlQSvmX HTTPSConnectionPool(host='encrypted-tbn0.gstatic.com', port=443): Max retries exceeded with url: /images?q=tbn%3AANd9GcRrArsKGubf8uF7RuVgKJWxAxC6nF6Wc6jkSdnG7o7CgAlQSvmX (Caused by SSLError(SSLError(\"bad handshake: Error([('SSL routines', 'tls_process_server_certificate', 'certificate verify failed')])\")))\n",
      "Error https://encrypted-tbn0.gstatic.com/images?q=tbn%3AANd9GcQJg_ZrhfTYHlBkhrO4Tv-79d-i6bvSZenXonXawGgWzmSDNPay HTTPSConnectionPool(host='encrypted-tbn0.gstatic.com', port=443): Max retries exceeded with url: /images?q=tbn%3AANd9GcQJg_ZrhfTYHlBkhrO4Tv-79d-i6bvSZenXonXawGgWzmSDNPay (Caused by SSLError(SSLError(\"bad handshake: Error([('SSL routines', 'tls_process_server_certificate', 'certificate verify failed')])\")))\n",
      "Error https://encrypted-tbn0.gstatic.com/images?q=tbn%3AANd9GcSQ5A0lqxU3FPEFp8B5P1Efp3as1b0HOqtYThxD8OuniflBc6wq HTTPSConnectionPool(host='encrypted-tbn0.gstatic.com', port=443): Max retries exceeded with url: /images?q=tbn%3AANd9GcSQ5A0lqxU3FPEFp8B5P1Efp3as1b0HOqtYThxD8OuniflBc6wq (Caused by SSLError(SSLError(\"bad handshake: Error([('SSL routines', 'tls_process_server_certificate', 'certificate verify failed')])\")))\n",
      "Error https://encrypted-tbn0.gstatic.com/images?q=tbn%3AANd9GcShfT-WjjfytnYg_mfONc_H6wL9G44HA1puniZbne6jY7MyMmgc HTTPSConnectionPool(host='encrypted-tbn0.gstatic.com', port=443): Max retries exceeded with url: /images?q=tbn%3AANd9GcShfT-WjjfytnYg_mfONc_H6wL9G44HA1puniZbne6jY7MyMmgc (Caused by SSLError(SSLError(\"bad handshake: Error([('SSL routines', 'tls_process_server_certificate', 'certificate verify failed')])\")))\n",
      "Error https://encrypted-tbn0.gstatic.com/images?q=tbn%3AANd9GcQWK5iVvu1UB7WCL6apiEJ-ZxOYmje_A3MwUVVoQbNRU94QNhqU HTTPSConnectionPool(host='encrypted-tbn0.gstatic.com', port=443): Max retries exceeded with url: /images?q=tbn%3AANd9GcQWK5iVvu1UB7WCL6apiEJ-ZxOYmje_A3MwUVVoQbNRU94QNhqU (Caused by SSLError(SSLError(\"bad handshake: Error([('SSL routines', 'tls_process_server_certificate', 'certificate verify failed')])\")))\n",
      "Error https://encrypted-tbn0.gstatic.com/images?q=tbn%3AANd9GcTX5z9TFqu5Ir8nToreT_WvDUWQOrOf3dFAHUZeJPGVTCpkBbTF HTTPSConnectionPool(host='encrypted-tbn0.gstatic.com', port=443): Max retries exceeded with url: /images?q=tbn%3AANd9GcTX5z9TFqu5Ir8nToreT_WvDUWQOrOf3dFAHUZeJPGVTCpkBbTF (Caused by SSLError(SSLError(\"bad handshake: Error([('SSL routines', 'tls_process_server_certificate', 'certificate verify failed')])\")))\n",
      "Error https://encrypted-tbn0.gstatic.com/images?q=tbn%3AANd9GcRdcHr6PeRy6B_LrD8gh7TY-24zwCLl40pPFVisvd1mbuSbYxUi HTTPSConnectionPool(host='encrypted-tbn0.gstatic.com', port=443): Max retries exceeded with url: /images?q=tbn%3AANd9GcRdcHr6PeRy6B_LrD8gh7TY-24zwCLl40pPFVisvd1mbuSbYxUi (Caused by SSLError(SSLError(\"bad handshake: Error([('SSL routines', 'tls_process_server_certificate', 'certificate verify failed')])\")))\n",
      "Error https://encrypted-tbn0.gstatic.com/images?q=tbn%3AANd9GcTZw-rcMEhhmMJyH8nyBL-eJOygwkLv5hyB6Ehlc_SyqcbRq9u_ HTTPSConnectionPool(host='encrypted-tbn0.gstatic.com', port=443): Max retries exceeded with url: /images?q=tbn%3AANd9GcTZw-rcMEhhmMJyH8nyBL-eJOygwkLv5hyB6Ehlc_SyqcbRq9u_ (Caused by SSLError(SSLError(\"bad handshake: Error([('SSL routines', 'tls_process_server_certificate', 'certificate verify failed')])\")))\n",
      "Error https://encrypted-tbn0.gstatic.com/images?q=tbn%3AANd9GcQZGOir1zx_51m78AjxOoDGDdGHz-P5BC6ju1K4ycWhca_GAvfC HTTPSConnectionPool(host='encrypted-tbn0.gstatic.com', port=443): Max retries exceeded with url: /images?q=tbn%3AANd9GcQZGOir1zx_51m78AjxOoDGDdGHz-P5BC6ju1K4ycWhca_GAvfC (Caused by SSLError(SSLError(\"bad handshake: Error([('SSL routines', 'tls_process_server_certificate', 'certificate verify failed')])\")))\n",
      "Error https://encrypted-tbn0.gstatic.com/images?q=tbn%3AANd9GcTW79MQgjqMM4YCafA3JT6iRK13t3PhzgFOK1Sy7FslaPswGba- HTTPSConnectionPool(host='encrypted-tbn0.gstatic.com', port=443): Max retries exceeded with url: /images?q=tbn%3AANd9GcTW79MQgjqMM4YCafA3JT6iRK13t3PhzgFOK1Sy7FslaPswGba- (Caused by SSLError(SSLError(\"bad handshake: Error([('SSL routines', 'tls_process_server_certificate', 'certificate verify failed')])\")))\n",
      "Error https://encrypted-tbn0.gstatic.com/images?q=tbn%3AANd9GcThANV8iMiuVi-ZvM6wVTiuVQjNBW1V8a900yLhZME5h2_UNik1 HTTPSConnectionPool(host='encrypted-tbn0.gstatic.com', port=443): Max retries exceeded with url: /images?q=tbn%3AANd9GcThANV8iMiuVi-ZvM6wVTiuVQjNBW1V8a900yLhZME5h2_UNik1 (Caused by SSLError(SSLError(\"bad handshake: Error([('SSL routines', 'tls_process_server_certificate', 'certificate verify failed')])\")))\n",
      "Error https://encrypted-tbn0.gstatic.com/images?q=tbn%3AANd9GcSGRZ4yyK_uqgAmjInEqPUB-4o9phUMaIFocOYcOXl9xhmSR38h HTTPSConnectionPool(host='encrypted-tbn0.gstatic.com', port=443): Max retries exceeded with url: /images?q=tbn%3AANd9GcSGRZ4yyK_uqgAmjInEqPUB-4o9phUMaIFocOYcOXl9xhmSR38h (Caused by SSLError(SSLError(\"bad handshake: Error([('SSL routines', 'tls_process_server_certificate', 'certificate verify failed')])\")))\n",
      "Error https://encrypted-tbn0.gstatic.com/images?q=tbn%3AANd9GcS6zxvRoBBPestFkWWwQneFm6cjIV5m-wFGeVdrd_MhvEuQJs0L HTTPSConnectionPool(host='encrypted-tbn0.gstatic.com', port=443): Max retries exceeded with url: /images?q=tbn%3AANd9GcS6zxvRoBBPestFkWWwQneFm6cjIV5m-wFGeVdrd_MhvEuQJs0L (Caused by SSLError(SSLError(\"bad handshake: Error([('SSL routines', 'tls_process_server_certificate', 'certificate verify failed')])\")))\n",
      "Error https://encrypted-tbn0.gstatic.com/images?q=tbn%3AANd9GcSwetHNrYFQGVrzCfs56KuQDguOU60GgxOUUgmxBoGS-m6v4EpA HTTPSConnectionPool(host='encrypted-tbn0.gstatic.com', port=443): Max retries exceeded with url: /images?q=tbn%3AANd9GcSwetHNrYFQGVrzCfs56KuQDguOU60GgxOUUgmxBoGS-m6v4EpA (Caused by SSLError(SSLError(\"bad handshake: Error([('SSL routines', 'tls_process_server_certificate', 'certificate verify failed')])\")))\n",
      "Error https://encrypted-tbn0.gstatic.com/images?q=tbn%3AANd9GcQWHf87Z0n6m5Cw6YEaxgVEuAQtKhKzFKpn0o_KONoPCuo2MznO HTTPSConnectionPool(host='encrypted-tbn0.gstatic.com', port=443): Max retries exceeded with url: /images?q=tbn%3AANd9GcQWHf87Z0n6m5Cw6YEaxgVEuAQtKhKzFKpn0o_KONoPCuo2MznO (Caused by SSLError(SSLError(\"bad handshake: Error([('SSL routines', 'tls_process_server_certificate', 'certificate verify failed')])\")))\n",
      "Error https://encrypted-tbn0.gstatic.com/images?q=tbn%3AANd9GcTm6n0FrbZ7cQhRuQqKeRGjs8IfKvlir29jg5rP_RaPH7rhbE66 HTTPSConnectionPool(host='encrypted-tbn0.gstatic.com', port=443): Max retries exceeded with url: /images?q=tbn%3AANd9GcTm6n0FrbZ7cQhRuQqKeRGjs8IfKvlir29jg5rP_RaPH7rhbE66 (Caused by SSLError(SSLError(\"bad handshake: Error([('SSL routines', 'tls_process_server_certificate', 'certificate verify failed')])\")))\n",
      "Error https://encrypted-tbn0.gstatic.com/images?q=tbn%3AANd9GcTvA6GVjKFYwGv4WmaiNgF2J4KiOQtwr27tS0pK4eR5hxXiA_RV HTTPSConnectionPool(host='encrypted-tbn0.gstatic.com', port=443): Max retries exceeded with url: /images?q=tbn%3AANd9GcTvA6GVjKFYwGv4WmaiNgF2J4KiOQtwr27tS0pK4eR5hxXiA_RV (Caused by SSLError(SSLError(\"bad handshake: Error([('SSL routines', 'tls_process_server_certificate', 'certificate verify failed')])\")))\n",
      "Error https://encrypted-tbn0.gstatic.com/images?q=tbn%3AANd9GcRvaHW2anLE52s0dldVY98MqDnaXT_A8HdxxDTF6n4z56fJbtEp HTTPSConnectionPool(host='encrypted-tbn0.gstatic.com', port=443): Max retries exceeded with url: /images?q=tbn%3AANd9GcRvaHW2anLE52s0dldVY98MqDnaXT_A8HdxxDTF6n4z56fJbtEp (Caused by SSLError(SSLError(\"bad handshake: Error([('SSL routines', 'tls_process_server_certificate', 'certificate verify failed')])\")))\n"
     ]
    },
    {
     "name": "stdout",
     "output_type": "stream",
     "text": [
      "Error https://encrypted-tbn0.gstatic.com/images?q=tbn%3AANd9GcRpVfu9i2uYYjz-Zzh-4KG6oIA_uhL5eq95bGRHz8QRYZXBzQry HTTPSConnectionPool(host='encrypted-tbn0.gstatic.com', port=443): Max retries exceeded with url: /images?q=tbn%3AANd9GcRpVfu9i2uYYjz-Zzh-4KG6oIA_uhL5eq95bGRHz8QRYZXBzQry (Caused by SSLError(SSLError(\"bad handshake: Error([('SSL routines', 'tls_process_server_certificate', 'certificate verify failed')])\")))\n",
      "Error https://encrypted-tbn0.gstatic.com/images?q=tbn%3AANd9GcTiJPBGW8w6r4sKA0t9LSFOp6oBCYjfPAcSmbQGmWp6HXNmnC_i HTTPSConnectionPool(host='encrypted-tbn0.gstatic.com', port=443): Max retries exceeded with url: /images?q=tbn%3AANd9GcTiJPBGW8w6r4sKA0t9LSFOp6oBCYjfPAcSmbQGmWp6HXNmnC_i (Caused by SSLError(SSLError(\"bad handshake: Error([('SSL routines', 'tls_process_server_certificate', 'certificate verify failed')])\")))\n",
      "Error https://encrypted-tbn0.gstatic.com/images?q=tbn%3AANd9GcSdIuG6CxMbMLD2e-ay2c34ZUgPdyys5oYo-1QYcEvxaOyN_3Mz HTTPSConnectionPool(host='encrypted-tbn0.gstatic.com', port=443): Max retries exceeded with url: /images?q=tbn%3AANd9GcSdIuG6CxMbMLD2e-ay2c34ZUgPdyys5oYo-1QYcEvxaOyN_3Mz (Caused by SSLError(SSLError(\"bad handshake: Error([('SSL routines', 'tls_process_server_certificate', 'certificate verify failed')])\")))\n"
     ]
    }
   ],
   "source": [
    "folder = 'motorcycles'\n",
    "file = 'motorcycles.csv'\n",
    "\n",
    "dest = path/folder\n",
    "dest.mkdir(parents=True, exist_ok=True)\n",
    "\n",
    "download_images(path/file, dest, max_pics=200, max_workers=0)"
   ]
  },
  {
   "cell_type": "markdown",
   "metadata": {},
   "source": [
    "# Data"
   ]
  },
  {
   "cell_type": "code",
   "execution_count": null,
   "metadata": {},
   "outputs": [],
   "source": [
    "# 1. These must match the folder names\n",
    "# 2. note: these folders should be inside new 'data' folder\n",
    "classes = ['cycles','motorcycles']"
   ]
  },
  {
   "cell_type": "code",
   "execution_count": null,
   "metadata": {},
   "outputs": [],
   "source": [
    "# Arrange the images for processing\n",
    "# Take 20% (valid_pct) and \"Hide it\" from training - The 20% of the images will be used to check how good the classifier is\n",
    "np.random.seed(42)\n",
    "data = ImageDataBunch.from_folder(path, train=\".\", bs=4, valid_pct=0.2,\n",
    "        ds_tfms=get_transforms(), size=224, num_workers=0).normalize(imagenet_stats)"
   ]
  },
  {
   "cell_type": "code",
   "execution_count": null,
   "metadata": {},
   "outputs": [],
   "source": [
    "data.classes, data.c, len(data.train_ds), len(data.valid_ds)"
   ]
  },
  {
   "cell_type": "code",
   "execution_count": null,
   "metadata": {},
   "outputs": [],
   "source": [
    "data.show_batch(rows=3, figsize=(7,8))"
   ]
  },
  {
   "cell_type": "markdown",
   "metadata": {},
   "source": [
    "# Train"
   ]
  },
  {
   "cell_type": "code",
   "execution_count": null,
   "metadata": {},
   "outputs": [],
   "source": [
    "learn = cnn_learner(data, models.resnet34, metrics=error_rate)"
   ]
  },
  {
   "cell_type": "code",
   "execution_count": null,
   "metadata": {},
   "outputs": [],
   "source": [
    "learn.fit_one_cycle(5)"
   ]
  },
  {
   "cell_type": "code",
   "execution_count": null,
   "metadata": {},
   "outputs": [],
   "source": [
    "interp = ClassificationInterpretation.from_learner(learn)"
   ]
  },
  {
   "cell_type": "code",
   "execution_count": null,
   "metadata": {},
   "outputs": [],
   "source": [
    "interp.plot_confusion_matrix()"
   ]
  },
  {
   "cell_type": "code",
   "execution_count": null,
   "metadata": {},
   "outputs": [],
   "source": [
    "interp.plot_top_losses(9, figsize=(15,11))"
   ]
  },
  {
   "cell_type": "code",
   "execution_count": null,
   "metadata": {},
   "outputs": [],
   "source": [
    "learn.unfreeze()"
   ]
  },
  {
   "cell_type": "code",
   "execution_count": null,
   "metadata": {},
   "outputs": [],
   "source": [
    "learn.lr_find()"
   ]
  },
  {
   "cell_type": "code",
   "execution_count": null,
   "metadata": {},
   "outputs": [],
   "source": [
    "# If the plot is not showing try to give a start and end learning rate\n",
    "learn.lr_find(start_lr=1e-18, end_lr=1e-1)\n",
    "learn.recorder.plot()"
   ]
  },
  {
   "cell_type": "code",
   "execution_count": null,
   "metadata": {},
   "outputs": [],
   "source": [
    "learn.fit_one_cycle(20, max_lr=slice(3e-11,3e-3))"
   ]
  },
  {
   "cell_type": "code",
   "execution_count": null,
   "metadata": {},
   "outputs": [],
   "source": [
    "learn.recorder.plot_losses()\n",
    "learn.recorder.plot_lr(show_moms=True)\n",
    "if len(learn.recorder.metrics)>0: learn.recorder.plot_metrics()"
   ]
  },
  {
   "cell_type": "code",
   "execution_count": null,
   "metadata": {},
   "outputs": [],
   "source": [
    "interp = ClassificationInterpretation.from_learner(learn)\n",
    "interp.plot_confusion_matrix(figsize=(12,12), dpi=60)"
   ]
  },
  {
   "cell_type": "code",
   "execution_count": null,
   "metadata": {},
   "outputs": [],
   "source": [
    "interp.plot_top_losses(9, figsize=(15,11))"
   ]
  },
  {
   "cell_type": "code",
   "execution_count": null,
   "metadata": {},
   "outputs": [],
   "source": []
  }
 ],
 "metadata": {
  "kernelspec": {
   "display_name": "Python 3",
   "language": "python",
   "name": "python3"
  },
  "language_info": {
   "codemirror_mode": {
    "name": "ipython",
    "version": 3
   },
   "file_extension": ".py",
   "mimetype": "text/x-python",
   "name": "python",
   "nbconvert_exporter": "python",
   "pygments_lexer": "ipython3",
   "version": "3.7.6"
  }
 },
 "nbformat": 4,
 "nbformat_minor": 4
}
